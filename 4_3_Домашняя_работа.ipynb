{
  "nbformat": 4,
  "nbformat_minor": 0,
  "metadata": {
    "colab": {
      "provenance": []
    },
    "kernelspec": {
      "name": "python3",
      "display_name": "Python 3"
    },
    "language_info": {
      "name": "python"
    }
  },
  "cells": [
    {
      "cell_type": "markdown",
      "source": [
        "## Задача 1. Случайный номерной знак"
      ],
      "metadata": {
        "id": "Bh5tu_5BH-rG"
      }
    },
    {
      "cell_type": "markdown",
      "source": [
        "**Условие.** Представьте, что в вашем регионе устаревшим является формат номерных автомобильных знаков из трех букв, следом за которыми идут три цифры. Когда все номера такого шаблона закончились, было решено обновить формат, поставив в начало четыре цифры, а за ними три буквы.\n",
        "Напишите функцию, которая будет генерировать случайный номерной знак. При этом номера в старом и новом форматах должны создаваться примерно с одинаковой вероятностью. В основной программе нужно сгенерировать и вывести на экран случайный номерной знак."
      ],
      "metadata": {
        "id": "pLn92q_iLp_k"
      }
    },
    {
      "cell_type": "code",
      "execution_count": null,
      "metadata": {
        "id": "El4o9_QWeq78",
        "colab": {
          "base_uri": "https://localhost:8080/"
        },
        "outputId": "02ffa8c4-a466-4144-8eb0-83f7f793a67f"
      },
      "outputs": [
        {
          "output_type": "stream",
          "name": "stdout",
          "text": [
            "случайный автомобильный номер - 2639iqA\n"
          ]
        }
      ],
      "source": [
        "# свое решение\n",
        "import string\n",
        "from random import choice as c\n",
        "\n",
        "letters = string.ascii_letters    # англ. алфавит верхний+нижний регистр\n",
        "nums = string.digits              # цифры\n",
        "format = ['old', 'new']\n",
        "\n",
        "def old_or_new(format):           # выбор формата знака\n",
        "    return c(format)\n",
        "\n",
        "def auto_number(f = old_or_new(format)):\n",
        "    if f == 'old':\n",
        "        gen = ''\n",
        "        for i in range(3):\n",
        "            gen += c(letters)\n",
        "        for j in range(3):\n",
        "            gen += c(nums)\n",
        "    elif f == 'new':\n",
        "        gen = ''\n",
        "        for i in range(4):\n",
        "            gen += c(nums)\n",
        "        for j in range(3):\n",
        "            gen += c(letters)\n",
        "    return gen\n",
        "\n",
        "def main():\n",
        "    print('случайный автомобильный номер -', auto_number())\n",
        "\n",
        "if __name__ == '__main__':\n",
        "    main()\n"
      ]
    },
    {
      "cell_type": "markdown",
      "source": [
        "## Задача 2. Шестнадцатеричные и десятичные числа"
      ],
      "metadata": {
        "id": "I4wpSF3IMHdX"
      }
    },
    {
      "cell_type": "markdown",
      "source": [
        "**Условие.** Напишите две функции с  именами hex2int и  int2hex для конвертации\n",
        "значений из шестнадцатеричной системы счисления (0, 1, 2, 3, 4, 5, 6, 7, 8, 9, A, B, C, D, E и F) в десятичную (по основанию 10) и обратно. Функция hex2int должна принимать на вход строку с единственным символом в  шестнадцатеричной системе и  преобразовывать его в  число от нуля до 15 в десятичной системе, тогда как функция int2hex будет выполнять обратное действие – принимать десятичное число из диапазона от 0 до 15 и возвращать шестнадцатеричный эквивалент. Обе функции должны принимать единственный параметр со входным значением и возвращать преобразованное число. Удостоверьтесь, что функция hex2int корректно обрабатывает буквы в верхнем и нижнем регистрах. Если введенное пользователем значение выходит за допустимые границы, вы должны вывести сообщение об ошибке."
      ],
      "metadata": {
        "id": "mYg_KnVwMStB"
      }
    },
    {
      "cell_type": "code",
      "source": [
        "# 1)\n",
        "\n",
        "hex_dict = {'A': 10, 'B': 11, 'C': 12, 'D': 13, 'E': 14,'F': 15}\n",
        "\n",
        "def hex2int(s):              # из 16ти в 10ти\n",
        "    s = s.upper()\n",
        "    if s in hex_dict:\n",
        "        return f'в 10тиричной системе - {hex_dict[s]}'\n",
        "    else:\n",
        "        return 'неверно введенные данные'\n",
        "\n",
        "def main():\n",
        "    print(hex2int(input('введи символ 16тиричной системы(A, B, C, D, E, F): ')))\n",
        "\n",
        "if __name__ == '__main__':\n",
        "    main()"
      ],
      "metadata": {
        "id": "j4R38AofMTBX",
        "colab": {
          "base_uri": "https://localhost:8080/"
        },
        "outputId": "b5db0a3f-aea6-41e5-9e5e-1c596b2a9086"
      },
      "execution_count": null,
      "outputs": [
        {
          "output_type": "stream",
          "name": "stdout",
          "text": [
            "введи символ 16тиричной системы(A, B, C, D, E, F): c\n",
            "в 10тиричной системе - 12\n"
          ]
        }
      ]
    },
    {
      "cell_type": "code",
      "source": [
        "# 2)\n",
        "hex_dict = {10: 'A', 11: 'B', 12: 'C', 13: 'D', 14: 'E', 15: 'F'}\n",
        "\n",
        "def int2hex(n):              # из 10ти в 16ти\n",
        "    n = int(n)\n",
        "    if n < 10:\n",
        "        return 'число меньше 10 остается без изменений'\n",
        "    elif 9 < n < 16 :\n",
        "        return f'в 16ричной системе - {hex_dict[n]}'\n",
        "\n",
        "def main():\n",
        "    print(int2hex(input('введи число (от 0 до 15): ')))\n",
        "\n",
        "if __name__ == '__main__':\n",
        "    main()"
      ],
      "metadata": {
        "colab": {
          "base_uri": "https://localhost:8080/"
        },
        "id": "3Innan5d6_0I",
        "outputId": "a7bc3757-63d2-4be2-f62e-07b1757c49ab"
      },
      "execution_count": null,
      "outputs": [
        {
          "output_type": "stream",
          "name": "stdout",
          "text": [
            "введи число (от 0 до 15): 12\n",
            "в 16ричной системе - C\n"
          ]
        }
      ]
    },
    {
      "cell_type": "markdown",
      "source": [
        "## Задача 3. Беспилотный автомобиль"
      ],
      "metadata": {
        "id": "RIOKyPjlMZA_"
      }
    },
    {
      "cell_type": "markdown",
      "source": [
        "**Условие.** Это творческая задача. Представьте, что вы проектируете беспилотный автомобиль. Вам необходимо продумать, какими свойствами он обладает и какие действия совершает. Создайте класс беспилотный автомобиль и сохраните его в виде программного модуля. Импортируете класс и инициализируйте новый объект.  "
      ],
      "metadata": {
        "id": "OlVQTKYrMZBA"
      }
    },
    {
      "cell_type": "code",
      "source": [
        "# свое решение\n",
        "%%writefile car.py\n",
        "\n",
        "class Car(object):\n",
        "    name_class = 'беспилотный автомобиль'\n",
        "\n",
        "    def __init__ (self, brand, weight, power):\n",
        "        self.brand = brand\n",
        "        self.weight = weight\n",
        "        self.power = power\n",
        "\n",
        "    def drive(self):\n",
        "        print('симуляция движения')\n",
        "\n",
        "    def brake(self):\n",
        "        print('симуляция остановки')\n",
        "\n",
        "    def beep(self):\n",
        "        print('симуляция звукового сигнала')"
      ],
      "metadata": {
        "id": "U2JxR4KOMZBA",
        "colab": {
          "base_uri": "https://localhost:8080/"
        },
        "outputId": "d3a55306-c8fb-4f24-ffeb-45d3bcd238c5"
      },
      "execution_count": null,
      "outputs": [
        {
          "output_type": "stream",
          "name": "stdout",
          "text": [
            "Writing car.py\n"
          ]
        }
      ]
    },
    {
      "cell_type": "code",
      "source": [
        "from car import Car\n",
        "new_car = Car('reno', 1200, 250)\n",
        "\n",
        "new_car.beep()\n",
        "new_car.brake()\n",
        "new_car.drive()\n",
        "print()\n",
        "print(new_car.name_class)\n",
        "print(new_car.power)"
      ],
      "metadata": {
        "colab": {
          "base_uri": "https://localhost:8080/"
        },
        "id": "QYl9cRvQFiO_",
        "outputId": "67117372-89fb-4527-dc88-36591ff6a5d5"
      },
      "execution_count": null,
      "outputs": [
        {
          "output_type": "stream",
          "name": "stdout",
          "text": [
            "симуляция звукового сигнала\n",
            "симуляция остановки\n",
            "симуляция движения\n",
            "\n",
            "беспилотный автомобиль\n",
            "250\n"
          ]
        }
      ]
    }
  ]
}