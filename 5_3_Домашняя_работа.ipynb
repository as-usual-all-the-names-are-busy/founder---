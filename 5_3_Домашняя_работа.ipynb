{
  "nbformat": 4,
  "nbformat_minor": 0,
  "metadata": {
    "colab": {
      "provenance": []
    },
    "kernelspec": {
      "name": "python3",
      "display_name": "Python 3"
    },
    "language_info": {
      "name": "python"
    }
  },
  "cells": [
    {
      "cell_type": "markdown",
      "source": [
        "## Задача 1. Класс Neuron"
      ],
      "metadata": {
        "id": "B5IghQAm20sG"
      }
    },
    {
      "cell_type": "markdown",
      "source": [
        "**Условие** Используя примеры из теоретической части 5.1 и 5.2, составьте класс Neuron модели нейрона, принимающего на вход от одного до 10 входных параметров. Запрещается пользоваться библиотекой numpy. На вход подается список. Матричное умножение реализуется с помощью циклов самостоятельно. Класс содержит методы для вычисления взвешенной суммы, а также содержит функции активации из урока."
      ],
      "metadata": {
        "id": "BxRUPNKFrxow"
      }
    },
    {
      "cell_type": "code",
      "execution_count": null,
      "metadata": {
        "id": "El4o9_QWeq78",
        "colab": {
          "base_uri": "https://localhost:8080/"
        },
        "outputId": "7f99b6b7-ba61-4b7a-a0a8-319801341468"
      },
      "outputs": [
        {
          "output_type": "stream",
          "name": "stdout",
          "text": [
            "1\n",
            "1\n",
            "0.7310585786300049\n",
            "1\n",
            "1\n",
            "1\n"
          ]
        }
      ],
      "source": [
        "# принимающего на вход от одного до 10 входных параметров. Запрещается пользоваться библиотекой numpy. На вход подается список ???\n",
        "# как понимать эту строчку - подается на вход 10 параметров или список?\n",
        "# почему нет примеров входных данных, которые можно было бы подставить в свой код для проверки работоспособности\n",
        "# где информация по матричному умножению - по идеи должна была быть в разделе вместе с вложенными списками??? по сути этому не учили!!!\n",
        "# почему нет обьяснения что делают конкретные функции из библиотеки numpy? например np.exp ? как сделать аналог не используя библиотеку если не знать что делает функция????\n",
        "\n",
        "from math import exp\n",
        "class Neuron:\n",
        "    def __init__(self, w):\n",
        "        self.w = w\n",
        "\n",
        "    def mn(self, x):\n",
        "        s = sum(list(map(lambda i, j: i*j, self.w, x)))\n",
        "        return s\n",
        "\n",
        "    def activ1(self, x):\n",
        "        if x >= 0:\n",
        "            return 1\n",
        "        else:\n",
        "            return 0\n",
        "\n",
        "    def sig(self, x):\n",
        "        return 1 / (1 + exp(-x))\n",
        "\n",
        "    def relu(self, x):\n",
        "        if x > 0:\n",
        "            return x\n",
        "        else:\n",
        "            return 0\n",
        "\n",
        "    def l_relu(self, x, alfa=0.1):\n",
        "        if x > 0:\n",
        "            return x\n",
        "        else:\n",
        "            return x*alfa\n",
        "\n",
        "    def elu(self, x, alfa=0.1):\n",
        "        if x > 0:\n",
        "            return x\n",
        "        else:\n",
        "            return alfa * (exp(x)-1)\n",
        "\n",
        "\n",
        "xi = [1, 0, 0, 1]\n",
        "wi = [5, 4, 1, 1]\n",
        "n = Neuron(wi)\n",
        "bias = 5\n",
        "s = n.mn(xi) - bias\n",
        "\n",
        "print(s)\n",
        "print(n.activ1(s))\n",
        "print(n.sig(s))\n",
        "print(n.relu(s))\n",
        "print(n.l_relu(s))\n",
        "print(n.elu(s))"
      ]
    },
    {
      "cell_type": "markdown",
      "source": [
        "## Задача 2. Класс Neuron (продолжение)"
      ],
      "metadata": {
        "id": "BXPoR8av3AUx"
      }
    },
    {
      "cell_type": "markdown",
      "source": [
        "**Условие.** Используя класс Neuron из первой задачи, придумай свой пример задачи на принятие решения (по аналогии с задачей \"о рыбаке и рыбке\"), не менее 4 входных параметров, веса установить произвольно из логики задачи, произведи расчёт функций активаций, определённых в классе первой задачи."
      ],
      "metadata": {
        "id": "KLC5Gv3L3CP_"
      }
    },
    {
      "cell_type": "code",
      "source": [
        "# не менее 4 входных параметров - как конкретно это понимать? имеется ввиду что 4 элемента должно быть в списке которых будет на вход или что?\n",
        "# не пойму нужно ли здесь сделать что то, чего не сделано в задаче выше?\n",
        "# очень непонятные условия с кучей непонятных терминов"
      ],
      "metadata": {
        "id": "yr-i4FFg3DAf"
      },
      "execution_count": null,
      "outputs": []
    }
  ]
}