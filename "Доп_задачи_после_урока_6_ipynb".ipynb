{
  "nbformat": 4,
  "nbformat_minor": 0,
  "metadata": {
    "colab": {
      "provenance": []
    },
    "kernelspec": {
      "name": "python3",
      "display_name": "Python 3"
    },
    "language_info": {
      "name": "python"
    }
  },
  "cells": [
    {
      "cell_type": "markdown",
      "source": [
        "Прежде чем начать работать с данным API, необходимо зарегистрировать ваше приложение на Reddit. Для этого выполните следующие действия:\n",
        "1.\tВойдите в свою учетную запись на reddit.com.\n",
        "2.\tПерейдите на страницу приложений.\n",
        "3.\tНажмите на кнопку «Create App» или «Create Another App».\n",
        "4.\tЗаполните форму, выберите тип приложения (script) и нажмите «Create app».\n",
        "После регистрации приложения у вас появятся данные, необходимые для доступа к API: client_id, client_secret и redirect_uri.\n"
      ],
      "metadata": {
        "id": "lIJdcTkiCt_v"
      }
    },
    {
      "cell_type": "markdown",
      "source": [
        "# Инициализация PRAW и подключение к API"
      ],
      "metadata": {
        "id": "oyUVV36MCzVH"
      }
    },
    {
      "cell_type": "code",
      "source": [
        "pip install praw"
      ],
      "metadata": {
        "colab": {
          "base_uri": "https://localhost:8080/"
        },
        "id": "BvcyKWoUnimL",
        "outputId": "b021c115-0906-429b-f0c5-23c7369609c5"
      },
      "execution_count": null,
      "outputs": [
        {
          "output_type": "stream",
          "name": "stdout",
          "text": [
            "Collecting praw\n",
            "  Downloading praw-7.7.1-py3-none-any.whl (191 kB)\n",
            "\u001b[?25l     \u001b[90m━━━━━━━━━━━━━━━━━━━━━━━━━━━━━━━━━━━━━━━━\u001b[0m \u001b[32m0.0/191.0 kB\u001b[0m \u001b[31m?\u001b[0m eta \u001b[36m-:--:--\u001b[0m\r\u001b[2K     \u001b[91m━━━━━━━━━━━━\u001b[0m\u001b[91m╸\u001b[0m\u001b[90m━━━━━━━━━━━━━━━━━━━━━━━━━━━\u001b[0m \u001b[32m61.4/191.0 kB\u001b[0m \u001b[31m1.6 MB/s\u001b[0m eta \u001b[36m0:00:01\u001b[0m\r\u001b[2K     \u001b[91m━━━━━━━━━━━━━━━━━━━━━━━━━━━━━━━━━━━━━━\u001b[0m\u001b[91m╸\u001b[0m\u001b[90m━\u001b[0m \u001b[32m184.3/191.0 kB\u001b[0m \u001b[31m2.9 MB/s\u001b[0m eta \u001b[36m0:00:01\u001b[0m\r\u001b[2K     \u001b[90m━━━━━━━━━━━━━━━━━━━━━━━━━━━━━━━━━━━━━━━━\u001b[0m \u001b[32m191.0/191.0 kB\u001b[0m \u001b[31m1.8 MB/s\u001b[0m eta \u001b[36m0:00:00\u001b[0m\n",
            "\u001b[?25hCollecting prawcore<3,>=2.1 (from praw)\n",
            "  Downloading prawcore-2.4.0-py3-none-any.whl (17 kB)\n",
            "Collecting update-checker>=0.18 (from praw)\n",
            "  Downloading update_checker-0.18.0-py3-none-any.whl (7.0 kB)\n",
            "Requirement already satisfied: websocket-client>=0.54.0 in /usr/local/lib/python3.10/dist-packages (from praw) (1.8.0)\n",
            "Requirement already satisfied: requests<3.0,>=2.6.0 in /usr/local/lib/python3.10/dist-packages (from prawcore<3,>=2.1->praw) (2.31.0)\n",
            "Requirement already satisfied: charset-normalizer<4,>=2 in /usr/local/lib/python3.10/dist-packages (from requests<3.0,>=2.6.0->prawcore<3,>=2.1->praw) (3.3.2)\n",
            "Requirement already satisfied: idna<4,>=2.5 in /usr/local/lib/python3.10/dist-packages (from requests<3.0,>=2.6.0->prawcore<3,>=2.1->praw) (3.7)\n",
            "Requirement already satisfied: urllib3<3,>=1.21.1 in /usr/local/lib/python3.10/dist-packages (from requests<3.0,>=2.6.0->prawcore<3,>=2.1->praw) (2.0.7)\n",
            "Requirement already satisfied: certifi>=2017.4.17 in /usr/local/lib/python3.10/dist-packages (from requests<3.0,>=2.6.0->prawcore<3,>=2.1->praw) (2024.6.2)\n",
            "Installing collected packages: update-checker, prawcore, praw\n",
            "Successfully installed praw-7.7.1 prawcore-2.4.0 update-checker-0.18.0\n"
          ]
        }
      ]
    },
    {
      "cell_type": "markdown",
      "source": [
        "Далее можно подключиться к API и начать работать с ним. Сначала нужно создать объект Reddit с помощью PRAW:"
      ],
      "metadata": {
        "id": "m96s1JrIC2kP"
      }
    },
    {
      "cell_type": "code",
      "source": [
        "import praw\n",
        "\n",
        "reddit = praw.Reddit(\n",
        "    client_id=\"Vlpym5ILoQrpr0zQrZdztA\",\n",
        "    client_secret=\"YASnekZMa8TBRDwyMYSYahDBQ91QKw\",\n",
        "    redirect_uri=\"https://www.reddit.com/\",\n",
        "    user_agent=\"test:v1.0.0 (by/u/Dependent-Weakness71)\")\n"
      ],
      "metadata": {
        "id": "cWzns0acC6FG"
      },
      "execution_count": null,
      "outputs": []
    },
    {
      "cell_type": "markdown",
      "source": [
        "Здесь нужно заменить client_id, client_secret, redirect_uri и user_agent на значения, полученные вами после регистрации."
      ],
      "metadata": {
        "id": "bFiX4efuC9uv"
      }
    },
    {
      "cell_type": "markdown",
      "source": [
        "# Получение данных с Reddit"
      ],
      "metadata": {
        "id": "dUJcPJc-DFTn"
      }
    },
    {
      "cell_type": "markdown",
      "source": [
        "Объект reddit можно использовать для получения данных с платформы. Например, давайте получим топ 10 постов со страницы «all»:"
      ],
      "metadata": {
        "id": "Pj0vR56LDH4z"
      }
    },
    {
      "cell_type": "code",
      "source": [
        "top_posts = reddit.subreddit(\"all\").top(limit=10)\n",
        "\n",
        "for post in top_posts:\n",
        "    print(post.title)"
      ],
      "metadata": {
        "id": "ZzWPq3xFDOGv",
        "colab": {
          "base_uri": "https://localhost:8080/"
        },
        "outputId": "02965c72-5cae-48ec-96aa-f05a4d356eca"
      },
      "execution_count": null,
      "outputs": [
        {
          "output_type": "stream",
          "name": "stderr",
          "text": [
            "WARNING:praw:It appears that you are using PRAW in an asynchronous environment.\n",
            "It is strongly recommended to use Async PRAW: https://asyncpraw.readthedocs.io.\n",
            "See https://praw.readthedocs.io/en/latest/getting_started/multiple_instances.html#discord-bots-and-asynchronous-environments for more info.\n",
            "\n"
          ]
        },
        {
          "output_type": "stream",
          "name": "stdout",
          "text": [
            "I’ve found a few funny memories during lockdown. This is from my 1st tour in 89, backstage in Vegas.\n",
            "Times Square right now\n",
            "Joe Biden elected president of the United States\n",
            "The Senate. Upvote this so that people see it when they Google \"The Senate\".\n",
            "My cab driver tonight was so excited to share with me that he’d made the cover of the calendar. I told him I’d help let the world see\n",
            "UPVOTE so everyone sees we got SUPPORT\n",
            "A short story\n",
            "Guardians of the Front Page\n",
            "This is what happens when one company owns dozens of local news stations\n",
            "Heat index was 110 degrees so we offered him a cold drink. He went for a full body soak instead\n"
          ]
        }
      ]
    },
    {
      "cell_type": "markdown",
      "source": [
        "Этот код выводит заголовки топ 10 постов на странице «all» Reddit."
      ],
      "metadata": {
        "id": "J6nhVbI9DPf_"
      }
    },
    {
      "cell_type": "markdown",
      "source": [
        "# Работа с комментариями"
      ],
      "metadata": {
        "id": "_6WX6TkgDVG-"
      }
    },
    {
      "cell_type": "markdown",
      "source": [
        "Также с помощью объекта reddit можно получать комментарии к постам. Например, с помощью кода ниже можно получить топ 5 комментариев для первого поста из списка:"
      ],
      "metadata": {
        "id": "Ez_sdu4YDYWb"
      }
    },
    {
      "cell_type": "code",
      "source": [
        "post = next(reddit.subreddit(\"all\").top(limit=1))\n",
        "top_comments = post.comments.list()[:5]\n",
        "\n",
        "for comment in top_comments:\n",
        "    print(comment.body)"
      ],
      "metadata": {
        "id": "HGYxgfE_DcGK",
        "colab": {
          "base_uri": "https://localhost:8080/"
        },
        "outputId": "5884e34b-ca68-4e34-d626-62da96ee15ab"
      },
      "execution_count": null,
      "outputs": [
        {
          "output_type": "stream",
          "name": "stderr",
          "text": [
            "WARNING:praw:It appears that you are using PRAW in an asynchronous environment.\n",
            "It is strongly recommended to use Async PRAW: https://asyncpraw.readthedocs.io.\n",
            "See https://praw.readthedocs.io/en/latest/getting_started/multiple_instances.html#discord-bots-and-asynchronous-environments for more info.\n",
            "\n",
            "WARNING:praw:It appears that you are using PRAW in an asynchronous environment.\n",
            "It is strongly recommended to use Async PRAW: https://asyncpraw.readthedocs.io.\n",
            "See https://praw.readthedocs.io/en/latest/getting_started/multiple_instances.html#discord-bots-and-asynchronous-environments for more info.\n",
            "\n"
          ]
        },
        {
          "output_type": "stream",
          "name": "stdout",
          "text": [
            "WHY DO I ALWAYS MISS THE COOLEST STUFF?? AW MAAAAN!\n",
            "Thanks all for the love,  comments, DMs etc!  And finally, u/theMalleableDuck I salute you! Rick x\n",
            "250k! Wtf 🤣🙏\n",
            "Edit: 300k!!\n",
            "I may not be the biggest fan of your music, but I am forever a fan of you.\n",
            "\n",
            "Thanks for being such a good sport with the internet.  It can be a hateful place, but you have inadvertently (or maybe it was your plan all along) created one of the longest-running, formidable, and hard to see coming memes/trolls of the digital age.\n",
            "\n",
            "For that, we immortalize you in a way most people can only dream.  We thank you and we honor you at the same time.\n",
            "Hey Rick! \n",
            "\n",
            "My dad used to work with your brother in law at an aerospace place in Wigan. He's only ever heard good things about you, which means I've only ever heard good things about you. I just wanted to say hello. So, hello!\n"
          ]
        }
      ]
    },
    {
      "cell_type": "markdown",
      "source": [
        "Этот код выводит текст топ 5 комментариев для первого поста на странице «all»."
      ],
      "metadata": {
        "id": "s8nJSjCsDbLS"
      }
    },
    {
      "cell_type": "markdown",
      "source": [
        "По примеру выше выполните следующие задачи (все использованные в задачах API взяты из списка, получаемого по приведенной выше ссылке).\n"
      ],
      "metadata": {
        "id": "Z8EQIUnDDjba"
      }
    },
    {
      "cell_type": "markdown",
      "source": [
        "# Задание 1."
      ],
      "metadata": {
        "id": "fS6yNsI8DpK2"
      }
    },
    {
      "cell_type": "markdown",
      "source": [
        "**Работа с API News API**\n",
        "1. Получить и вывести список последних 10-ти новостей, выпущенных информационным агентством BBC;\n",
        "2. Получить и вывести список информационных агентств, публикующих новости на испанском языке;\n",
        "3. Получить и вывести список 5-ти последних новостей связанных с ИИ."
      ],
      "metadata": {
        "id": "MIQktPzPDrqa"
      }
    },
    {
      "cell_type": "code",
      "source": [
        "pip install newsapi-python"
      ],
      "metadata": {
        "colab": {
          "base_uri": "https://localhost:8080/"
        },
        "id": "l52ulTxXZOqW",
        "outputId": "0b7eae89-5b38-4930-a698-b627446ac948"
      },
      "execution_count": null,
      "outputs": [
        {
          "output_type": "stream",
          "name": "stdout",
          "text": [
            "Collecting newsapi-python\n",
            "  Downloading newsapi_python-0.2.7-py2.py3-none-any.whl (7.9 kB)\n",
            "Requirement already satisfied: requests<3.0.0 in /usr/local/lib/python3.10/dist-packages (from newsapi-python) (2.31.0)\n",
            "Requirement already satisfied: charset-normalizer<4,>=2 in /usr/local/lib/python3.10/dist-packages (from requests<3.0.0->newsapi-python) (3.3.2)\n",
            "Requirement already satisfied: idna<4,>=2.5 in /usr/local/lib/python3.10/dist-packages (from requests<3.0.0->newsapi-python) (3.7)\n",
            "Requirement already satisfied: urllib3<3,>=1.21.1 in /usr/local/lib/python3.10/dist-packages (from requests<3.0.0->newsapi-python) (2.0.7)\n",
            "Requirement already satisfied: certifi>=2017.4.17 in /usr/local/lib/python3.10/dist-packages (from requests<3.0.0->newsapi-python) (2024.6.2)\n",
            "Installing collected packages: newsapi-python\n",
            "Successfully installed newsapi-python-0.2.7\n"
          ]
        }
      ]
    },
    {
      "cell_type": "code",
      "source": [
        "import requests\n",
        "\n",
        "api_key = 'c5c0f0849c8a4b688a9b37976a7e979c'\n",
        "\n",
        "url = f'https://newsapi.org/v2/top-headlines?sources=bbc-news&apiKey={api_key}&pageSize=10'\n",
        "\n",
        "response = requests.get(url)\n",
        "news_list = response.json()['articles']\n",
        "\n",
        "for i, news in enumerate(news_list):\n",
        "    print(f'{i+1}. {news[\"title\"]}')\n"
      ],
      "metadata": {
        "colab": {
          "base_uri": "https://localhost:8080/"
        },
        "id": "Evf3OFS-ZSIG",
        "outputId": "5fbe1fd3-dfbd-4dd5-8ce9-e72f363d968f"
      },
      "execution_count": null,
      "outputs": [
        {
          "output_type": "stream",
          "name": "stdout",
          "text": [
            "1. US workers in debt to buy groceries - 'I had to downgrade my life'\n",
            "2. Four more senior Democrats privately urge Biden to step aside\n",
            "3. French people reject far right at parliamentary elections - again\n",
            "4. Pistols Napoleon meant to use to take his own life sell for €1.69m\n",
            "5. At least 20 dead after 'massive' Russian missile attack on Ukraine cities\n",
            "6. Hurricane Beryl: Texas braces as deadly storm makes landfall\n",
            "7. Hollywood icon Paramount agrees merger deal\n",
            "8. Boeing pleads guilty and will pay $243.6m in controversial deal\n",
            "9. What just happened in France's shock election?\n",
            "10. France's far right 'sad and disappointed' over election result\n"
          ]
        }
      ]
    },
    {
      "cell_type": "code",
      "source": [
        "from newsapi import NewsApiClient\n",
        "\n",
        "api = NewsApiClient(api_key='c5c0f0849c8a4b688a9b37976a7e979c')\n",
        "a = api.get_everything(q='news', language='es')['articles']\n",
        "b = list(set([i['source']['name'] for i in a]))\n",
        "\n",
        "for i in b:\n",
        "    print(i)"
      ],
      "metadata": {
        "colab": {
          "base_uri": "https://localhost:8080/"
        },
        "id": "0879DOWdBfUi",
        "outputId": "f9bc7c87-1a04-4332-ec51-491745d554d0"
      },
      "execution_count": null,
      "outputs": [
        {
          "output_type": "stream",
          "name": "stdout",
          "text": [
            "El Mundo\n",
            "Muyinteresante.com\n",
            "Xatakamovil.com\n",
            "Jornada.com.mx\n",
            "CNN\n",
            "Hipertextual\n",
            "Jotdown.es\n",
            "Merca20.com\n",
            "BBC News\n",
            "Gizmodo.com\n",
            "Marca\n",
            "Eldiario.es\n",
            "Xataka.com\n",
            "Wwwhatsnew.com\n",
            "Xataka Android\n",
            "Puromarketing.com\n",
            "La Vanguardia\n",
            "Codigogeek.com\n",
            "RT\n",
            "Marketingdirecto.com\n",
            "Applesfera.com\n"
          ]
        }
      ]
    },
    {
      "cell_type": "code",
      "source": [
        "from newsapi import NewsApiClient\n",
        "\n",
        "api = NewsApiClient(api_key='c5c0f0849c8a4b688a9b37976a7e979c')\n",
        "a = api.get_top_headlines(q='ai', category='technology')['articles']\n",
        "\n",
        "for i, news in enumerate(a[:5]):\n",
        "    print(f'{i+1}. {news[\"description\"]}')\n",
        "#api.get_top_headlines(q='ai', category='technology')['articles']"
      ],
      "metadata": {
        "colab": {
          "base_uri": "https://localhost:8080/"
        },
        "id": "GgrYkWeVJJi4",
        "outputId": "93175e64-2d60-4699-adf7-75bb661cde16"
      },
      "execution_count": null,
      "outputs": [
        {
          "output_type": "stream",
          "name": "stdout",
          "text": [
            "1. Microsoft is finally adding spellcheck and autocorrect to Notepad. Both features are now available for all Windows 11 users.\n",
            "2. CMF Phone 1: Priced at Rs 15,999 onwards, the CMF Phone 1 will be available from June 12 on its official India website, e-commerce platform Flipkart, and at select retail stores\n",
            "3. Oppo has announced the launch of its flagship Reno 12 series in India on July 12 The company has also been teasing various built-in AI features for the phones Here039s a look at what we know so far about the Reno 12 and Reno 12 Pro smartphones\n",
            "4. Konami aims to modernize the classic space shoot 'em up genre this summer with Cygni: All Guns Blazing.\n",
            "5. Google Pixel Watch 3 may be one of the new launches at the upcoming Google event. The smartwatch is expected to succeed the Pixel Watch 2, which was unveiled in October 2023. Now several variants of the smart wearable have reportedly been spotted on the US Fe…\n"
          ]
        }
      ]
    },
    {
      "cell_type": "markdown",
      "source": [
        "# Задание 2."
      ],
      "metadata": {
        "id": "GJXBIPpjR6sl"
      }
    },
    {
      "cell_type": "markdown",
      "source": [
        "**Работа с API OpenWeatherMap**\n",
        "1. Получить текущую погоду в вашем городе и вывести общее состояние погоды, скорость ветра, относительную влажность воздуха, температуру и температуру по ощущениям;\n",
        "2. Получить погоду в вашем городе на следующий день и вывести те же значения, что и в предыдущем пункте;\n",
        "3. Получить текущий индекс качества воздуха в Лондоне и вывести его."
      ],
      "metadata": {
        "id": "UBks6P1DR8s9"
      }
    },
    {
      "cell_type": "code",
      "source": [
        "# b2b7a6a689a4251e7a699c421fef5e5d\n",
        "import requests\n",
        "\n",
        "api_key = 'b2b7a6a689a4251e7a699c421fef5e5d'\n",
        "coords = [57.586084, 39.910890]\n",
        "\n",
        "url = f'https://api.openweathermap.org/data/2.5/weather?lat={coords[0]}&lon={coords[1]}&appid={api_key}&lang=ru&units=metric'\n",
        "\n",
        "response = requests.get(url)\n",
        "news_list = response.json()\n",
        "\n",
        "print(news_list['name'])\n",
        "print('состояние погоды:', news_list['weather'][0]['description'])\n",
        "print('температура: ', news_list['main']['temp'])\n",
        "print(\"температура по ощущениям:\" ,news_list['main']['feels_like'])\n",
        "print('скорость ветра:', news_list['wind']['speed'])"
      ],
      "metadata": {
        "colab": {
          "base_uri": "https://localhost:8080/"
        },
        "id": "DIgdwhmMJ2Bp",
        "outputId": "3b787a89-c223-47f4-b690-e075477d7863"
      },
      "execution_count": null,
      "outputs": [
        {
          "output_type": "stream",
          "name": "stdout",
          "text": [
            "Озерки\n",
            "состояние погоды: ясно\n",
            "температура:  21.92\n",
            "температура по ощущениям: 21.55\n",
            "скорость ветра: 3\n"
          ]
        }
      ]
    },
    {
      "cell_type": "code",
      "source": [
        "# на следующий день\n",
        "url = f'https://api.openweathermap.org/data/2.5/forecast?lat={coords[0]}&lon={coords[1]}&appid={api_key}&lang=ru&units=metric'\n",
        "response = requests.get(url)\n",
        "news_list = response.json()\n",
        "city = news_list['city']\n",
        "news_list = news_list['list'][8]\n",
        "\n",
        "print(city['name'])\n",
        "print('состояние погоды:', news_list['weather'][0]['description'])\n",
        "print('температура: ', news_list['main']['temp'])\n",
        "print(\"температура по ощущениям:\" ,news_list['main']['feels_like'])\n",
        "print('скорость ветра:', news_list['wind']['speed'])"
      ],
      "metadata": {
        "colab": {
          "base_uri": "https://localhost:8080/"
        },
        "id": "fSrDACwyQoFO",
        "outputId": "73fc52e0-edf1-4655-c4d6-b7bf61d52886"
      },
      "execution_count": null,
      "outputs": [
        {
          "output_type": "stream",
          "name": "stdout",
          "text": [
            "Озерки\n",
            "состояние погоды: пасмурно\n",
            "температура:  24.67\n",
            "температура по ощущениям: 24.29\n",
            "скорость ветра: 1.51\n"
          ]
        }
      ]
    },
    {
      "cell_type": "code",
      "source": [
        "# лондон\n",
        "url = f'http://api.openweathermap.org/data/2.5/air_pollution?lat=51.5074&lon=0.1278&appid={api_key}'\n",
        "response = requests.get(url)\n",
        "news_list = response.json()\n",
        "\n",
        "print(f\"текущий индекс качества воздуха в Лондоне: {news_list['list'][0]['main']['aqi']}\")"
      ],
      "metadata": {
        "colab": {
          "base_uri": "https://localhost:8080/"
        },
        "id": "JCxHYlb2b-pB",
        "outputId": "5ebb8ae9-4778-42d3-d0da-9a983dc28540"
      },
      "execution_count": null,
      "outputs": [
        {
          "output_type": "stream",
          "name": "stdout",
          "text": [
            "текущий индекс качества воздуха в Лондоне: 2\n"
          ]
        }
      ]
    },
    {
      "cell_type": "markdown",
      "source": [
        "# Задание 3."
      ],
      "metadata": {
        "id": "qYdLVAUOThro"
      }
    },
    {
      "cell_type": "markdown",
      "source": [
        "**Работа с API Wikipedia**\n",
        "1. Получить данные о странице про язык программирования Python и вывести заголовок и первые 60 символов из краткого содержания статьи;\n",
        "2. Вывести первые 40 символов из содержимого секции истории языка;\n",
        "3. Вывести заголовок и первые 140 символов из краткого содержания статьи на одном из языков на которых доступна статья."
      ],
      "metadata": {
        "id": "dXP9_DWhTmi5"
      }
    },
    {
      "cell_type": "code",
      "source": [
        "!pip install Wikipedia"
      ],
      "metadata": {
        "colab": {
          "base_uri": "https://localhost:8080/"
        },
        "id": "a_c4nm869kP1",
        "outputId": "a9ebdd45-eb51-4329-c0f7-c3866844de93"
      },
      "execution_count": null,
      "outputs": [
        {
          "output_type": "stream",
          "name": "stdout",
          "text": [
            "Requirement already satisfied: Wikipedia in /usr/local/lib/python3.10/dist-packages (1.4.0)\n",
            "Requirement already satisfied: beautifulsoup4 in /usr/local/lib/python3.10/dist-packages (from Wikipedia) (4.12.3)\n",
            "Requirement already satisfied: requests<3.0.0,>=2.0.0 in /usr/local/lib/python3.10/dist-packages (from Wikipedia) (2.31.0)\n",
            "Requirement already satisfied: charset-normalizer<4,>=2 in /usr/local/lib/python3.10/dist-packages (from requests<3.0.0,>=2.0.0->Wikipedia) (3.3.2)\n",
            "Requirement already satisfied: idna<4,>=2.5 in /usr/local/lib/python3.10/dist-packages (from requests<3.0.0,>=2.0.0->Wikipedia) (3.7)\n",
            "Requirement already satisfied: urllib3<3,>=1.21.1 in /usr/local/lib/python3.10/dist-packages (from requests<3.0.0,>=2.0.0->Wikipedia) (2.0.7)\n",
            "Requirement already satisfied: certifi>=2017.4.17 in /usr/local/lib/python3.10/dist-packages (from requests<3.0.0,>=2.0.0->Wikipedia) (2024.6.2)\n",
            "Requirement already satisfied: soupsieve>1.2 in /usr/local/lib/python3.10/dist-packages (from beautifulsoup4->Wikipedia) (2.5)\n"
          ]
        }
      ]
    },
    {
      "cell_type": "code",
      "source": [
        "import wikipedia as wiki\n",
        "wiki.set_lang(\"en\")\n",
        "wiki_content = wiki.page('Python (programming language)').content\n",
        "\n",
        "print(wiki.page('Python (programming language)').title + '\\n')\n",
        "print(wiki_content[:60] + '\\n' +'\\n' +'\\n')     # заголовок и первые 60 символов из краткого содержания статьи\n",
        "# a = wiki_content.find('History') == 948    -    наверно можно как то иначе прыгать в нужный кусок текста но не нашел в интернете, поэтому слайс\n",
        "print(wiki_content[960:1000] + '\\n' +'\\n' +'\\n')                   # первые 40 символов из содержимого секции истории языка\n",
        "\n",
        "wiki.set_lang(\"ru\")\n",
        "\n",
        "wiki_content_ru = wiki.page('Python').content\n",
        "\n",
        "print(wiki.page('Python').title + '\\n')\n",
        "print(wiki_content_ru[:140])\n"
      ],
      "metadata": {
        "colab": {
          "base_uri": "https://localhost:8080/"
        },
        "id": "JaDQClLl9yIa",
        "outputId": "5cb36928-0c03-448d-b6da-75335afab0b4"
      },
      "execution_count": null,
      "outputs": [
        {
          "output_type": "stream",
          "name": "stdout",
          "text": [
            "Python (programming language)\n",
            "\n",
            "Python is a high-level, general-purpose programming language\n",
            "\n",
            "\n",
            "\n",
            "Python was invented in the late 1980s by\n",
            "\n",
            "\n",
            "\n",
            "Python\n",
            "\n",
            "Python (МФА: [ˈpʌɪθ(ə)n]; в русском языке встречаются названия пито́н или па́йтон) — высокоуровневый язык программирования общего назначения\n"
          ]
        }
      ]
    },
    {
      "cell_type": "markdown",
      "source": [
        "# Задание 4."
      ],
      "metadata": {
        "id": "95LjDmDPWU6e"
      }
    },
    {
      "cell_type": "markdown",
      "source": [
        "**Работа с API TheTVDB.com.**\n",
        "1. На странице Discover - Awards получите перечень названий всех премий, которые учитываются в базе;\n",
        "2. На странице Discover - Official Lists получите перечень названий 10-ти последних публикаций;\n",
        "3. На странице Discover - Companies получите перечень из 15-ти названий компаний, связанных с TheTVDB.com."
      ],
      "metadata": {
        "id": "Y3tz6SouWYRQ"
      }
    },
    {
      "cell_type": "code",
      "source": [
        "!pip install tvdb_v4_official"
      ],
      "metadata": {
        "colab": {
          "base_uri": "https://localhost:8080/"
        },
        "id": "Id6fFhw5PqZD",
        "outputId": "38409110-cfc7-48d1-bab8-2b76639537f2"
      },
      "execution_count": null,
      "outputs": [
        {
          "output_type": "stream",
          "name": "stdout",
          "text": [
            "Collecting tvdb_v4_official\n",
            "  Downloading tvdb_v4_official-1.1.0-py3-none-any.whl (3.8 kB)\n",
            "Installing collected packages: tvdb_v4_official\n",
            "Successfully installed tvdb_v4_official-1.1.0\n"
          ]
        }
      ]
    },
    {
      "cell_type": "code",
      "source": [
        "# 6c76ac06-16bf-4d38-bd3a-6da6e003171f\n",
        "\n",
        "import tvdb_v4_official\n",
        "api_key = \"6c76ac06-16bf-4d38-bd3a-6da6e003171f\"\n",
        "\n",
        "tvdb = tvdb_v4_official.TVDB(api_key)\n",
        "\n",
        "for i in tvdb.get_all_awards():\n",
        "    print(i['name'])"
      ],
      "metadata": {
        "colab": {
          "base_uri": "https://localhost:8080/"
        },
        "id": "M5kLNBHpPc3c",
        "outputId": "1242261a-b203-4a79-b665-453200e64278"
      },
      "execution_count": null,
      "outputs": [
        {
          "output_type": "stream",
          "name": "stdout",
          "text": [
            "Academy Awards\n",
            "Golden Globe Awards\n",
            "MTV Movie & TV Awards\n",
            "Critics' Choice Awards\n",
            "Primetime Emmy Awards\n",
            "Screen Actors Guild Awards\n",
            "Writers Guild of America Awards\n",
            "Producers Guild of America Awards\n",
            "Directors Guild of America Awards\n",
            "Daytime Emmy Awards\n",
            "BAFTA Awards\n",
            "Bijou Awards\n",
            "Canadian Film Awards\n",
            "Genie Awards\n",
            "Gemini Awards\n",
            "Canadian Screen Awards\n",
            "International Emmy Awards\n",
            "National Television Awards\n",
            "César Awards\n"
          ]
        }
      ]
    },
    {
      "cell_type": "code",
      "source": [
        "# здесь непонятно отсортировано ли оно по дате публикации\n",
        "for i in tvdb.get_all_lists()[:10]:\n",
        "    print(i['name'])"
      ],
      "metadata": {
        "colab": {
          "base_uri": "https://localhost:8080/"
        },
        "id": "svOl_rMvgwES",
        "outputId": "654bf69f-0060-4f05-d9a8-7a06ae966ff9"
      },
      "execution_count": null,
      "outputs": [
        {
          "output_type": "stream",
          "name": "stdout",
          "text": [
            "Scooby-Doo\n",
            "The Matrix Franchise\n",
            "Marvel Cinematic Universe\n",
            "Hermitcraft\n",
            "Naruto\n",
            "One Piece\n",
            "Arrowverse\n",
            "Harry Potter Franchise\n",
            "Despicable Me Franchise\n",
            "The Simpsons Franchise\n"
          ]
        }
      ]
    },
    {
      "cell_type": "code",
      "source": [
        "# а здесь непонятно в каком поле какое либо описание чтобы сделать ветвление или фильтрацию с наличием связи с TheTVDB.com.\n",
        "for i in tvdb.get_all_companies()[30:45]: # просто случайные 15\n",
        "    print(i[\"name\"])\n",
        "# ниже оставил вывод всех но не увидел какой либо связи в информации с TheTVDB.com."
      ],
      "metadata": {
        "colab": {
          "base_uri": "https://localhost:8080/"
        },
        "id": "nKTRezOojGHA",
        "outputId": "8564adb0-b57a-400e-df3f-839e5e344059"
      },
      "execution_count": null,
      "outputs": [
        {
          "output_type": "stream",
          "name": "stdout",
          "text": [
            "BabyFirstTV\n",
            "BBC America\n",
            "BBC Four\n",
            "BBC Kids\n",
            "BBC News\n",
            "BBC One\n",
            "BBC Parliament\n",
            "BBC Three\n",
            "BBC Two\n",
            "BBC World News\n",
            "FYI\n",
            "Boomerang\n",
            "BR\n",
            "ARD alpha\n",
            "Bravo (UK)\n"
          ]
        }
      ]
    },
    {
      "cell_type": "code",
      "source": [
        "for i in tvdb.get_all_companies():\n",
        "    print(i)"
      ],
      "metadata": {
        "colab": {
          "base_uri": "https://localhost:8080/"
        },
        "id": "oScKz14Whx_a",
        "outputId": "c4a9accb-168d-4ecf-ebcb-419b436414ac"
      },
      "execution_count": null,
      "outputs": [
        {
          "output_type": "stream",
          "name": "stdout",
          "text": [
            "{'id': 1, 'name': '3sat', 'slug': '3sat', 'nameTranslations': ['eng'], 'overviewTranslations': [], 'aliases': [], 'country': 'deu', 'primaryCompanyType': 1, 'activeDate': None, 'inactiveDate': None, 'companyType': {'companyTypeId': 1, 'companyTypeName': 'Network'}, 'parentCompany': {'id': None, 'name': None, 'relation': {'id': None, 'typeName': None}}, 'tagOptions': None}\n",
            "{'id': 2, 'name': 'A&E', 'slug': 'ae', 'nameTranslations': ['eng'], 'overviewTranslations': [], 'aliases': [], 'country': 'usa', 'primaryCompanyType': 1, 'activeDate': None, 'inactiveDate': None, 'companyType': {'companyTypeId': 1, 'companyTypeName': 'Network'}, 'parentCompany': {'id': None, 'name': None, 'relation': {'id': None, 'typeName': None}}, 'tagOptions': None}\n",
            "{'id': 3, 'name': 'AAG TV', 'slug': 'aag-tv', 'nameTranslations': ['eng'], 'overviewTranslations': [], 'aliases': [], 'country': 'pak', 'primaryCompanyType': 1, 'activeDate': None, 'inactiveDate': None, 'companyType': {'companyTypeId': 1, 'companyTypeName': 'Network'}, 'parentCompany': {'id': None, 'name': None, 'relation': {'id': None, 'typeName': None}}, 'tagOptions': None}\n",
            "{'id': 4, 'name': 'Aaj TV', 'slug': 'aaj-tv', 'nameTranslations': ['eng'], 'overviewTranslations': [], 'aliases': [], 'country': 'pak', 'primaryCompanyType': 1, 'activeDate': None, 'inactiveDate': None, 'companyType': {'companyTypeId': 1, 'companyTypeName': 'Network'}, 'parentCompany': {'id': None, 'name': None, 'relation': {'id': None, 'typeName': None}}, 'tagOptions': None}\n",
            "{'id': 5, 'name': 'ABC (US)', 'slug': 'abc-us', 'nameTranslations': ['eng'], 'overviewTranslations': [], 'aliases': [{'language': 'eng', 'name': 'American Broadcasting Company'}], 'country': 'usa', 'primaryCompanyType': 1, 'activeDate': None, 'inactiveDate': None, 'companyType': {'companyTypeId': 1, 'companyTypeName': 'Network'}, 'parentCompany': {'id': None, 'name': None, 'relation': {'id': None, 'typeName': None}}, 'tagOptions': None}\n",
            "{'id': 6, 'name': 'ABC (AU)', 'slug': 'abc-au', 'nameTranslations': ['eng'], 'overviewTranslations': [], 'aliases': [], 'country': 'aus', 'primaryCompanyType': 1, 'activeDate': None, 'inactiveDate': None, 'companyType': {'companyTypeId': 1, 'companyTypeName': 'Network'}, 'parentCompany': {'id': None, 'name': None, 'relation': {'id': None, 'typeName': None}}, 'tagOptions': None}\n",
            "{'id': 7, 'name': 'ABC (JA)', 'slug': 'abc-ja', 'nameTranslations': ['eng'], 'overviewTranslations': [], 'aliases': [], 'country': 'jpn', 'primaryCompanyType': 1, 'activeDate': None, 'inactiveDate': None, 'companyType': {'companyTypeId': 1, 'companyTypeName': 'Network'}, 'parentCompany': {'id': None, 'name': None, 'relation': {'id': None, 'typeName': None}}, 'tagOptions': None}\n",
            "{'id': 8, 'name': 'ABC (PH)', 'slug': 'abc-ph', 'nameTranslations': ['eng'], 'overviewTranslations': [], 'aliases': [], 'country': 'phl', 'primaryCompanyType': 1, 'activeDate': None, 'inactiveDate': None, 'companyType': {'companyTypeId': 1, 'companyTypeName': 'Network'}, 'parentCompany': {'id': None, 'name': None, 'relation': {'id': None, 'typeName': None}}, 'tagOptions': None}\n",
            "{'id': 9, 'name': 'ABC Family', 'slug': 'abc-family', 'nameTranslations': ['eng'], 'overviewTranslations': [], 'aliases': [], 'country': 'usa', 'primaryCompanyType': 1, 'activeDate': '2001-11-10', 'inactiveDate': '2016-01-12', 'companyType': {'companyTypeId': 1, 'companyTypeName': 'Network'}, 'parentCompany': {'id': 941, 'name': 'Freeform', 'relation': {'id': 2, 'typeName': 'Rebranded As'}}, 'tagOptions': None}\n",
            "{'id': 10, 'name': 'ABS-CBN', 'slug': 'abs-cbn-broadcasting-company', 'nameTranslations': ['eng'], 'overviewTranslations': [], 'aliases': [{'language': 'eng', 'name': 'ABS-CBN Corporation'}, {'language': 'eng', 'name': 'ABS-CBN Broadcasting Corporation'}, {'language': 'eng', 'name': 'Alto Broadcasting System - Chronicle Broadcasting Network'}], 'country': 'phl', 'primaryCompanyType': 1, 'activeDate': None, 'inactiveDate': None, 'companyType': {'companyTypeId': 1, 'companyTypeName': 'Network'}, 'parentCompany': {'id': None, 'name': None, 'relation': {'id': None, 'typeName': None}}, 'tagOptions': None}\n",
            "{'id': 11, 'name': 'Abu Dhabi TV', 'slug': 'abu-dhabi-tv', 'nameTranslations': ['ara', 'eng'], 'overviewTranslations': [], 'aliases': [{'language': 'ara', 'name': 'ابو ظبي'}, {'language': 'eng', 'name': 'ADtv'}], 'country': 'are', 'primaryCompanyType': 1, 'activeDate': None, 'inactiveDate': None, 'companyType': {'companyTypeId': 1, 'companyTypeName': 'Network'}, 'parentCompany': {'id': None, 'name': None, 'relation': {'id': None, 'typeName': None}}, 'tagOptions': None}\n",
            "{'id': 12, 'name': 'Adult Channel', 'slug': 'adult-channel', 'nameTranslations': ['eng'], 'overviewTranslations': [], 'aliases': [], 'country': 'gbr', 'primaryCompanyType': 1, 'activeDate': None, 'inactiveDate': None, 'companyType': {'companyTypeId': 1, 'companyTypeName': 'Network'}, 'parentCompany': {'id': None, 'name': None, 'relation': {'id': None, 'typeName': None}}, 'tagOptions': None}\n",
            "{'id': 13, 'name': 'Al Alam', 'slug': 'al-alam', 'nameTranslations': ['eng'], 'overviewTranslations': [], 'aliases': [], 'country': 'irn', 'primaryCompanyType': 1, 'activeDate': None, 'inactiveDate': None, 'companyType': {'companyTypeId': 1, 'companyTypeName': 'Network'}, 'parentCompany': {'id': None, 'name': None, 'relation': {'id': None, 'typeName': None}}, 'tagOptions': None}\n",
            "{'id': 14, 'name': 'Al Arabiyya', 'slug': 'al-arabiyya', 'nameTranslations': ['eng'], 'overviewTranslations': [], 'aliases': [], 'country': 'are', 'primaryCompanyType': 1, 'activeDate': None, 'inactiveDate': None, 'companyType': {'companyTypeId': 1, 'companyTypeName': 'Network'}, 'parentCompany': {'id': None, 'name': None, 'relation': {'id': None, 'typeName': None}}, 'tagOptions': None}\n",
            "{'id': 15, 'name': 'Al Jazeera', 'slug': 'al-jazeera', 'nameTranslations': ['eng'], 'overviewTranslations': [], 'aliases': [], 'country': 'qat', 'primaryCompanyType': 1, 'activeDate': None, 'inactiveDate': None, 'companyType': {'companyTypeId': 1, 'companyTypeName': 'Network'}, 'parentCompany': {'id': None, 'name': None, 'relation': {'id': None, 'typeName': None}}, 'tagOptions': None}\n",
            "{'id': 16, 'name': 'Alpha TV GUJARATI', 'slug': 'alpha-tv-gujarati', 'nameTranslations': ['eng'], 'overviewTranslations': [], 'aliases': [], 'country': 'ind', 'primaryCompanyType': 1, 'activeDate': None, 'inactiveDate': None, 'companyType': {'companyTypeId': 1, 'companyTypeName': 'Network'}, 'parentCompany': {'id': None, 'name': None, 'relation': {'id': None, 'typeName': None}}, 'tagOptions': None}\n",
            "{'id': 17, 'name': 'Alpha TV PUNJABI', 'slug': 'alpha-tv-punjabi', 'nameTranslations': ['eng'], 'overviewTranslations': [], 'aliases': [], 'country': 'ind', 'primaryCompanyType': 1, 'activeDate': None, 'inactiveDate': None, 'companyType': {'companyTypeId': 1, 'companyTypeName': 'Network'}, 'parentCompany': {'id': None, 'name': None, 'relation': {'id': None, 'typeName': None}}, 'tagOptions': None}\n",
            "{'id': 18, 'name': 'America One Television Network', 'slug': 'america-one-television-network', 'nameTranslations': ['eng'], 'overviewTranslations': [], 'aliases': [], 'country': 'usa', 'primaryCompanyType': 1, 'activeDate': None, 'inactiveDate': None, 'companyType': {'companyTypeId': 1, 'companyTypeName': 'Network'}, 'parentCompany': {'id': None, 'name': None, 'relation': {'id': None, 'typeName': None}}, 'tagOptions': None}\n",
            "{'id': 19, 'name': 'Animal Planet', 'slug': 'animal-planet', 'nameTranslations': ['eng'], 'overviewTranslations': ['eng'], 'aliases': [], 'country': 'usa', 'primaryCompanyType': 1, 'activeDate': None, 'inactiveDate': None, 'companyType': {'companyTypeId': 1, 'companyTypeName': 'Network'}, 'parentCompany': {'id': None, 'name': None, 'relation': {'id': None, 'typeName': None}}, 'tagOptions': None}\n",
            "{'id': 20, 'name': 'Anime Network', 'slug': 'anime-network', 'nameTranslations': ['eng'], 'overviewTranslations': [], 'aliases': [], 'country': 'usa', 'primaryCompanyType': 1, 'activeDate': None, 'inactiveDate': None, 'companyType': {'companyTypeId': 1, 'companyTypeName': 'Network'}, 'parentCompany': {'id': None, 'name': None, 'relation': {'id': None, 'typeName': None}}, 'tagOptions': None}\n",
            "{'id': 21, 'name': 'ANT1', 'slug': 'ant1', 'nameTranslations': ['eng'], 'overviewTranslations': [], 'aliases': [], 'country': 'grc', 'primaryCompanyType': 1, 'activeDate': None, 'inactiveDate': None, 'companyType': {'companyTypeId': 1, 'companyTypeName': 'Network'}, 'parentCompany': {'id': None, 'name': None, 'relation': {'id': None, 'typeName': None}}, 'tagOptions': None}\n",
            "{'id': 22, 'name': 'Antena 3', 'slug': 'antena-3', 'nameTranslations': ['eng', 'spa'], 'overviewTranslations': ['spa'], 'aliases': [], 'country': 'esp', 'primaryCompanyType': 1, 'activeDate': None, 'inactiveDate': None, 'companyType': {'companyTypeId': 1, 'companyTypeName': 'Network'}, 'parentCompany': {'id': None, 'name': None, 'relation': {'id': None, 'typeName': None}}, 'tagOptions': None}\n",
            "{'id': 23, 'name': 'ARY Digital', 'slug': 'ary-digital', 'nameTranslations': ['eng'], 'overviewTranslations': [], 'aliases': [], 'country': 'pak', 'primaryCompanyType': 1, 'activeDate': None, 'inactiveDate': None, 'companyType': {'companyTypeId': 1, 'companyTypeName': 'Network'}, 'parentCompany': {'id': None, 'name': None, 'relation': {'id': None, 'typeName': None}}, 'tagOptions': None}\n",
            "{'id': 24, 'name': 'ARY One World', 'slug': 'ary-one-world', 'nameTranslations': ['eng'], 'overviewTranslations': [], 'aliases': [], 'country': 'pak', 'primaryCompanyType': 1, 'activeDate': None, 'inactiveDate': None, 'companyType': {'companyTypeId': 1, 'companyTypeName': 'Network'}, 'parentCompany': {'id': None, 'name': None, 'relation': {'id': None, 'typeName': None}}, 'tagOptions': None}\n",
            "{'id': 25, 'name': 'ARY Shopping Channel', 'slug': 'ary-shopping-channel', 'nameTranslations': ['eng'], 'overviewTranslations': [], 'aliases': [], 'country': 'pak', 'primaryCompanyType': 1, 'activeDate': None, 'inactiveDate': None, 'companyType': {'companyTypeId': 1, 'companyTypeName': 'Network'}, 'parentCompany': {'id': None, 'name': None, 'relation': {'id': None, 'typeName': None}}, 'tagOptions': None}\n",
            "{'id': 26, 'name': 'ARY Zouq', 'slug': 'ary-zouq', 'nameTranslations': ['eng'], 'overviewTranslations': [], 'aliases': [], 'country': 'pak', 'primaryCompanyType': 1, 'activeDate': None, 'inactiveDate': None, 'companyType': {'companyTypeId': 1, 'companyTypeName': 'Network'}, 'parentCompany': {'id': None, 'name': None, 'relation': {'id': None, 'typeName': None}}, 'tagOptions': None}\n",
            "{'id': 27, 'name': 'ATN Aastha Channel', 'slug': 'atn-aastha-channel', 'nameTranslations': ['eng'], 'overviewTranslations': [], 'aliases': [], 'country': 'ind', 'primaryCompanyType': 1, 'activeDate': None, 'inactiveDate': None, 'companyType': {'companyTypeId': 1, 'companyTypeName': 'Network'}, 'parentCompany': {'id': None, 'name': None, 'relation': {'id': None, 'typeName': None}}, 'tagOptions': None}\n",
            "{'id': 28, 'name': 'AXN', 'slug': 'axn', 'nameTranslations': ['eng'], 'overviewTranslations': [], 'aliases': [], 'country': 'usa', 'primaryCompanyType': 1, 'activeDate': None, 'inactiveDate': None, 'companyType': {'companyTypeId': 1, 'companyTypeName': 'Network'}, 'parentCompany': {'id': None, 'name': None, 'relation': {'id': None, 'typeName': None}}, 'tagOptions': None}\n",
            "{'id': 29, 'name': 'B4U Movies', 'slug': 'b4u-movies', 'nameTranslations': ['eng'], 'overviewTranslations': [], 'aliases': [], 'country': 'gbr', 'primaryCompanyType': 1, 'activeDate': None, 'inactiveDate': None, 'companyType': {'companyTypeId': 1, 'companyTypeName': 'Network'}, 'parentCompany': {'id': None, 'name': None, 'relation': {'id': None, 'typeName': None}}, 'tagOptions': None}\n",
            "{'id': 30, 'name': 'B4U Music', 'slug': 'b4u-music', 'nameTranslations': ['eng'], 'overviewTranslations': [], 'aliases': [], 'country': 'gbr', 'primaryCompanyType': 1, 'activeDate': None, 'inactiveDate': None, 'companyType': {'companyTypeId': 1, 'companyTypeName': 'Network'}, 'parentCompany': {'id': None, 'name': None, 'relation': {'id': None, 'typeName': None}}, 'tagOptions': None}\n",
            "{'id': 31, 'name': 'BabyFirstTV', 'slug': 'babyfirsttv', 'nameTranslations': ['eng'], 'overviewTranslations': [], 'aliases': [], 'country': 'usa', 'primaryCompanyType': 1, 'activeDate': None, 'inactiveDate': None, 'companyType': {'companyTypeId': 1, 'companyTypeName': 'Network'}, 'parentCompany': {'id': None, 'name': None, 'relation': {'id': None, 'typeName': None}}, 'tagOptions': None}\n",
            "{'id': 32, 'name': 'BBC America', 'slug': 'bbc-america', 'nameTranslations': ['eng'], 'overviewTranslations': [], 'aliases': [], 'country': 'usa', 'primaryCompanyType': 1, 'activeDate': None, 'inactiveDate': None, 'companyType': {'companyTypeId': 1, 'companyTypeName': 'Network'}, 'parentCompany': {'id': 956, 'name': 'BBC', 'relation': {'id': None, 'typeName': None}}, 'tagOptions': None}\n",
            "{'id': 34, 'name': 'BBC Four', 'slug': 'bbc-four', 'nameTranslations': ['eng'], 'overviewTranslations': [], 'aliases': [], 'country': 'gbr', 'primaryCompanyType': 1, 'activeDate': None, 'inactiveDate': None, 'companyType': {'companyTypeId': 1, 'companyTypeName': 'Network'}, 'parentCompany': {'id': 956, 'name': 'BBC', 'relation': {'id': None, 'typeName': None}}, 'tagOptions': None}\n",
            "{'id': 35, 'name': 'BBC Kids', 'slug': 'bbc-kids', 'nameTranslations': ['eng'], 'overviewTranslations': [], 'aliases': [], 'country': 'can', 'primaryCompanyType': 1, 'activeDate': None, 'inactiveDate': None, 'companyType': {'companyTypeId': 1, 'companyTypeName': 'Network'}, 'parentCompany': {'id': 956, 'name': 'BBC', 'relation': {'id': None, 'typeName': None}}, 'tagOptions': None}\n",
            "{'id': 36, 'name': 'BBC News', 'slug': 'bbc-news', 'nameTranslations': ['eng'], 'overviewTranslations': [], 'aliases': [], 'country': 'gbr', 'primaryCompanyType': 1, 'activeDate': None, 'inactiveDate': None, 'companyType': {'companyTypeId': 1, 'companyTypeName': 'Network'}, 'parentCompany': {'id': 956, 'name': 'BBC', 'relation': {'id': None, 'typeName': None}}, 'tagOptions': None}\n",
            "{'id': 37, 'name': 'BBC One', 'slug': 'bbc-one', 'nameTranslations': ['eng'], 'overviewTranslations': [], 'aliases': [], 'country': 'gbr', 'primaryCompanyType': 1, 'activeDate': None, 'inactiveDate': None, 'companyType': {'companyTypeId': 1, 'companyTypeName': 'Network'}, 'parentCompany': {'id': 956, 'name': 'BBC', 'relation': {'id': None, 'typeName': None}}, 'tagOptions': None}\n",
            "{'id': 38, 'name': 'BBC Parliament', 'slug': 'bbc-parliament', 'nameTranslations': ['eng'], 'overviewTranslations': [], 'aliases': [], 'country': 'gbr', 'primaryCompanyType': 1, 'activeDate': None, 'inactiveDate': None, 'companyType': {'companyTypeId': 1, 'companyTypeName': 'Network'}, 'parentCompany': {'id': 956, 'name': 'BBC', 'relation': {'id': None, 'typeName': None}}, 'tagOptions': None}\n",
            "{'id': 39, 'name': 'BBC Three', 'slug': 'bbc-three', 'nameTranslations': ['eng'], 'overviewTranslations': [], 'aliases': [], 'country': 'gbr', 'primaryCompanyType': 1, 'activeDate': None, 'inactiveDate': None, 'companyType': {'companyTypeId': 1, 'companyTypeName': 'Network'}, 'parentCompany': {'id': 956, 'name': 'BBC', 'relation': {'id': None, 'typeName': None}}, 'tagOptions': None}\n",
            "{'id': 40, 'name': 'BBC Two', 'slug': 'bbc-two', 'nameTranslations': ['eng'], 'overviewTranslations': [], 'aliases': [], 'country': 'gbr', 'primaryCompanyType': 1, 'activeDate': None, 'inactiveDate': None, 'companyType': {'companyTypeId': 1, 'companyTypeName': 'Network'}, 'parentCompany': {'id': 956, 'name': 'BBC', 'relation': {'id': None, 'typeName': None}}, 'tagOptions': None}\n",
            "{'id': 41, 'name': 'BBC World News', 'slug': 'bbc-world-news', 'nameTranslations': ['eng'], 'overviewTranslations': [], 'aliases': [], 'country': 'gbr', 'primaryCompanyType': 1, 'activeDate': None, 'inactiveDate': None, 'companyType': {'companyTypeId': 1, 'companyTypeName': 'Network'}, 'parentCompany': {'id': 956, 'name': 'BBC', 'relation': {'id': None, 'typeName': None}}, 'tagOptions': None}\n",
            "{'id': 42, 'name': 'FYI', 'slug': 'fyi', 'nameTranslations': ['eng'], 'overviewTranslations': [], 'aliases': [], 'country': 'usa', 'primaryCompanyType': 1, 'activeDate': None, 'inactiveDate': None, 'companyType': {'companyTypeId': 1, 'companyTypeName': 'Network'}, 'parentCompany': {'id': None, 'name': None, 'relation': {'id': None, 'typeName': None}}, 'tagOptions': None}\n",
            "{'id': 43, 'name': 'Boomerang', 'slug': 'boomerang', 'nameTranslations': ['eng'], 'overviewTranslations': [], 'aliases': [], 'country': 'usa', 'primaryCompanyType': 1, 'activeDate': '2000-04-01', 'inactiveDate': None, 'companyType': {'companyTypeId': 1, 'companyTypeName': 'Network'}, 'parentCompany': {'id': 2178, 'name': 'Warner Bros.', 'relation': {'id': None, 'typeName': None}}, 'tagOptions': None}\n",
            "{'id': 44, 'name': 'BR', 'slug': 'br', 'nameTranslations': ['deu', 'eng'], 'overviewTranslations': ['deu'], 'aliases': [{'language': 'deu', 'name': 'Bayerischer Rundfunk'}], 'country': 'deu', 'primaryCompanyType': 1, 'activeDate': None, 'inactiveDate': None, 'companyType': {'companyTypeId': 1, 'companyTypeName': 'Network'}, 'parentCompany': {'id': None, 'name': None, 'relation': {'id': None, 'typeName': None}}, 'tagOptions': None}\n",
            "{'id': 45, 'name': 'ARD alpha', 'slug': 'br-alpha', 'nameTranslations': ['eng'], 'overviewTranslations': [], 'aliases': [{'language': 'eng', 'name': 'BR-alpha'}], 'country': 'deu', 'primaryCompanyType': 1, 'activeDate': None, 'inactiveDate': None, 'companyType': {'companyTypeId': 1, 'companyTypeName': 'Network'}, 'parentCompany': {'id': None, 'name': None, 'relation': {'id': None, 'typeName': None}}, 'tagOptions': None}\n",
            "{'id': 46, 'name': 'Bravo (UK)', 'slug': 'bravo-uk', 'nameTranslations': ['eng'], 'overviewTranslations': [], 'aliases': [], 'country': 'gbr', 'primaryCompanyType': 1, 'activeDate': None, 'inactiveDate': None, 'companyType': {'companyTypeId': 1, 'companyTypeName': 'Network'}, 'parentCompany': {'id': None, 'name': None, 'relation': {'id': None, 'typeName': None}}, 'tagOptions': None}\n",
            "{'id': 47, 'name': 'CTV Drama', 'slug': 'bravo-ca', 'nameTranslations': ['eng'], 'overviewTranslations': ['eng'], 'aliases': [{'language': 'eng', 'name': 'Bravo'}], 'country': 'can', 'primaryCompanyType': 1, 'activeDate': '1995-01-01', 'inactiveDate': None, 'companyType': {'companyTypeId': 1, 'companyTypeName': 'Network'}, 'parentCompany': {'id': 75, 'name': 'CTV', 'relation': {'id': None, 'typeName': None}}, 'tagOptions': None}\n",
            "{'id': 48, 'name': 'Bubble Hits', 'slug': 'bubble-hits', 'nameTranslations': ['eng'], 'overviewTranslations': [], 'aliases': [], 'country': 'irl', 'primaryCompanyType': 1, 'activeDate': None, 'inactiveDate': None, 'companyType': {'companyTypeId': 1, 'companyTypeName': 'Network'}, 'parentCompany': {'id': None, 'name': None, 'relation': {'id': None, 'typeName': None}}, 'tagOptions': None}\n",
            "{'id': 49, 'name': 'Canal+', 'slug': 'canal-', 'nameTranslations': ['eng', 'fra'], 'overviewTranslations': ['fra'], 'aliases': [{'language': 'fra', 'name': 'Canal Plus'}], 'country': 'fra', 'primaryCompanyType': 1, 'activeDate': None, 'inactiveDate': None, 'companyType': {'companyTypeId': 1, 'companyTypeName': 'Network'}, 'parentCompany': {'id': None, 'name': None, 'relation': {'id': None, 'typeName': None}}, 'tagOptions': None}\n",
            "{'id': 50, 'name': 'VRT CANVAS', 'slug': 'canvasketnet', 'nameTranslations': ['eng'], 'overviewTranslations': [], 'aliases': [{'language': 'eng', 'name': 'Canvas'}], 'country': 'bel', 'primaryCompanyType': 1, 'activeDate': None, 'inactiveDate': None, 'companyType': {'companyTypeId': 1, 'companyTypeName': 'Network'}, 'parentCompany': {'id': None, 'name': None, 'relation': {'id': None, 'typeName': None}}, 'tagOptions': None}\n",
            "{'id': 51, 'name': 'Carlton Central', 'slug': 'carlton-television', 'nameTranslations': ['eng'], 'overviewTranslations': [], 'aliases': [{'language': 'eng', 'name': 'Carlton Television'}, {'language': 'eng', 'name': 'Carlton Independant Television'}], 'country': 'gbr', 'primaryCompanyType': 1, 'activeDate': '1982-01-01', 'inactiveDate': '2001-08-11', 'companyType': {'companyTypeId': 1, 'companyTypeName': 'Network'}, 'parentCompany': {'id': 22708, 'name': 'ITV Central', 'relation': {'id': None, 'typeName': None}}, 'tagOptions': None}\n",
            "{'id': 52, 'name': 'Cartoon Network', 'slug': 'cartoon-network', 'nameTranslations': ['eng'], 'overviewTranslations': [], 'aliases': [], 'country': 'usa', 'primaryCompanyType': 1, 'activeDate': None, 'inactiveDate': None, 'companyType': {'companyTypeId': 1, 'companyTypeName': 'Network'}, 'parentCompany': {'id': None, 'name': None, 'relation': {'id': None, 'typeName': None}}, 'tagOptions': None}\n",
            "{'id': 53, 'name': 'CBBC', 'slug': 'cbbc', 'nameTranslations': ['eng'], 'overviewTranslations': [], 'aliases': [], 'country': 'gbr', 'primaryCompanyType': 1, 'activeDate': None, 'inactiveDate': None, 'companyType': {'companyTypeId': 1, 'companyTypeName': 'Network'}, 'parentCompany': {'id': 956, 'name': 'BBC', 'relation': {'id': None, 'typeName': None}}, 'tagOptions': None}\n",
            "{'id': 54, 'name': 'CBC', 'slug': 'cbc-ca', 'nameTranslations': ['eng'], 'overviewTranslations': ['eng'], 'aliases': [{'language': 'eng', 'name': 'Canadian Broadcasting Corporation'}], 'country': 'can', 'primaryCompanyType': 1, 'activeDate': '1952-09-06', 'inactiveDate': None, 'companyType': {'companyTypeId': 1, 'companyTypeName': 'Network'}, 'parentCompany': {'id': None, 'name': None, 'relation': {'id': None, 'typeName': None}}, 'tagOptions': None}\n",
            "{'id': 55, 'name': 'CBeebies', 'slug': 'cbeebies', 'nameTranslations': ['eng'], 'overviewTranslations': [], 'aliases': [], 'country': 'gbr', 'primaryCompanyType': 1, 'activeDate': None, 'inactiveDate': None, 'companyType': {'companyTypeId': 1, 'companyTypeName': 'Network'}, 'parentCompany': {'id': None, 'name': None, 'relation': {'id': None, 'typeName': None}}, 'tagOptions': None}\n",
            "{'id': 56, 'name': 'CBS', 'slug': 'cbs', 'nameTranslations': ['eng'], 'overviewTranslations': [], 'aliases': [], 'country': 'usa', 'primaryCompanyType': 1, 'activeDate': None, 'inactiveDate': None, 'companyType': {'companyTypeId': 1, 'companyTypeName': 'Network'}, 'parentCompany': {'id': None, 'name': None, 'relation': {'id': None, 'typeName': None}}, 'tagOptions': None}\n",
            "{'id': 57, 'name': 'CCTV', 'slug': 'cctv', 'nameTranslations': ['eng', 'zho'], 'overviewTranslations': [], 'aliases': [], 'country': 'chn', 'primaryCompanyType': 1, 'activeDate': None, 'inactiveDate': None, 'companyType': {'companyTypeId': 1, 'companyTypeName': 'Network'}, 'parentCompany': {'id': None, 'name': None, 'relation': {'id': None, 'typeName': None}}, 'tagOptions': None}\n",
            "{'id': 58, 'name': 'Challenge', 'slug': 'challenge', 'nameTranslations': ['eng'], 'overviewTranslations': [], 'aliases': [], 'country': 'gbr', 'primaryCompanyType': 1, 'activeDate': None, 'inactiveDate': None, 'companyType': {'companyTypeId': 1, 'companyTypeName': 'Network'}, 'parentCompany': {'id': None, 'name': None, 'relation': {'id': None, 'typeName': None}}, 'tagOptions': None}\n",
            "{'id': 59, 'name': 'Channel [V]', 'slug': 'channel-[v]', 'nameTranslations': ['eng'], 'overviewTranslations': [], 'aliases': [], 'country': 'chn', 'primaryCompanyType': 1, 'activeDate': None, 'inactiveDate': None, 'companyType': {'companyTypeId': 1, 'companyTypeName': 'Network'}, 'parentCompany': {'id': None, 'name': None, 'relation': {'id': None, 'typeName': None}}, 'tagOptions': None}\n",
            "{'id': 60, 'name': 'Channel 4', 'slug': 'channel-4', 'nameTranslations': ['eng'], 'overviewTranslations': ['eng'], 'aliases': [{'language': 'eng', 'name': 'Channel Four'}], 'country': 'gbr', 'primaryCompanyType': 1, 'activeDate': None, 'inactiveDate': None, 'companyType': {'companyTypeId': 1, 'companyTypeName': 'Network'}, 'parentCompany': {'id': None, 'name': None, 'relation': {'id': None, 'typeName': None}}, 'tagOptions': None}\n",
            "{'id': 61, 'name': 'Channel 5 (SG)', 'slug': 'channel-5-sg', 'nameTranslations': ['eng'], 'overviewTranslations': [], 'aliases': [], 'country': 'sgp', 'primaryCompanyType': 1, 'activeDate': None, 'inactiveDate': None, 'companyType': {'companyTypeId': 1, 'companyTypeName': 'Network'}, 'parentCompany': {'id': None, 'name': None, 'relation': {'id': None, 'typeName': None}}, 'tagOptions': None}\n",
            "{'id': 62, 'name': 'Channel 6', 'slug': 'channel-6', 'nameTranslations': ['eng'], 'overviewTranslations': [], 'aliases': [], 'country': 'irl', 'primaryCompanyType': 1, 'activeDate': None, 'inactiveDate': None, 'companyType': {'companyTypeId': 1, 'companyTypeName': 'Network'}, 'parentCompany': {'id': None, 'name': None, 'relation': {'id': None, 'typeName': None}}, 'tagOptions': None}\n",
            "{'id': 63, 'name': 'Channel 8', 'slug': 'channel-8', 'nameTranslations': ['eng'], 'overviewTranslations': [], 'aliases': [], 'country': 'sgp', 'primaryCompanyType': 1, 'activeDate': None, 'inactiveDate': None, 'companyType': {'companyTypeId': 1, 'companyTypeName': 'Network'}, 'parentCompany': {'id': None, 'name': None, 'relation': {'id': None, 'typeName': None}}, 'tagOptions': None}\n",
            "{'id': 64, 'name': 'Channel U', 'slug': 'channel-u', 'nameTranslations': ['eng'], 'overviewTranslations': [], 'aliases': [], 'country': 'sgp', 'primaryCompanyType': 1, 'activeDate': None, 'inactiveDate': None, 'companyType': {'companyTypeId': 1, 'companyTypeName': 'Network'}, 'parentCompany': {'id': None, 'name': None, 'relation': {'id': None, 'typeName': None}}, 'tagOptions': None}\n",
            "{'id': 65, 'name': 'Chart Show TV', 'slug': 'chart-show-tv', 'nameTranslations': ['eng'], 'overviewTranslations': [], 'aliases': [], 'country': 'gbr', 'primaryCompanyType': 1, 'activeDate': None, 'inactiveDate': None, 'companyType': {'companyTypeId': 1, 'companyTypeName': 'Network'}, 'parentCompany': {'id': None, 'name': None, 'relation': {'id': None, 'typeName': None}}, 'tagOptions': None}\n",
            "{'id': 66, 'name': 'Chorus Sports', 'slug': 'chorus-sports', 'nameTranslations': ['eng'], 'overviewTranslations': [], 'aliases': [], 'country': 'irl', 'primaryCompanyType': 1, 'activeDate': None, 'inactiveDate': None, 'companyType': {'companyTypeId': 1, 'companyTypeName': 'Network'}, 'parentCompany': {'id': None, 'name': None, 'relation': {'id': None, 'typeName': None}}, 'tagOptions': None}\n",
            "{'id': 67, 'name': 'City Channel', 'slug': 'city-channel', 'nameTranslations': ['eng'], 'overviewTranslations': [], 'aliases': [], 'country': 'irl', 'primaryCompanyType': 1, 'activeDate': None, 'inactiveDate': None, 'companyType': {'companyTypeId': 1, 'companyTypeName': 'Network'}, 'parentCompany': {'id': None, 'name': None, 'relation': {'id': None, 'typeName': None}}, 'tagOptions': None}\n",
            "{'id': 68, 'name': 'Classic Arts Showcase', 'slug': 'classic-arts-showcase', 'nameTranslations': ['eng'], 'overviewTranslations': [], 'aliases': [], 'country': 'usa', 'primaryCompanyType': 1, 'activeDate': None, 'inactiveDate': None, 'companyType': {'companyTypeId': 1, 'companyTypeName': 'Network'}, 'parentCompany': {'id': None, 'name': None, 'relation': {'id': None, 'typeName': None}}, 'tagOptions': None}\n",
            "{'id': 69, 'name': 'Classic FM TV', 'slug': 'classic-fm-tv', 'nameTranslations': ['eng'], 'overviewTranslations': [], 'aliases': [], 'country': 'gbr', 'primaryCompanyType': 1, 'activeDate': None, 'inactiveDate': None, 'companyType': {'companyTypeId': 1, 'companyTypeName': 'Network'}, 'parentCompany': {'id': None, 'name': None, 'relation': {'id': None, 'typeName': None}}, 'tagOptions': None}\n",
            "{'id': 70, 'name': 'CN8', 'slug': 'cn8', 'nameTranslations': ['eng'], 'overviewTranslations': [], 'aliases': [], 'country': 'usa', 'primaryCompanyType': 1, 'activeDate': None, 'inactiveDate': None, 'companyType': {'companyTypeId': 1, 'companyTypeName': 'Network'}, 'parentCompany': {'id': None, 'name': None, 'relation': {'id': None, 'typeName': None}}, 'tagOptions': None}\n",
            "{'id': 71, 'name': 'CNBC TV18', 'slug': 'cnbc-tv18', 'nameTranslations': ['eng'], 'overviewTranslations': [], 'aliases': [], 'country': 'ind', 'primaryCompanyType': 1, 'activeDate': None, 'inactiveDate': None, 'companyType': {'companyTypeId': 1, 'companyTypeName': 'Network'}, 'parentCompany': {'id': None, 'name': None, 'relation': {'id': None, 'typeName': None}}, 'tagOptions': None}\n",
            "{'id': 72, 'name': 'CNN', 'slug': 'cnn', 'nameTranslations': ['eng'], 'overviewTranslations': [], 'aliases': [], 'country': 'usa', 'primaryCompanyType': 1, 'activeDate': None, 'inactiveDate': None, 'companyType': {'companyTypeId': 1, 'companyTypeName': 'Network'}, 'parentCompany': {'id': None, 'name': None, 'relation': {'id': None, 'typeName': None}}, 'tagOptions': None}\n",
            "{'id': 73, 'name': 'CPAC', 'slug': 'cpac', 'nameTranslations': ['eng'], 'overviewTranslations': [], 'aliases': [], 'country': 'can', 'primaryCompanyType': 1, 'activeDate': None, 'inactiveDate': None, 'companyType': {'companyTypeId': 1, 'companyTypeName': 'Network'}, 'parentCompany': {'id': None, 'name': None, 'relation': {'id': None, 'typeName': None}}, 'tagOptions': None}\n",
            "{'id': 74, 'name': 'C-Span', 'slug': 'c-span', 'nameTranslations': ['eng'], 'overviewTranslations': [], 'aliases': [], 'country': 'usa', 'primaryCompanyType': 1, 'activeDate': None, 'inactiveDate': None, 'companyType': {'companyTypeId': 1, 'companyTypeName': 'Network'}, 'parentCompany': {'id': None, 'name': None, 'relation': {'id': None, 'typeName': None}}, 'tagOptions': None}\n",
            "{'id': 75, 'name': 'CTV', 'slug': 'ctv', 'nameTranslations': ['eng'], 'overviewTranslations': [], 'aliases': [], 'country': 'can', 'primaryCompanyType': 1, 'activeDate': None, 'inactiveDate': None, 'companyType': {'companyTypeId': 1, 'companyTypeName': 'Network'}, 'parentCompany': {'id': 6959, 'name': 'Bell Media Inc', 'relation': {'id': None, 'typeName': None}}, 'tagOptions': None}\n",
            "{'id': 76, 'name': 'DR1', 'slug': 'dr1', 'nameTranslations': ['eng'], 'overviewTranslations': [], 'aliases': [], 'country': 'dnk', 'primaryCompanyType': 1, 'activeDate': None, 'inactiveDate': None, 'companyType': {'companyTypeId': 1, 'companyTypeName': 'Network'}, 'parentCompany': {'id': None, 'name': None, 'relation': {'id': None, 'typeName': None}}, 'tagOptions': None}\n",
            "{'id': 77, 'name': 'Das Erste', 'slug': 'das-erste', 'nameTranslations': ['deu', 'eng'], 'overviewTranslations': ['deu'], 'aliases': [{'language': 'eng', 'name': 'ARD'}, {'language': 'deu', 'name': 'ARD'}], 'country': 'deu', 'primaryCompanyType': 1, 'activeDate': None, 'inactiveDate': None, 'companyType': {'companyTypeId': 1, 'companyTypeName': 'Network'}, 'parentCompany': {'id': None, 'name': None, 'relation': {'id': None, 'typeName': None}}, 'tagOptions': None}\n",
            "{'id': 78, 'name': 'Dawn News', 'slug': 'dawn-news', 'nameTranslations': ['eng'], 'overviewTranslations': [], 'aliases': [], 'country': 'pak', 'primaryCompanyType': 1, 'activeDate': None, 'inactiveDate': None, 'companyType': {'companyTypeId': 1, 'companyTypeName': 'Network'}, 'parentCompany': {'id': None, 'name': None, 'relation': {'id': None, 'typeName': None}}, 'tagOptions': None}\n",
            "{'id': 79, 'name': 'Deutsche Welle TV', 'slug': 'deutsche-welle-tv', 'nameTranslations': ['eng'], 'overviewTranslations': [], 'aliases': [], 'country': 'deu', 'primaryCompanyType': 1, 'activeDate': None, 'inactiveDate': None, 'companyType': {'companyTypeId': 1, 'companyTypeName': 'Network'}, 'parentCompany': {'id': None, 'name': None, 'relation': {'id': None, 'typeName': None}}, 'tagOptions': None}\n",
            "{'id': 80, 'name': 'Discovery Kids', 'slug': 'discovery-kids', 'nameTranslations': ['eng'], 'overviewTranslations': [], 'aliases': [], 'country': 'usa', 'primaryCompanyType': 1, 'activeDate': None, 'inactiveDate': None, 'companyType': {'companyTypeId': 1, 'companyTypeName': 'Network'}, 'parentCompany': {'id': None, 'name': None, 'relation': {'id': None, 'typeName': None}}, 'tagOptions': None}\n",
            "{'id': 81, 'name': 'Dish TV', 'slug': 'dish-tv', 'nameTranslations': ['eng'], 'overviewTranslations': [], 'aliases': [], 'country': 'usa', 'primaryCompanyType': 1, 'activeDate': None, 'inactiveDate': None, 'companyType': {'companyTypeId': 1, 'companyTypeName': 'Network'}, 'parentCompany': {'id': None, 'name': None, 'relation': {'id': None, 'typeName': None}}, 'tagOptions': None}\n",
            "{'id': 82, 'name': 'Disney Cinemagic', 'slug': 'disney-cinemagic', 'nameTranslations': ['eng'], 'overviewTranslations': [], 'aliases': [], 'country': 'gbr', 'primaryCompanyType': 1, 'activeDate': None, 'inactiveDate': None, 'companyType': {'companyTypeId': 1, 'companyTypeName': 'Network'}, 'parentCompany': {'id': None, 'name': None, 'relation': {'id': None, 'typeName': None}}, 'tagOptions': None}\n",
            "{'id': 83, 'name': 'Doordarshan National', 'slug': 'doordarshan-national', 'nameTranslations': ['eng'], 'overviewTranslations': [], 'aliases': [], 'country': 'ind', 'primaryCompanyType': 1, 'activeDate': None, 'inactiveDate': None, 'companyType': {'companyTypeId': 1, 'companyTypeName': 'Network'}, 'parentCompany': {'id': None, 'name': None, 'relation': {'id': None, 'typeName': None}}, 'tagOptions': None}\n",
            "{'id': 84, 'name': 'DD-Gujarati', 'slug': 'dd-gujarati', 'nameTranslations': ['eng'], 'overviewTranslations': [], 'aliases': [], 'country': 'ind', 'primaryCompanyType': 1, 'activeDate': None, 'inactiveDate': None, 'companyType': {'companyTypeId': 1, 'companyTypeName': 'Network'}, 'parentCompany': {'id': None, 'name': None, 'relation': {'id': None, 'typeName': None}}, 'tagOptions': None}\n",
            "{'id': 85, 'name': 'Doordarshan News', 'slug': 'doordarshan-news', 'nameTranslations': ['eng'], 'overviewTranslations': [], 'aliases': [], 'country': 'ind', 'primaryCompanyType': 1, 'activeDate': None, 'inactiveDate': None, 'companyType': {'companyTypeId': 1, 'companyTypeName': 'Network'}, 'parentCompany': {'id': None, 'name': None, 'relation': {'id': None, 'typeName': None}}, 'tagOptions': None}\n",
            "{'id': 86, 'name': 'Doordarshan Sports', 'slug': 'doordarshan-sports', 'nameTranslations': ['eng'], 'overviewTranslations': [], 'aliases': [], 'country': 'ind', 'primaryCompanyType': 1, 'activeDate': None, 'inactiveDate': None, 'companyType': {'companyTypeId': 1, 'companyTypeName': 'Network'}, 'parentCompany': {'id': None, 'name': None, 'relation': {'id': None, 'typeName': None}}, 'tagOptions': None}\n",
            "{'id': 87, 'name': 'E!', 'slug': 'e', 'nameTranslations': ['eng'], 'overviewTranslations': [], 'aliases': [{'language': 'eng', 'name': 'E! Entertainment'}], 'country': 'usa', 'primaryCompanyType': 1, 'activeDate': None, 'inactiveDate': None, 'companyType': {'companyTypeId': 1, 'companyTypeName': 'Network'}, 'parentCompany': {'id': 30319, 'name': 'NBCUniversal', 'relation': {'id': None, 'typeName': None}}, 'tagOptions': None}\n",
            "{'id': 88, 'name': 'E! (CA)', 'slug': 'e-ca', 'nameTranslations': ['eng'], 'overviewTranslations': [], 'aliases': [], 'country': 'can', 'primaryCompanyType': 1, 'activeDate': None, 'inactiveDate': None, 'companyType': {'companyTypeId': 1, 'companyTypeName': 'Network'}, 'parentCompany': {'id': 87, 'name': 'E!', 'relation': {'id': None, 'typeName': None}}, 'tagOptions': None}\n",
            "{'id': 89, 'name': 'E4', 'slug': 'e4', 'nameTranslations': ['eng'], 'overviewTranslations': [], 'aliases': [], 'country': 'gbr', 'primaryCompanyType': 1, 'activeDate': None, 'inactiveDate': None, 'companyType': {'companyTypeId': 1, 'companyTypeName': 'Network'}, 'parentCompany': {'id': None, 'name': None, 'relation': {'id': None, 'typeName': None}}, 'tagOptions': None}\n",
            "{'id': 90, 'name': 'EBS', 'slug': 'ebs', 'nameTranslations': ['eng'], 'overviewTranslations': [], 'aliases': [], 'country': 'kor', 'primaryCompanyType': 1, 'activeDate': None, 'inactiveDate': None, 'companyType': {'companyTypeId': 1, 'companyTypeName': 'Network'}, 'parentCompany': {'id': None, 'name': None, 'relation': {'id': None, 'typeName': None}}, 'tagOptions': None}\n",
            "{'id': 91, 'name': 'ERT', 'slug': 'ert', 'nameTranslations': ['eng'], 'overviewTranslations': [], 'aliases': [], 'country': 'grc', 'primaryCompanyType': 1, 'activeDate': None, 'inactiveDate': None, 'companyType': {'companyTypeId': 1, 'companyTypeName': 'Network'}, 'parentCompany': {'id': None, 'name': None, 'relation': {'id': None, 'typeName': None}}, 'tagOptions': None}\n",
            "{'id': 92, 'name': 'ESPN', 'slug': 'espn', 'nameTranslations': ['eng'], 'overviewTranslations': [], 'aliases': [], 'country': 'usa', 'primaryCompanyType': 1, 'activeDate': None, 'inactiveDate': None, 'companyType': {'companyTypeId': 1, 'companyTypeName': 'Network'}, 'parentCompany': {'id': 45764, 'name': 'Walt Disney Company', 'relation': {'id': None, 'typeName': None}}, 'tagOptions': None}\n",
            "{'id': 93, 'name': 'ESPN Asia', 'slug': 'espn-asia', 'nameTranslations': ['eng'], 'overviewTranslations': [], 'aliases': [], 'country': 'hkg', 'primaryCompanyType': 1, 'activeDate': None, 'inactiveDate': None, 'companyType': {'companyTypeId': 1, 'companyTypeName': 'Network'}, 'parentCompany': {'id': None, 'name': None, 'relation': {'id': None, 'typeName': None}}, 'tagOptions': None}\n",
            "{'id': 94, 'name': 'ESPN Hong Kong', 'slug': 'espn-hong-kong', 'nameTranslations': ['eng'], 'overviewTranslations': [], 'aliases': [], 'country': 'hkg', 'primaryCompanyType': 1, 'activeDate': None, 'inactiveDate': None, 'companyType': {'companyTypeId': 1, 'companyTypeName': 'Network'}, 'parentCompany': {'id': None, 'name': None, 'relation': {'id': None, 'typeName': None}}, 'tagOptions': None}\n",
            "{'id': 95, 'name': 'ESPN India', 'slug': 'espn-india', 'nameTranslations': ['eng'], 'overviewTranslations': [], 'aliases': [], 'country': 'ind', 'primaryCompanyType': 1, 'activeDate': None, 'inactiveDate': None, 'companyType': {'companyTypeId': 1, 'companyTypeName': 'Network'}, 'parentCompany': {'id': None, 'name': None, 'relation': {'id': None, 'typeName': None}}, 'tagOptions': None}\n",
            "{'id': 96, 'name': 'ESPN Philippines', 'slug': 'espn-philippines', 'nameTranslations': ['eng'], 'overviewTranslations': [], 'aliases': [], 'country': 'phl', 'primaryCompanyType': 1, 'activeDate': None, 'inactiveDate': None, 'companyType': {'companyTypeId': 1, 'companyTypeName': 'Network'}, 'parentCompany': {'id': None, 'name': None, 'relation': {'id': None, 'typeName': None}}, 'tagOptions': None}\n",
            "{'id': 97, 'name': 'ESPN Taiwan', 'slug': 'espn-taiwan', 'nameTranslations': ['eng'], 'overviewTranslations': [], 'aliases': [], 'country': 'twn', 'primaryCompanyType': 1, 'activeDate': None, 'inactiveDate': None, 'companyType': {'companyTypeId': 1, 'companyTypeName': 'Network'}, 'parentCompany': {'id': None, 'name': None, 'relation': {'id': None, 'typeName': None}}, 'tagOptions': None}\n",
            "{'id': 98, 'name': 'ETV Gujarati', 'slug': 'etv-gujarati', 'nameTranslations': ['eng'], 'overviewTranslations': [], 'aliases': [], 'country': 'ind', 'primaryCompanyType': 1, 'activeDate': None, 'inactiveDate': None, 'companyType': {'companyTypeId': 1, 'companyTypeName': 'Network'}, 'parentCompany': {'id': None, 'name': None, 'relation': {'id': None, 'typeName': None}}, 'tagOptions': None}\n",
            "{'id': 99, 'name': 'Eurosport', 'slug': 'eurosport', 'nameTranslations': ['eng'], 'overviewTranslations': [], 'aliases': [], 'country': 'gbr', 'primaryCompanyType': 1, 'activeDate': None, 'inactiveDate': None, 'companyType': {'companyTypeId': 1, 'companyTypeName': 'Network'}, 'parentCompany': {'id': None, 'name': None, 'relation': {'id': None, 'typeName': None}}, 'tagOptions': None}\n",
            "{'id': 100, 'name': 'Family (CA)', 'slug': 'family-ca', 'nameTranslations': ['eng'], 'overviewTranslations': [], 'aliases': [], 'country': 'can', 'primaryCompanyType': 1, 'activeDate': None, 'inactiveDate': None, 'companyType': {'companyTypeId': 1, 'companyTypeName': 'Network'}, 'parentCompany': {'id': None, 'name': None, 'relation': {'id': None, 'typeName': None}}, 'tagOptions': None}\n",
            "{'id': 101, 'name': 'Fashion TV', 'slug': 'fashion-tv', 'nameTranslations': ['eng'], 'overviewTranslations': [], 'aliases': [], 'country': 'fra', 'primaryCompanyType': 1, 'activeDate': None, 'inactiveDate': None, 'companyType': {'companyTypeId': 1, 'companyTypeName': 'Network'}, 'parentCompany': {'id': None, 'name': None, 'relation': {'id': None, 'typeName': None}}, 'tagOptions': None}\n",
            "{'id': 103, 'name': 'Five Life', 'slug': 'five-life', 'nameTranslations': ['eng'], 'overviewTranslations': [], 'aliases': [], 'country': 'gbr', 'primaryCompanyType': 1, 'activeDate': None, 'inactiveDate': None, 'companyType': {'companyTypeId': 1, 'companyTypeName': 'Network'}, 'parentCompany': {'id': None, 'name': None, 'relation': {'id': None, 'typeName': None}}, 'tagOptions': None}\n",
            "{'id': 104, 'name': 'Five US', 'slug': 'five-us', 'nameTranslations': ['eng'], 'overviewTranslations': [], 'aliases': [], 'country': 'gbr', 'primaryCompanyType': 1, 'activeDate': None, 'inactiveDate': None, 'companyType': {'companyTypeId': 1, 'companyTypeName': 'Network'}, 'parentCompany': {'id': None, 'name': None, 'relation': {'id': None, 'typeName': None}}, 'tagOptions': None}\n",
            "{'id': 105, 'name': 'France 2', 'slug': 'france-2', 'nameTranslations': ['eng', 'fra'], 'overviewTranslations': [], 'aliases': [], 'country': 'fra', 'primaryCompanyType': 1, 'activeDate': None, 'inactiveDate': None, 'companyType': {'companyTypeId': 1, 'companyTypeName': 'Network'}, 'parentCompany': {'id': None, 'name': None, 'relation': {'id': None, 'typeName': None}}, 'tagOptions': None}\n",
            "{'id': 106, 'name': 'France 3', 'slug': 'france-3', 'nameTranslations': ['eng', 'fra'], 'overviewTranslations': [], 'aliases': [{'language': 'fra', 'name': 'FR3'}], 'country': 'fra', 'primaryCompanyType': 1, 'activeDate': None, 'inactiveDate': None, 'companyType': {'companyTypeId': 1, 'companyTypeName': 'Network'}, 'parentCompany': {'id': None, 'name': None, 'relation': {'id': None, 'typeName': None}}, 'tagOptions': None}\n",
            "{'id': 107, 'name': 'France 4', 'slug': 'france-4', 'nameTranslations': ['eng'], 'overviewTranslations': [], 'aliases': [], 'country': 'fra', 'primaryCompanyType': 1, 'activeDate': None, 'inactiveDate': None, 'companyType': {'companyTypeId': 1, 'companyTypeName': 'Network'}, 'parentCompany': {'id': None, 'name': None, 'relation': {'id': None, 'typeName': None}}, 'tagOptions': None}\n",
            "{'id': 108, 'name': 'France 5', 'slug': 'france-5', 'nameTranslations': ['eng'], 'overviewTranslations': [], 'aliases': [], 'country': 'fra', 'primaryCompanyType': 1, 'activeDate': None, 'inactiveDate': None, 'companyType': {'companyTypeId': 1, 'companyTypeName': 'Network'}, 'parentCompany': {'id': None, 'name': None, 'relation': {'id': None, 'typeName': None}}, 'tagOptions': None}\n",
            "{'id': 109, 'name': 'France Ô', 'slug': 'france-o', 'nameTranslations': ['eng'], 'overviewTranslations': [], 'aliases': [], 'country': 'fra', 'primaryCompanyType': 1, 'activeDate': None, 'inactiveDate': None, 'companyType': {'companyTypeId': 1, 'companyTypeName': 'Network'}, 'parentCompany': {'id': None, 'name': None, 'relation': {'id': None, 'typeName': None}}, 'tagOptions': None}\n",
            "{'id': 110, 'name': 'Fred TV', 'slug': 'fred-tv', 'nameTranslations': ['eng'], 'overviewTranslations': [], 'aliases': [], 'country': 'usa', 'primaryCompanyType': 1, 'activeDate': None, 'inactiveDate': None, 'companyType': {'companyTypeId': 1, 'companyTypeName': 'Network'}, 'parentCompany': {'id': None, 'name': None, 'relation': {'id': None, 'typeName': None}}, 'tagOptions': None}\n",
            "{'id': 111, 'name': 'Fuji TV', 'slug': 'fuji-tv', 'nameTranslations': ['eng', 'jpn', 'pt'], 'overviewTranslations': ['pt'], 'aliases': [], 'country': 'jpn', 'primaryCompanyType': 1, 'activeDate': None, 'inactiveDate': None, 'companyType': {'companyTypeId': 1, 'companyTypeName': 'Network'}, 'parentCompany': {'id': None, 'name': None, 'relation': {'id': None, 'typeName': None}}, 'tagOptions': None}\n",
            "{'id': 112, 'name': 'FUNimation Channel', 'slug': 'funimation-channel', 'nameTranslations': ['eng'], 'overviewTranslations': [], 'aliases': [], 'country': 'usa', 'primaryCompanyType': 1, 'activeDate': None, 'inactiveDate': None, 'companyType': {'companyTypeId': 1, 'companyTypeName': 'Network'}, 'parentCompany': {'id': None, 'name': None, 'relation': {'id': None, 'typeName': None}}, 'tagOptions': None}\n",
            "{'id': 113, 'name': 'GEO Super', 'slug': 'geo-super', 'nameTranslations': ['eng'], 'overviewTranslations': [], 'aliases': [], 'country': 'pak', 'primaryCompanyType': 1, 'activeDate': None, 'inactiveDate': None, 'companyType': {'companyTypeId': 1, 'companyTypeName': 'Network'}, 'parentCompany': {'id': None, 'name': None, 'relation': {'id': None, 'typeName': None}}, 'tagOptions': None}\n",
            "{'id': 114, 'name': 'Geo TV', 'slug': 'geo-tv', 'nameTranslations': ['eng'], 'overviewTranslations': [], 'aliases': [], 'country': 'pak', 'primaryCompanyType': 1, 'activeDate': None, 'inactiveDate': None, 'companyType': {'companyTypeId': 1, 'companyTypeName': 'Network'}, 'parentCompany': {'id': None, 'name': None, 'relation': {'id': None, 'typeName': None}}, 'tagOptions': None}\n",
            "{'id': 115, 'name': 'GMA Network', 'slug': 'gma', 'nameTranslations': ['eng'], 'overviewTranslations': [], 'aliases': [{'language': 'eng', 'name': 'GMA'}], 'country': 'phl', 'primaryCompanyType': 1, 'activeDate': '1950-03-01', 'inactiveDate': None, 'companyType': {'companyTypeId': 1, 'companyTypeName': 'Network'}, 'parentCompany': {'id': None, 'name': None, 'relation': {'id': None, 'typeName': None}}, 'tagOptions': None}\n",
            "{'id': 116, 'name': 'Game Show Network', 'slug': 'game-show-network', 'nameTranslations': ['eng'], 'overviewTranslations': [], 'aliases': [{'language': 'eng', 'name': 'GSN'}], 'country': 'usa', 'primaryCompanyType': 1, 'activeDate': '1994-12-01', 'inactiveDate': None, 'companyType': {'companyTypeId': 1, 'companyTypeName': 'Network'}, 'parentCompany': {'id': None, 'name': None, 'relation': {'id': None, 'typeName': None}}, 'tagOptions': None}\n",
            "{'id': 117, 'name': 'Guardian Television Network', 'slug': 'guardian-television-network', 'nameTranslations': ['eng'], 'overviewTranslations': [], 'aliases': [], 'country': 'usa', 'primaryCompanyType': 1, 'activeDate': None, 'inactiveDate': None, 'companyType': {'companyTypeId': 1, 'companyTypeName': 'Network'}, 'parentCompany': {'id': None, 'name': None, 'relation': {'id': None, 'typeName': None}}, 'tagOptions': None}\n",
            "{'id': 118, 'name': 'Hallmark Channel', 'slug': 'hallmark-channel', 'nameTranslations': ['eng'], 'overviewTranslations': [], 'aliases': [], 'country': 'usa', 'primaryCompanyType': 1, 'activeDate': None, 'inactiveDate': None, 'companyType': {'companyTypeId': 1, 'companyTypeName': 'Network'}, 'parentCompany': {'id': None, 'name': None, 'relation': {'id': None, 'typeName': None}}, 'tagOptions': None}\n",
            "{'id': 119, 'name': 'Indus Music', 'slug': 'indus-music', 'nameTranslations': ['eng'], 'overviewTranslations': [], 'aliases': [], 'country': 'pak', 'primaryCompanyType': 1, 'activeDate': None, 'inactiveDate': None, 'companyType': {'companyTypeId': 1, 'companyTypeName': 'Network'}, 'parentCompany': {'id': None, 'name': None, 'relation': {'id': None, 'typeName': None}}, 'tagOptions': None}\n",
            "{'id': 120, 'name': 'Indus News', 'slug': 'indus-news', 'nameTranslations': ['eng'], 'overviewTranslations': [], 'aliases': [], 'country': 'pak', 'primaryCompanyType': 1, 'activeDate': None, 'inactiveDate': None, 'companyType': {'companyTypeId': 1, 'companyTypeName': 'Network'}, 'parentCompany': {'id': None, 'name': None, 'relation': {'id': None, 'typeName': None}}, 'tagOptions': None}\n",
            "{'id': 121, 'name': 'Indus Vision', 'slug': 'indus-vision', 'nameTranslations': ['eng'], 'overviewTranslations': [], 'aliases': [], 'country': 'pak', 'primaryCompanyType': 1, 'activeDate': None, 'inactiveDate': None, 'companyType': {'companyTypeId': 1, 'companyTypeName': 'Network'}, 'parentCompany': {'id': None, 'name': None, 'relation': {'id': None, 'typeName': None}}, 'tagOptions': None}\n",
            "{'id': 122, 'name': 'Ion Television', 'slug': 'ion-television', 'nameTranslations': ['eng'], 'overviewTranslations': [], 'aliases': [], 'country': 'usa', 'primaryCompanyType': 1, 'activeDate': None, 'inactiveDate': None, 'companyType': {'companyTypeId': 1, 'companyTypeName': 'Network'}, 'parentCompany': {'id': None, 'name': None, 'relation': {'id': None, 'typeName': None}}, 'tagOptions': None}\n",
            "{'id': 123, 'name': 'KanaalTwee', 'slug': 'kanaaltwee', 'nameTranslations': ['eng'], 'overviewTranslations': [], 'aliases': [], 'country': 'bel', 'primaryCompanyType': 1, 'activeDate': None, 'inactiveDate': None, 'companyType': {'companyTypeId': 1, 'companyTypeName': 'Network'}, 'parentCompany': {'id': None, 'name': None, 'relation': {'id': None, 'typeName': None}}, 'tagOptions': None}\n",
            "{'id': 124, 'name': 'Kashish TV', 'slug': 'kashish-tv', 'nameTranslations': ['eng'], 'overviewTranslations': [], 'aliases': [], 'country': 'pak', 'primaryCompanyType': 1, 'activeDate': None, 'inactiveDate': None, 'companyType': {'companyTypeId': 1, 'companyTypeName': 'Network'}, 'parentCompany': {'id': None, 'name': None, 'relation': {'id': None, 'typeName': None}}, 'tagOptions': None}\n",
            "{'id': 125, 'name': 'KBS', 'slug': 'kbs', 'nameTranslations': ['eng', 'kor'], 'overviewTranslations': [], 'aliases': [{'language': 'eng', 'name': 'Korean Broadcasting System'}], 'country': 'kor', 'primaryCompanyType': 1, 'activeDate': None, 'inactiveDate': None, 'companyType': {'companyTypeId': 1, 'companyTypeName': 'Network'}, 'parentCompany': {'id': None, 'name': None, 'relation': {'id': None, 'typeName': None}}, 'tagOptions': None}\n",
            "{'id': 126, 'name': 'Kerrang! TV', 'slug': 'kerrang-tv', 'nameTranslations': ['eng'], 'overviewTranslations': [], 'aliases': [], 'country': 'gbr', 'primaryCompanyType': 1, 'activeDate': None, 'inactiveDate': None, 'companyType': {'companyTypeId': 1, 'companyTypeName': 'Network'}, 'parentCompany': {'id': None, 'name': None, 'relation': {'id': None, 'typeName': None}}, 'tagOptions': None}\n",
            "{'id': 127, 'name': 'Kids and Teens TV', 'slug': 'kids-and-teens-tv', 'nameTranslations': ['eng'], 'overviewTranslations': [], 'aliases': [], 'country': 'usa', 'primaryCompanyType': 1, 'activeDate': None, 'inactiveDate': None, 'companyType': {'companyTypeId': 1, 'companyTypeName': 'Network'}, 'parentCompany': {'id': None, 'name': None, 'relation': {'id': None, 'typeName': None}}, 'tagOptions': None}\n",
            "{'id': 128, 'name': 'KIKA', 'slug': 'kika', 'nameTranslations': ['eng'], 'overviewTranslations': [], 'aliases': [], 'country': 'deu', 'primaryCompanyType': 1, 'activeDate': None, 'inactiveDate': None, 'companyType': {'companyTypeId': 1, 'companyTypeName': 'Network'}, 'parentCompany': {'id': None, 'name': None, 'relation': {'id': None, 'typeName': None}}, 'tagOptions': None}\n",
            "{'id': 129, 'name': 'Kiss', 'slug': 'kiss', 'nameTranslations': ['eng'], 'overviewTranslations': [], 'aliases': [], 'country': 'gbr', 'primaryCompanyType': 1, 'activeDate': None, 'inactiveDate': None, 'companyType': {'companyTypeId': 1, 'companyTypeName': 'Network'}, 'parentCompany': {'id': None, 'name': None, 'relation': {'id': None, 'typeName': None}}, 'tagOptions': None}\n",
            "{'id': 130, 'name': 'KTN', 'slug': 'ktn', 'nameTranslations': ['eng'], 'overviewTranslations': [], 'aliases': [], 'country': 'ken', 'primaryCompanyType': 1, 'activeDate': None, 'inactiveDate': None, 'companyType': {'companyTypeId': 1, 'companyTypeName': 'Network'}, 'parentCompany': {'id': None, 'name': None, 'relation': {'id': None, 'typeName': None}}, 'tagOptions': None}\n",
            "{'id': 131, 'name': 'LCI', 'slug': 'lci', 'nameTranslations': ['eng'], 'overviewTranslations': [], 'aliases': [], 'country': 'fra', 'primaryCompanyType': 1, 'activeDate': None, 'inactiveDate': None, 'companyType': {'companyTypeId': 1, 'companyTypeName': 'Network'}, 'parentCompany': {'id': None, 'name': None, 'relation': {'id': None, 'typeName': None}}, 'tagOptions': None}\n",
            "{'id': 132, 'name': 'Liberty Channel', 'slug': 'liberty-channel', 'nameTranslations': ['eng'], 'overviewTranslations': [], 'aliases': [], 'country': 'usa', 'primaryCompanyType': 1, 'activeDate': None, 'inactiveDate': None, 'companyType': {'companyTypeId': 1, 'companyTypeName': 'Network'}, 'parentCompany': {'id': None, 'name': None, 'relation': {'id': None, 'typeName': None}}, 'tagOptions': None}\n",
            "{'id': 133, 'name': 'Liberty TV', 'slug': 'liberty-tv', 'nameTranslations': ['eng'], 'overviewTranslations': [], 'aliases': [], 'country': 'gbr', 'primaryCompanyType': 1, 'activeDate': None, 'inactiveDate': None, 'companyType': {'companyTypeId': 1, 'companyTypeName': 'Network'}, 'parentCompany': {'id': None, 'name': None, 'relation': {'id': None, 'typeName': None}}, 'tagOptions': None}\n",
            "{'id': 134, 'name': 'Living', 'slug': 'living', 'nameTranslations': ['eng'], 'overviewTranslations': [], 'aliases': [], 'country': 'gbr', 'primaryCompanyType': 1, 'activeDate': None, 'inactiveDate': None, 'companyType': {'companyTypeId': 1, 'companyTypeName': 'Network'}, 'parentCompany': {'id': None, 'name': None, 'relation': {'id': None, 'typeName': None}}, 'tagOptions': None}\n",
            "{'id': 135, 'name': 'M6', 'slug': 'm6', 'nameTranslations': ['eng', 'fra'], 'overviewTranslations': [], 'aliases': [], 'country': 'fra', 'primaryCompanyType': 1, 'activeDate': None, 'inactiveDate': None, 'companyType': {'companyTypeId': 1, 'companyTypeName': 'Network'}, 'parentCompany': {'id': None, 'name': None, 'relation': {'id': None, 'typeName': None}}, 'tagOptions': None}\n",
            "{'id': 136, 'name': 'Magic', 'slug': 'magic', 'nameTranslations': ['eng'], 'overviewTranslations': [], 'aliases': [], 'country': 'gbr', 'primaryCompanyType': 1, 'activeDate': None, 'inactiveDate': None, 'companyType': {'companyTypeId': 1, 'companyTypeName': 'Network'}, 'parentCompany': {'id': None, 'name': None, 'relation': {'id': None, 'typeName': None}}, 'tagOptions': None}\n",
            "{'id': 137, 'name': 'MATV', 'slug': 'matv', 'nameTranslations': ['eng'], 'overviewTranslations': [], 'aliases': [], 'country': 'gbr', 'primaryCompanyType': 1, 'activeDate': None, 'inactiveDate': None, 'companyType': {'companyTypeId': 1, 'companyTypeName': 'Network'}, 'parentCompany': {'id': None, 'name': None, 'relation': {'id': None, 'typeName': None}}, 'tagOptions': None}\n",
            "{'id': 138, 'name': 'MBS', 'slug': 'mbs', 'nameTranslations': ['eng', 'pt'], 'overviewTranslations': ['pt'], 'aliases': [{'language': 'pt', 'name': 'Mainichi Broadcasting System'}], 'country': 'jpn', 'primaryCompanyType': 1, 'activeDate': '1950-12-27', 'inactiveDate': None, 'companyType': {'companyTypeId': 1, 'companyTypeName': 'Network'}, 'parentCompany': {'id': None, 'name': None, 'relation': {'id': None, 'typeName': None}}, 'tagOptions': None}\n",
            "{'id': 139, 'name': 'MDR', 'slug': 'mdr', 'nameTranslations': ['deu', 'eng'], 'overviewTranslations': [], 'aliases': [{'language': 'deu', 'name': 'Mitteldeutscher Rundfunk'}], 'country': 'deu', 'primaryCompanyType': 1, 'activeDate': None, 'inactiveDate': None, 'companyType': {'companyTypeId': 1, 'companyTypeName': 'Network'}, 'parentCompany': {'id': None, 'name': None, 'relation': {'id': None, 'typeName': None}}, 'tagOptions': None}\n",
            "{'id': 140, 'name': 'Mega Channel', 'slug': 'mega-channel', 'nameTranslations': ['eng'], 'overviewTranslations': [], 'aliases': [], 'country': 'grc', 'primaryCompanyType': 1, 'activeDate': None, 'inactiveDate': None, 'companyType': {'companyTypeId': 1, 'companyTypeName': 'Network'}, 'parentCompany': {'id': None, 'name': None, 'relation': {'id': None, 'typeName': None}}, 'tagOptions': None}\n",
            "{'id': 141, 'name': 'MTV Base', 'slug': 'mtv-base', 'nameTranslations': ['eng'], 'overviewTranslations': [], 'aliases': [], 'country': 'gbr', 'primaryCompanyType': 1, 'activeDate': None, 'inactiveDate': None, 'companyType': {'companyTypeId': 1, 'companyTypeName': 'Network'}, 'parentCompany': {'id': None, 'name': None, 'relation': {'id': None, 'typeName': None}}, 'tagOptions': None}\n",
            "{'id': 142, 'name': 'MTV Dance', 'slug': 'mtv-dance', 'nameTranslations': ['eng'], 'overviewTranslations': [], 'aliases': [], 'country': 'gbr', 'primaryCompanyType': 1, 'activeDate': None, 'inactiveDate': None, 'companyType': {'companyTypeId': 1, 'companyTypeName': 'Network'}, 'parentCompany': {'id': None, 'name': None, 'relation': {'id': None, 'typeName': None}}, 'tagOptions': None}\n",
            "{'id': 143, 'name': 'MTV Hits', 'slug': 'mtv-hits', 'nameTranslations': ['eng'], 'overviewTranslations': [], 'aliases': [], 'country': 'usa', 'primaryCompanyType': 1, 'activeDate': None, 'inactiveDate': None, 'companyType': {'companyTypeId': 1, 'companyTypeName': 'Network'}, 'parentCompany': {'id': None, 'name': None, 'relation': {'id': None, 'typeName': None}}, 'tagOptions': None}\n",
            "{'id': 144, 'name': 'MTV2', 'slug': 'mtv2', 'nameTranslations': ['eng'], 'overviewTranslations': [], 'aliases': [], 'country': 'usa', 'primaryCompanyType': 1, 'activeDate': None, 'inactiveDate': None, 'companyType': {'companyTypeId': 1, 'companyTypeName': 'Network'}, 'parentCompany': {'id': None, 'name': None, 'relation': {'id': None, 'typeName': None}}, 'tagOptions': None}\n",
            "{'id': 145, 'name': 'MBC', 'slug': 'mbc', 'nameTranslations': ['eng', 'kor'], 'overviewTranslations': [], 'aliases': [{'language': 'eng', 'name': 'Munhwa Broadcasting Corporation'}], 'country': 'kor', 'primaryCompanyType': 1, 'activeDate': '1961-12-02', 'inactiveDate': None, 'companyType': {'companyTypeId': 1, 'companyTypeName': 'Network'}, 'parentCompany': {'id': None, 'name': None, 'relation': {'id': None, 'typeName': None}}, 'tagOptions': None}\n",
            "{'id': 146, 'name': 'MUTV', 'slug': 'mutv', 'nameTranslations': ['eng'], 'overviewTranslations': [], 'aliases': [], 'country': 'gbr', 'primaryCompanyType': 1, 'activeDate': None, 'inactiveDate': None, 'companyType': {'companyTypeId': 1, 'companyTypeName': 'Network'}, 'parentCompany': {'id': None, 'name': None, 'relation': {'id': None, 'typeName': None}}, 'tagOptions': None}\n",
            "{'id': 147, 'name': 'NBC', 'slug': 'nbc', 'nameTranslations': ['eng', 'spa'], 'overviewTranslations': ['spa'], 'aliases': [], 'country': 'usa', 'primaryCompanyType': 1, 'activeDate': None, 'inactiveDate': None, 'companyType': {'companyTypeId': 1, 'companyTypeName': 'Network'}, 'parentCompany': {'id': None, 'name': None, 'relation': {'id': None, 'typeName': None}}, 'tagOptions': None}\n",
            "{'id': 148, 'name': 'Norddeutscher Rundfunk (NDR)', 'slug': 'ndr', 'nameTranslations': ['eng'], 'overviewTranslations': [], 'aliases': [{'language': 'eng', 'name': 'NDR'}], 'country': 'deu', 'primaryCompanyType': 1, 'activeDate': None, 'inactiveDate': None, 'companyType': {'companyTypeId': 1, 'companyTypeName': 'Network'}, 'parentCompany': {'id': None, 'name': None, 'relation': {'id': None, 'typeName': None}}, 'tagOptions': None}\n",
            "{'id': 149, 'name': 'NDTV 24x7', 'slug': 'ndtv-24x7', 'nameTranslations': ['eng'], 'overviewTranslations': [], 'aliases': [], 'country': 'ind', 'primaryCompanyType': 1, 'activeDate': None, 'inactiveDate': None, 'companyType': {'companyTypeId': 1, 'companyTypeName': 'Network'}, 'parentCompany': {'id': None, 'name': None, 'relation': {'id': None, 'typeName': None}}, 'tagOptions': None}\n",
            "{'id': 150, 'name': 'NDTV India', 'slug': 'ndtv-india', 'nameTranslations': ['eng'], 'overviewTranslations': [], 'aliases': [], 'country': 'ind', 'primaryCompanyType': 1, 'activeDate': None, 'inactiveDate': None, 'companyType': {'companyTypeId': 1, 'companyTypeName': 'Network'}, 'parentCompany': {'id': None, 'name': None, 'relation': {'id': None, 'typeName': None}}, 'tagOptions': None}\n",
            "{'id': 151, 'name': 'New Tang Dynasty TV', 'slug': 'new-tang-dynasty-tv', 'nameTranslations': ['eng'], 'overviewTranslations': [], 'aliases': [], 'country': 'usa', 'primaryCompanyType': 1, 'activeDate': None, 'inactiveDate': None, 'companyType': {'companyTypeId': 1, 'companyTypeName': 'Network'}, 'parentCompany': {'id': None, 'name': None, 'relation': {'id': None, 'typeName': None}}, 'tagOptions': None}\n",
            "{'id': 152, 'name': 'News One', 'slug': 'news-one', 'nameTranslations': ['eng'], 'overviewTranslations': [], 'aliases': [], 'country': 'pak', 'primaryCompanyType': 1, 'activeDate': None, 'inactiveDate': None, 'companyType': {'companyTypeId': 1, 'companyTypeName': 'Network'}, 'parentCompany': {'id': None, 'name': None, 'relation': {'id': None, 'typeName': None}}, 'tagOptions': None}\n",
            "{'id': 153, 'name': 'NHK', 'slug': 'nhk', 'nameTranslations': ['eng', 'jpn'], 'overviewTranslations': [], 'aliases': [], 'country': 'jpn', 'primaryCompanyType': 1, 'activeDate': '1924-11-24', 'inactiveDate': None, 'companyType': {'companyTypeId': 1, 'companyTypeName': 'Network'}, 'parentCompany': {'id': None, 'name': None, 'relation': {'id': None, 'typeName': None}}, 'tagOptions': None}\n",
            "{'id': 154, 'name': 'Nick at Nite', 'slug': 'nick-at-nite', 'nameTranslations': ['eng'], 'overviewTranslations': [], 'aliases': [], 'country': 'usa', 'primaryCompanyType': 1, 'activeDate': None, 'inactiveDate': None, 'companyType': {'companyTypeId': 1, 'companyTypeName': 'Network'}, 'parentCompany': {'id': None, 'name': None, 'relation': {'id': None, 'typeName': None}}, 'tagOptions': None}\n",
            "{'id': 155, 'name': 'Nick GAS', 'slug': 'nick-gas', 'nameTranslations': ['eng'], 'overviewTranslations': [], 'aliases': [], 'country': 'usa', 'primaryCompanyType': 1, 'activeDate': None, 'inactiveDate': None, 'companyType': {'companyTypeId': 1, 'companyTypeName': 'Network'}, 'parentCompany': {'id': None, 'name': None, 'relation': {'id': None, 'typeName': None}}, 'tagOptions': None}\n",
            "{'id': 156, 'name': 'Nickelodeon', 'slug': 'nickelodeon', 'nameTranslations': ['eng', 'heb', 'spa'], 'overviewTranslations': ['eng', 'spa'], 'aliases': [{'language': 'spa', 'name': 'Nick'}], 'country': 'usa', 'primaryCompanyType': 1, 'activeDate': '1979-04-01', 'inactiveDate': None, 'companyType': {'companyTypeId': 1, 'companyTypeName': 'Network'}, 'parentCompany': {'id': 47784, 'name': 'Paramount Global', 'relation': {'id': None, 'typeName': None}}, 'tagOptions': None}\n",
            "{'id': 157, 'name': 'NickToons', 'slug': 'nicktoons', 'nameTranslations': ['eng'], 'overviewTranslations': [], 'aliases': [], 'country': 'usa', 'primaryCompanyType': 1, 'activeDate': None, 'inactiveDate': None, 'companyType': {'companyTypeId': 1, 'companyTypeName': 'Network'}, 'parentCompany': {'id': None, 'name': None, 'relation': {'id': None, 'typeName': None}}, 'tagOptions': None}\n",
            "{'id': 158, 'name': 'Nine Network', 'slug': 'nine-network', 'nameTranslations': ['eng'], 'overviewTranslations': [], 'aliases': [], 'country': 'aus', 'primaryCompanyType': 1, 'activeDate': None, 'inactiveDate': None, 'companyType': {'companyTypeId': 1, 'companyTypeName': 'Network'}, 'parentCompany': {'id': None, 'name': None, 'relation': {'id': None, 'typeName': None}}, 'tagOptions': None}\n",
            "{'id': 159, 'name': 'Noggin', 'slug': 'noggin', 'nameTranslations': ['eng'], 'overviewTranslations': ['eng'], 'aliases': [], 'country': 'usa', 'primaryCompanyType': 1, 'activeDate': '1999-02-02', 'inactiveDate': None, 'companyType': {'companyTypeId': 1, 'companyTypeName': 'Network'}, 'parentCompany': {'id': 685, 'name': 'Nick Jr.', 'relation': {'id': None, 'typeName': None}}, 'tagOptions': None}\n",
            "{'id': 160, 'name': 'NTA', 'slug': 'nta', 'nameTranslations': ['eng'], 'overviewTranslations': [], 'aliases': [], 'country': 'nga', 'primaryCompanyType': 1, 'activeDate': None, 'inactiveDate': None, 'companyType': {'companyTypeId': 1, 'companyTypeName': 'Network'}, 'parentCompany': {'id': None, 'name': None, 'relation': {'id': None, 'typeName': None}}, 'tagOptions': None}\n",
            "{'id': 161, 'name': 'Nippon TV', 'slug': 'ntv-jp', 'nameTranslations': ['eng', 'jpn'], 'overviewTranslations': ['jpn'], 'aliases': [{'language': 'jpn', 'name': '日テレ'}, {'language': 'jpn', 'name': '日本テレビ'}, {'language': 'eng', 'name': 'JOAX-DTV'}, {'language': 'eng', 'name': 'Nittere'}, {'language': 'eng', 'name': 'NTV'}], 'country': 'jpn', 'primaryCompanyType': 1, 'activeDate': '1952-10-28', 'inactiveDate': None, 'companyType': {'companyTypeId': 1, 'companyTypeName': 'Network'}, 'parentCompany': {'id': None, 'name': None, 'relation': {'id': None, 'typeName': None}}, 'tagOptions': None}\n",
            "{'id': 162, 'name': 'Ovation TV', 'slug': 'ovation-tv', 'nameTranslations': ['eng'], 'overviewTranslations': [], 'aliases': [], 'country': 'usa', 'primaryCompanyType': 1, 'activeDate': None, 'inactiveDate': None, 'companyType': {'companyTypeId': 1, 'companyTypeName': 'Network'}, 'parentCompany': {'id': None, 'name': None, 'relation': {'id': None, 'typeName': None}}, 'tagOptions': None}\n",
            "{'id': 163, 'name': 'Paramount Comedy', 'slug': 'paramount-comedy', 'nameTranslations': ['eng'], 'overviewTranslations': [], 'aliases': [], 'country': 'gbr', 'primaryCompanyType': 1, 'activeDate': None, 'inactiveDate': None, 'companyType': {'companyTypeId': 1, 'companyTypeName': 'Network'}, 'parentCompany': {'id': None, 'name': None, 'relation': {'id': None, 'typeName': None}}, 'tagOptions': None}\n",
            "{'id': 164, 'name': 'PBS', 'slug': 'pbs', 'nameTranslations': ['eng'], 'overviewTranslations': [], 'aliases': [], 'country': 'usa', 'primaryCompanyType': 1, 'activeDate': None, 'inactiveDate': None, 'companyType': {'companyTypeId': 1, 'companyTypeName': 'Network'}, 'parentCompany': {'id': None, 'name': None, 'relation': {'id': None, 'typeName': None}}, 'tagOptions': None}\n",
            "{'id': 165, 'name': 'PBS Kids Sprout', 'slug': 'pbs-kids-sprout', 'nameTranslations': ['eng'], 'overviewTranslations': ['eng'], 'aliases': [], 'country': 'usa', 'primaryCompanyType': 1, 'activeDate': '2005-09-26', 'inactiveDate': '2017-09-08', 'companyType': {'companyTypeId': 1, 'companyTypeName': 'Network'}, 'parentCompany': {'id': 1234, 'name': 'Universal Kids', 'relation': {'id': 2, 'typeName': 'Rebranded As'}}, 'tagOptions': None}\n",
            "{'id': 166, 'name': 'Phoenix', 'slug': 'phoenix', 'nameTranslations': ['eng'], 'overviewTranslations': [], 'aliases': [], 'country': 'deu', 'primaryCompanyType': 1, 'activeDate': None, 'inactiveDate': None, 'companyType': {'companyTypeId': 1, 'companyTypeName': 'Network'}, 'parentCompany': {'id': None, 'name': None, 'relation': {'id': None, 'typeName': None}}, 'tagOptions': None}\n",
            "{'id': 167, 'name': 'Phoenix TV', 'slug': 'phoenix-tv', 'nameTranslations': ['eng'], 'overviewTranslations': [], 'aliases': [], 'country': 'chn', 'primaryCompanyType': 1, 'activeDate': None, 'inactiveDate': None, 'companyType': {'companyTypeId': 1, 'companyTypeName': 'Network'}, 'parentCompany': {'id': None, 'name': None, 'relation': {'id': None, 'typeName': None}}, 'tagOptions': None}\n",
            "{'id': 168, 'name': 'Playboy TV', 'slug': 'playboy-tv', 'nameTranslations': ['eng'], 'overviewTranslations': [], 'aliases': [], 'country': 'usa', 'primaryCompanyType': 1, 'activeDate': None, 'inactiveDate': None, 'companyType': {'companyTypeId': 1, 'companyTypeName': 'Network'}, 'parentCompany': {'id': None, 'name': None, 'relation': {'id': None, 'typeName': None}}, 'tagOptions': None}\n",
            "{'id': 169, 'name': 'Playhouse Disney', 'slug': 'playhouse-disney', 'nameTranslations': ['eng'], 'overviewTranslations': [], 'aliases': [], 'country': 'usa', 'primaryCompanyType': 1, 'activeDate': None, 'inactiveDate': None, 'companyType': {'companyTypeId': 1, 'companyTypeName': 'Network'}, 'parentCompany': {'id': None, 'name': None, 'relation': {'id': None, 'typeName': None}}, 'tagOptions': None}\n",
            "{'id': 170, 'name': 'PlayJam', 'slug': 'playjam', 'nameTranslations': ['eng'], 'overviewTranslations': [], 'aliases': [], 'country': 'gbr', 'primaryCompanyType': 1, 'activeDate': None, 'inactiveDate': None, 'companyType': {'companyTypeId': 1, 'companyTypeName': 'Network'}, 'parentCompany': {'id': None, 'name': None, 'relation': {'id': None, 'typeName': None}}, 'tagOptions': None}\n",
            "{'id': 171, 'name': 'Press TV', 'slug': 'press-tv', 'nameTranslations': ['eng'], 'overviewTranslations': [], 'aliases': [], 'country': 'irn', 'primaryCompanyType': 1, 'activeDate': None, 'inactiveDate': None, 'companyType': {'companyTypeId': 1, 'companyTypeName': 'Network'}, 'parentCompany': {'id': None, 'name': None, 'relation': {'id': None, 'typeName': None}}, 'tagOptions': None}\n",
            "{'id': 172, 'name': 'PRO TV', 'slug': 'pro-tv', 'nameTranslations': ['eng'], 'overviewTranslations': [], 'aliases': [], 'country': 'rou', 'primaryCompanyType': 1, 'activeDate': None, 'inactiveDate': None, 'companyType': {'companyTypeId': 1, 'companyTypeName': 'Network'}, 'parentCompany': {'id': None, 'name': None, 'relation': {'id': None, 'typeName': None}}, 'tagOptions': None}\n",
            "{'id': 173, 'name': 'PTV Bolan', 'slug': 'ptv-bolan', 'nameTranslations': ['eng'], 'overviewTranslations': [], 'aliases': [], 'country': 'pak', 'primaryCompanyType': 1, 'activeDate': None, 'inactiveDate': None, 'companyType': {'companyTypeId': 1, 'companyTypeName': 'Network'}, 'parentCompany': {'id': None, 'name': None, 'relation': {'id': None, 'typeName': None}}, 'tagOptions': None}\n",
            "{'id': 174, 'name': 'PTV Global', 'slug': 'ptv-global', 'nameTranslations': ['eng'], 'overviewTranslations': [], 'aliases': [], 'country': 'usa', 'primaryCompanyType': 1, 'activeDate': None, 'inactiveDate': None, 'companyType': {'companyTypeId': 1, 'companyTypeName': 'Network'}, 'parentCompany': {'id': None, 'name': None, 'relation': {'id': None, 'typeName': None}}, 'tagOptions': None}\n",
            "{'id': 175, 'name': 'PTV Home', 'slug': 'ptv-home', 'nameTranslations': ['eng'], 'overviewTranslations': [], 'aliases': [], 'country': 'pak', 'primaryCompanyType': 1, 'activeDate': None, 'inactiveDate': None, 'companyType': {'companyTypeId': 1, 'companyTypeName': 'Network'}, 'parentCompany': {'id': None, 'name': None, 'relation': {'id': None, 'typeName': None}}, 'tagOptions': None}\n",
            "{'id': 176, 'name': 'PTV News', 'slug': 'ptv-news', 'nameTranslations': ['eng'], 'overviewTranslations': [], 'aliases': [], 'country': 'pak', 'primaryCompanyType': 1, 'activeDate': None, 'inactiveDate': None, 'companyType': {'companyTypeId': 1, 'companyTypeName': 'Network'}, 'parentCompany': {'id': None, 'name': None, 'relation': {'id': None, 'typeName': None}}, 'tagOptions': None}\n",
            "{'id': 177, 'name': 'Pub Channel', 'slug': 'pub-channel', 'nameTranslations': ['eng'], 'overviewTranslations': [], 'aliases': [], 'country': 'gbr', 'primaryCompanyType': 1, 'activeDate': None, 'inactiveDate': None, 'companyType': {'companyTypeId': 1, 'companyTypeName': 'Network'}, 'parentCompany': {'id': None, 'name': None, 'relation': {'id': None, 'typeName': None}}, 'tagOptions': None}\n",
            "{'id': 178, 'name': 'Q TV', 'slug': 'q-tv', 'nameTranslations': ['eng'], 'overviewTranslations': [], 'aliases': [], 'country': 'gbr', 'primaryCompanyType': 1, 'activeDate': None, 'inactiveDate': None, 'companyType': {'companyTypeId': 1, 'companyTypeName': 'Network'}, 'parentCompany': {'id': None, 'name': None, 'relation': {'id': None, 'typeName': None}}, 'tagOptions': None}\n",
            "{'id': 179, 'name': 'QVC', 'slug': 'qvc', 'nameTranslations': ['eng'], 'overviewTranslations': [], 'aliases': [], 'country': 'usa', 'primaryCompanyType': 1, 'activeDate': None, 'inactiveDate': None, 'companyType': {'companyTypeId': 1, 'companyTypeName': 'Network'}, 'parentCompany': {'id': None, 'name': None, 'relation': {'id': None, 'typeName': None}}, 'tagOptions': None}\n",
            "{'id': 180, 'name': 'Radio Bremen', 'slug': 'radio-bremen', 'nameTranslations': ['eng'], 'overviewTranslations': [], 'aliases': [], 'country': 'deu', 'primaryCompanyType': 1, 'activeDate': None, 'inactiveDate': None, 'companyType': {'companyTypeId': 1, 'companyTypeName': 'Network'}, 'parentCompany': {'id': None, 'name': None, 'relation': {'id': None, 'typeName': None}}, 'tagOptions': None}\n",
            "{'id': 181, 'name': 'Radio-Canada', 'slug': 'radio-canada', 'nameTranslations': ['eng'], 'overviewTranslations': [], 'aliases': [], 'country': 'can', 'primaryCompanyType': 1, 'activeDate': None, 'inactiveDate': None, 'companyType': {'companyTypeId': 1, 'companyTypeName': 'Network'}, 'parentCompany': {'id': None, 'name': None, 'relation': {'id': None, 'typeName': None}}, 'tagOptions': None}\n",
            "{'id': 182, 'name': 'Rai 4', 'slug': 'rai-4', 'nameTranslations': ['eng', 'ita'], 'overviewTranslations': [], 'aliases': [{'language': 'ita', 'name': 'Rai 4 HD'}], 'country': 'ita', 'primaryCompanyType': 1, 'activeDate': None, 'inactiveDate': None, 'companyType': {'companyTypeId': 1, 'companyTypeName': 'Network'}, 'parentCompany': {'id': None, 'name': None, 'relation': {'id': None, 'typeName': None}}, 'tagOptions': None}\n",
            "{'id': 183, 'name': 'RBB Fernsehen', 'slug': 'rbb', 'nameTranslations': ['eng'], 'overviewTranslations': ['eng'], 'aliases': [], 'country': 'deu', 'primaryCompanyType': 1, 'activeDate': '2004-02-29', 'inactiveDate': None, 'companyType': {'companyTypeId': 1, 'companyTypeName': 'Network'}, 'parentCompany': {'id': None, 'name': None, 'relation': {'id': None, 'typeName': None}}, 'tagOptions': None}\n",
            "{'id': 184, 'name': 'RCTI', 'slug': 'rcti', 'nameTranslations': ['eng'], 'overviewTranslations': [], 'aliases': [], 'country': 'idn', 'primaryCompanyType': 1, 'activeDate': None, 'inactiveDate': None, 'companyType': {'companyTypeId': 1, 'companyTypeName': 'Network'}, 'parentCompany': {'id': None, 'name': None, 'relation': {'id': None, 'typeName': None}}, 'tagOptions': None}\n",
            "{'id': 185, 'name': 'Record', 'slug': 'recordtv', 'nameTranslations': ['eng'], 'overviewTranslations': [], 'aliases': [{'language': 'eng', 'name': 'Rede Record'}, {'language': 'eng', 'name': 'Record TV'}], 'country': 'bra', 'primaryCompanyType': 1, 'activeDate': '1953-11-27', 'inactiveDate': None, 'companyType': {'companyTypeId': 1, 'companyTypeName': 'Network'}, 'parentCompany': {'id': None, 'name': None, 'relation': {'id': None, 'typeName': None}}, 'tagOptions': None}\n",
            "{'id': 186, 'name': 'Red Hot TV', 'slug': 'red-hot-tv', 'nameTranslations': ['eng'], 'overviewTranslations': [], 'aliases': [], 'country': 'gbr', 'primaryCompanyType': 1, 'activeDate': None, 'inactiveDate': None, 'companyType': {'companyTypeId': 1, 'companyTypeName': 'Network'}, 'parentCompany': {'id': None, 'name': None, 'relation': {'id': None, 'typeName': None}}, 'tagOptions': None}\n",
            "{'id': 187, 'name': 'TV Globo', 'slug': 'tv-globo', 'nameTranslations': ['eng', 'por', 'pt', 'spa'], 'overviewTranslations': ['eng', 'por', 'pt', 'spa'], 'aliases': [{'language': 'por', 'name': 'Rede Globo'}, {'language': 'pt', 'name': 'Rede Globo'}, {'language': 'eng', 'name': 'Rede Globo'}], 'country': 'bra', 'primaryCompanyType': 1, 'activeDate': '1965-04-26', 'inactiveDate': None, 'companyType': {'companyTypeId': 1, 'companyTypeName': 'Network'}, 'parentCompany': {'id': None, 'name': None, 'relation': {'id': None, 'typeName': None}}, 'tagOptions': None}\n",
            "{'id': 188, 'name': 'Revelation TV', 'slug': 'revelation-tv', 'nameTranslations': ['eng'], 'overviewTranslations': [], 'aliases': [], 'country': 'gbr', 'primaryCompanyType': 1, 'activeDate': None, 'inactiveDate': None, 'companyType': {'companyTypeId': 1, 'companyTypeName': 'Network'}, 'parentCompany': {'id': None, 'name': None, 'relation': {'id': None, 'typeName': None}}, 'tagOptions': None}\n",
            "{'id': 189, 'name': 'rmusic TV', 'slug': 'rmusic-tv', 'nameTranslations': ['eng'], 'overviewTranslations': [], 'aliases': [], 'country': 'gbr', 'primaryCompanyType': 1, 'activeDate': None, 'inactiveDate': None, 'companyType': {'companyTypeId': 1, 'companyTypeName': 'Network'}, 'parentCompany': {'id': None, 'name': None, 'relation': {'id': None, 'typeName': None}}, 'tagOptions': None}\n",
            "{'id': 190, 'name': 'Royal News', 'slug': 'royal-news', 'nameTranslations': ['eng'], 'overviewTranslations': [], 'aliases': [], 'country': 'pak', 'primaryCompanyType': 1, 'activeDate': None, 'inactiveDate': None, 'companyType': {'companyTypeId': 1, 'companyTypeName': 'Network'}, 'parentCompany': {'id': None, 'name': None, 'relation': {'id': None, 'typeName': None}}, 'tagOptions': None}\n",
            "{'id': 191, 'name': 'RTÉ One', 'slug': 'rte-one', 'nameTranslations': ['eng'], 'overviewTranslations': [], 'aliases': [], 'country': 'irl', 'primaryCompanyType': 1, 'activeDate': None, 'inactiveDate': None, 'companyType': {'companyTypeId': 1, 'companyTypeName': 'Network'}, 'parentCompany': {'id': None, 'name': None, 'relation': {'id': None, 'typeName': None}}, 'tagOptions': None}\n",
            "{'id': 192, 'name': 'RTÉ Two', 'slug': 'rte-two', 'nameTranslations': ['eng'], 'overviewTranslations': [], 'aliases': [], 'country': 'irl', 'primaryCompanyType': 1, 'activeDate': None, 'inactiveDate': None, 'companyType': {'companyTypeId': 1, 'companyTypeName': 'Network'}, 'parentCompany': {'id': None, 'name': None, 'relation': {'id': None, 'typeName': None}}, 'tagOptions': None}\n",
            "{'id': 193, 'name': 'RTL Television', 'slug': 'rtl-television', 'nameTranslations': ['deu', 'eng'], 'overviewTranslations': [], 'aliases': [], 'country': 'deu', 'primaryCompanyType': 1, 'activeDate': None, 'inactiveDate': None, 'companyType': {'companyTypeId': 1, 'companyTypeName': 'Network'}, 'parentCompany': {'id': None, 'name': None, 'relation': {'id': None, 'typeName': None}}, 'tagOptions': None}\n",
            "{'id': 194, 'name': 'RTP Açores', 'slug': 'rtp-acores', 'nameTranslations': ['eng'], 'overviewTranslations': [], 'aliases': [], 'country': 'prt', 'primaryCompanyType': 1, 'activeDate': None, 'inactiveDate': None, 'companyType': {'companyTypeId': 1, 'companyTypeName': 'Network'}, 'parentCompany': {'id': None, 'name': None, 'relation': {'id': None, 'typeName': None}}, 'tagOptions': None}\n",
            "{'id': 195, 'name': 'RTP Madeira', 'slug': 'rtp-madeira', 'nameTranslations': ['eng'], 'overviewTranslations': [], 'aliases': [], 'country': 'prt', 'primaryCompanyType': 1, 'activeDate': None, 'inactiveDate': None, 'companyType': {'companyTypeId': 1, 'companyTypeName': 'Network'}, 'parentCompany': {'id': None, 'name': None, 'relation': {'id': None, 'typeName': None}}, 'tagOptions': None}\n",
            "{'id': 196, 'name': 'RTP3', 'slug': 'rtp3', 'nameTranslations': ['eng'], 'overviewTranslations': [], 'aliases': [], 'country': 'prt', 'primaryCompanyType': 1, 'activeDate': None, 'inactiveDate': None, 'companyType': {'companyTypeId': 1, 'companyTypeName': 'Network'}, 'parentCompany': {'id': None, 'name': None, 'relation': {'id': None, 'typeName': None}}, 'tagOptions': None}\n",
            "{'id': 197, 'name': 'RTP1', 'slug': 'rtp1', 'nameTranslations': ['eng', 'por'], 'overviewTranslations': ['por'], 'aliases': [{'language': 'por', 'name': 'RTP'}, {'language': 'por', 'name': 'Rádio e Televisão Portuguesa'}, {'language': 'por', 'name': 'Canal 1'}], 'country': 'prt', 'primaryCompanyType': 1, 'activeDate': None, 'inactiveDate': None, 'companyType': {'companyTypeId': 1, 'companyTypeName': 'Network'}, 'parentCompany': {'id': None, 'name': None, 'relation': {'id': None, 'typeName': None}}, 'tagOptions': None}\n",
            "{'id': 198, 'name': 'S4/C', 'slug': 's4c', 'nameTranslations': ['eng'], 'overviewTranslations': [], 'aliases': [], 'country': 'gbr', 'primaryCompanyType': 1, 'activeDate': None, 'inactiveDate': None, 'companyType': {'companyTypeId': 1, 'companyTypeName': 'Network'}, 'parentCompany': {'id': None, 'name': None, 'relation': {'id': None, 'typeName': None}}, 'tagOptions': None}\n",
            "{'id': 199, 'name': 'S4C', 'slug': 's4c2', 'nameTranslations': ['cym', 'eng'], 'overviewTranslations': ['eng'], 'aliases': [{'language': 'cym', 'name': 'Sianel Pedwar Cymru'}], 'country': 'gbr', 'primaryCompanyType': 1, 'activeDate': None, 'inactiveDate': None, 'companyType': {'companyTypeId': 1, 'companyTypeName': 'Network'}, 'parentCompany': {'id': None, 'name': None, 'relation': {'id': None, 'typeName': None}}, 'tagOptions': None}\n",
            "{'id': 200, 'name': 'Sab TV', 'slug': 'sab-tv', 'nameTranslations': ['eng'], 'overviewTranslations': [], 'aliases': [], 'country': 'ind', 'primaryCompanyType': 1, 'activeDate': None, 'inactiveDate': None, 'companyType': {'companyTypeId': 1, 'companyTypeName': 'Network'}, 'parentCompany': {'id': None, 'name': None, 'relation': {'id': None, 'typeName': None}}, 'tagOptions': None}\n",
            "{'id': 201, 'name': 'Sahara ONE', 'slug': 'sahara-one', 'nameTranslations': ['eng'], 'overviewTranslations': [], 'aliases': [], 'country': 'ind', 'primaryCompanyType': 1, 'activeDate': None, 'inactiveDate': None, 'companyType': {'companyTypeId': 1, 'companyTypeName': 'Network'}, 'parentCompany': {'id': None, 'name': None, 'relation': {'id': None, 'typeName': None}}, 'tagOptions': None}\n",
            "{'id': 202, 'name': 'Sanskar', 'slug': 'sanskar', 'nameTranslations': ['eng'], 'overviewTranslations': [], 'aliases': [], 'country': 'ind', 'primaryCompanyType': 1, 'activeDate': None, 'inactiveDate': None, 'companyType': {'companyTypeId': 1, 'companyTypeName': 'Network'}, 'parentCompany': {'id': None, 'name': None, 'relation': {'id': None, 'typeName': None}}, 'tagOptions': None}\n",
            "{'id': 203, 'name': 'SBS', 'slug': 'sbs-kr', 'nameTranslations': ['eng', 'kor'], 'overviewTranslations': [], 'aliases': [{'language': 'kor', 'name': '스브스'}, {'language': 'eng', 'name': 'Seoul Broadcasting System'}, {'language': 'eng', 'name': 'SBS TV'}], 'country': 'kor', 'primaryCompanyType': 1, 'activeDate': '1990-11-14', 'inactiveDate': None, 'companyType': {'companyTypeId': 1, 'companyTypeName': 'Network'}, 'parentCompany': {'id': None, 'name': None, 'relation': {'id': None, 'typeName': None}}, 'tagOptions': None}\n",
            "{'id': 204, 'name': 'SBS', 'slug': 'sbs-au', 'nameTranslations': ['eng'], 'overviewTranslations': [], 'aliases': [{'language': 'eng', 'name': 'Special Broadcasting Service'}], 'country': 'aus', 'primaryCompanyType': 1, 'activeDate': None, 'inactiveDate': None, 'companyType': {'companyTypeId': 1, 'companyTypeName': 'Network'}, 'parentCompany': {'id': None, 'name': None, 'relation': {'id': None, 'typeName': None}}, 'tagOptions': None}\n",
            "{'id': 205, 'name': 'Scuzz', 'slug': 'scuzz', 'nameTranslations': ['eng'], 'overviewTranslations': [], 'aliases': [], 'country': 'gbr', 'primaryCompanyType': 1, 'activeDate': None, 'inactiveDate': None, 'companyType': {'companyTypeId': 1, 'companyTypeName': 'Network'}, 'parentCompany': {'id': None, 'name': None, 'relation': {'id': None, 'typeName': None}}, 'tagOptions': None}\n",
            "{'id': 207, 'name': 'Setanta Ireland', 'slug': 'setanta-ireland', 'nameTranslations': ['eng'], 'overviewTranslations': [], 'aliases': [], 'country': 'irl', 'primaryCompanyType': 1, 'activeDate': None, 'inactiveDate': None, 'companyType': {'companyTypeId': 1, 'companyTypeName': 'Network'}, 'parentCompany': {'id': None, 'name': None, 'relation': {'id': None, 'typeName': None}}, 'tagOptions': None}\n",
            "{'id': 208, 'name': 'Seven Network', 'slug': 'seven-network', 'nameTranslations': ['eng'], 'overviewTranslations': [], 'aliases': [{'language': 'eng', 'name': 'Channel Seven'}, {'language': 'eng', 'name': 'Seven'}], 'country': 'aus', 'primaryCompanyType': 1, 'activeDate': None, 'inactiveDate': None, 'companyType': {'companyTypeId': 1, 'companyTypeName': 'Network'}, 'parentCompany': {'id': None, 'name': None, 'relation': {'id': None, 'typeName': None}}, 'tagOptions': None}\n",
            "{'id': 209, 'name': 'Showtime', 'slug': 'showtime', 'nameTranslations': ['eng'], 'overviewTranslations': [], 'aliases': [], 'country': 'usa', 'primaryCompanyType': 1, 'activeDate': '1976-05-09', 'inactiveDate': None, 'companyType': {'companyTypeId': 1, 'companyTypeName': 'Network'}, 'parentCompany': {'id': 47784, 'name': 'Paramount Global', 'relation': {'id': None, 'typeName': None}}, 'tagOptions': None}\n",
            "{'id': 210, 'name': 'SIC', 'slug': 'sic', 'nameTranslations': ['eng'], 'overviewTranslations': [], 'aliases': [], 'country': 'prt', 'primaryCompanyType': 1, 'activeDate': None, 'inactiveDate': None, 'companyType': {'companyTypeId': 1, 'companyTypeName': 'Network'}, 'parentCompany': {'id': None, 'name': None, 'relation': {'id': None, 'typeName': None}}, 'tagOptions': None}\n",
            "{'id': 211, 'name': 'SIC Comédia', 'slug': 'sic-comedia', 'nameTranslations': ['eng'], 'overviewTranslations': [], 'aliases': [], 'country': 'prt', 'primaryCompanyType': 1, 'activeDate': None, 'inactiveDate': None, 'companyType': {'companyTypeId': 1, 'companyTypeName': 'Network'}, 'parentCompany': {'id': None, 'name': None, 'relation': {'id': None, 'typeName': None}}, 'tagOptions': None}\n",
            "{'id': 212, 'name': 'SIC Mulher', 'slug': 'sic-mulher', 'nameTranslations': ['eng'], 'overviewTranslations': [], 'aliases': [], 'country': 'prt', 'primaryCompanyType': 1, 'activeDate': None, 'inactiveDate': None, 'companyType': {'companyTypeId': 1, 'companyTypeName': 'Network'}, 'parentCompany': {'id': None, 'name': None, 'relation': {'id': None, 'typeName': None}}, 'tagOptions': None}\n",
            "{'id': 213, 'name': 'SIC Notícias', 'slug': 'sic-noticias', 'nameTranslations': ['eng'], 'overviewTranslations': [], 'aliases': [], 'country': 'prt', 'primaryCompanyType': 1, 'activeDate': None, 'inactiveDate': None, 'companyType': {'companyTypeId': 1, 'companyTypeName': 'Network'}, 'parentCompany': {'id': None, 'name': None, 'relation': {'id': None, 'typeName': None}}, 'tagOptions': None}\n",
            "{'id': 214, 'name': 'SIC Radical', 'slug': 'sic-radical', 'nameTranslations': ['eng'], 'overviewTranslations': [], 'aliases': [], 'country': 'prt', 'primaryCompanyType': 1, 'activeDate': None, 'inactiveDate': None, 'companyType': {'companyTypeId': 1, 'companyTypeName': 'Network'}, 'parentCompany': {'id': None, 'name': None, 'relation': {'id': None, 'typeName': None}}, 'tagOptions': None}\n",
            "{'id': 215, 'name': 'Sirasa', 'slug': 'sirasa', 'nameTranslations': ['eng'], 'overviewTranslations': [], 'aliases': [], 'country': 'lka', 'primaryCompanyType': 1, 'activeDate': None, 'inactiveDate': None, 'companyType': {'companyTypeId': 1, 'companyTypeName': 'Network'}, 'parentCompany': {'id': None, 'name': None, 'relation': {'id': None, 'typeName': None}}, 'tagOptions': None}\n",
            "{'id': 216, 'name': 'Sky Box Office', 'slug': 'sky-box-office', 'nameTranslations': ['eng'], 'overviewTranslations': [], 'aliases': [], 'country': 'gbr', 'primaryCompanyType': 1, 'activeDate': None, 'inactiveDate': None, 'companyType': {'companyTypeId': 1, 'companyTypeName': 'Network'}, 'parentCompany': {'id': None, 'name': None, 'relation': {'id': None, 'typeName': None}}, 'tagOptions': None}\n",
            "{'id': 217, 'name': 'Sky Cinema (UK)', 'slug': 'sky-cinema-uk', 'nameTranslations': ['eng'], 'overviewTranslations': [], 'aliases': [], 'country': 'gbr', 'primaryCompanyType': 1, 'activeDate': None, 'inactiveDate': None, 'companyType': {'companyTypeId': 1, 'companyTypeName': 'Network'}, 'parentCompany': {'id': None, 'name': None, 'relation': {'id': None, 'typeName': None}}, 'tagOptions': None}\n",
            "{'id': 218, 'name': 'Sky Movies', 'slug': 'sky-movies', 'nameTranslations': ['eng'], 'overviewTranslations': [], 'aliases': [], 'country': 'gbr', 'primaryCompanyType': 1, 'activeDate': None, 'inactiveDate': None, 'companyType': {'companyTypeId': 1, 'companyTypeName': 'Network'}, 'parentCompany': {'id': None, 'name': None, 'relation': {'id': None, 'typeName': None}}, 'tagOptions': None}\n",
            "{'id': 219, 'name': 'Sky News', 'slug': 'sky-news', 'nameTranslations': ['eng'], 'overviewTranslations': [], 'aliases': [], 'country': 'gbr', 'primaryCompanyType': 1, 'activeDate': None, 'inactiveDate': None, 'companyType': {'companyTypeId': 1, 'companyTypeName': 'Network'}, 'parentCompany': {'id': None, 'name': None, 'relation': {'id': None, 'typeName': None}}, 'tagOptions': None}\n",
            "{'id': 220, 'name': 'Sky News Ireland', 'slug': 'sky-news-ireland', 'nameTranslations': ['eng'], 'overviewTranslations': [], 'aliases': [], 'country': 'irl', 'primaryCompanyType': 1, 'activeDate': None, 'inactiveDate': None, 'companyType': {'companyTypeId': 1, 'companyTypeName': 'Network'}, 'parentCompany': {'id': None, 'name': None, 'relation': {'id': None, 'typeName': None}}, 'tagOptions': None}\n",
            "{'id': 221, 'name': 'Sky Sports', 'slug': 'sky-sports', 'nameTranslations': ['eng'], 'overviewTranslations': [], 'aliases': [], 'country': 'gbr', 'primaryCompanyType': 1, 'activeDate': None, 'inactiveDate': None, 'companyType': {'companyTypeId': 1, 'companyTypeName': 'Network'}, 'parentCompany': {'id': None, 'name': None, 'relation': {'id': None, 'typeName': None}}, 'tagOptions': None}\n",
            "{'id': 222, 'name': 'Sky Travel', 'slug': 'sky-travel', 'nameTranslations': ['eng'], 'overviewTranslations': [], 'aliases': [], 'country': 'gbr', 'primaryCompanyType': 1, 'activeDate': None, 'inactiveDate': None, 'companyType': {'companyTypeId': 1, 'companyTypeName': 'Network'}, 'parentCompany': {'id': None, 'name': None, 'relation': {'id': None, 'typeName': None}}, 'tagOptions': None}\n",
            "{'id': 223, 'name': 'Sky One', 'slug': 'sky1', 'nameTranslations': ['eng'], 'overviewTranslations': [], 'aliases': [{'language': 'eng', 'name': 'Sky 1'}, {'language': 'eng', 'name': 'Sky1'}, {'language': 'eng', 'name': 'SkyOne'}], 'country': 'gbr', 'primaryCompanyType': 1, 'activeDate': '1989-07-31', 'inactiveDate': '2021-09-01', 'companyType': {'companyTypeId': 1, 'companyTypeName': 'Network'}, 'parentCompany': {'id': None, 'name': None, 'relation': {'id': None, 'typeName': None}}, 'tagOptions': None}\n",
            "{'id': 224, 'name': 'Sky2', 'slug': 'sky2', 'nameTranslations': ['eng'], 'overviewTranslations': [], 'aliases': [], 'country': 'gbr', 'primaryCompanyType': 1, 'activeDate': None, 'inactiveDate': None, 'companyType': {'companyTypeId': 1, 'companyTypeName': 'Network'}, 'parentCompany': {'id': None, 'name': None, 'relation': {'id': None, 'typeName': None}}, 'tagOptions': None}\n",
            "{'id': 225, 'name': 'Sky3', 'slug': 'sky3', 'nameTranslations': ['eng'], 'overviewTranslations': [], 'aliases': [], 'country': 'gbr', 'primaryCompanyType': 1, 'activeDate': None, 'inactiveDate': None, 'companyType': {'companyTypeId': 1, 'companyTypeName': 'Network'}, 'parentCompany': {'id': None, 'name': None, 'relation': {'id': None, 'typeName': None}}, 'tagOptions': None}\n",
            "{'id': 226, 'name': 'Cloo (fka Sleuth)', 'slug': 'sleuth', 'nameTranslations': ['eng'], 'overviewTranslations': [], 'aliases': [{'language': 'eng', 'name': 'Cloo'}], 'country': 'usa', 'primaryCompanyType': 1, 'activeDate': None, 'inactiveDate': None, 'companyType': {'companyTypeId': 1, 'companyTypeName': 'Network'}, 'parentCompany': {'id': None, 'name': None, 'relation': {'id': None, 'typeName': None}}, 'tagOptions': None}\n",
            "{'id': 227, 'name': 'Smash Hits', 'slug': 'smash-hits', 'nameTranslations': ['eng'], 'overviewTranslations': [], 'aliases': [], 'country': 'gbr', 'primaryCompanyType': 1, 'activeDate': None, 'inactiveDate': None, 'companyType': {'companyTypeId': 1, 'companyTypeName': 'Network'}, 'parentCompany': {'id': None, 'name': None, 'relation': {'id': None, 'typeName': None}}, 'tagOptions': None}\n",
            "{'id': 228, 'name': 'SOAPnet', 'slug': 'soapnet', 'nameTranslations': ['eng'], 'overviewTranslations': [], 'aliases': [], 'country': 'usa', 'primaryCompanyType': 1, 'activeDate': None, 'inactiveDate': None, 'companyType': {'companyTypeId': 1, 'companyTypeName': 'Network'}, 'parentCompany': {'id': None, 'name': None, 'relation': {'id': None, 'typeName': None}}, 'tagOptions': None}\n",
            "{'id': 229, 'name': 'Sony Entertainment Television', 'slug': 'sony-entertainment-television', 'nameTranslations': ['eng'], 'overviewTranslations': [], 'aliases': [], 'country': 'ind', 'primaryCompanyType': 1, 'activeDate': '1995-09-30', 'inactiveDate': None, 'companyType': {'companyTypeId': 1, 'companyTypeName': 'Network'}, 'parentCompany': {'id': None, 'name': None, 'relation': {'id': None, 'typeName': None}}, 'tagOptions': None}\n",
            "{'id': 231, 'name': 'Spike TV', 'slug': 'spike', 'nameTranslations': ['eng'], 'overviewTranslations': [], 'aliases': [], 'country': 'usa', 'primaryCompanyType': 1, 'activeDate': '2003-06-16', 'inactiveDate': '2018-01-17', 'companyType': {'companyTypeId': 1, 'companyTypeName': 'Network'}, 'parentCompany': {'id': 1176, 'name': 'Paramount Network', 'relation': {'id': 2, 'typeName': 'Rebranded As'}}, 'tagOptions': None}\n",
            "{'id': 232, 'name': 'STAR Gold', 'slug': 'star-gold', 'nameTranslations': ['eng'], 'overviewTranslations': [], 'aliases': [], 'country': 'ind', 'primaryCompanyType': 1, 'activeDate': None, 'inactiveDate': None, 'companyType': {'companyTypeId': 1, 'companyTypeName': 'Network'}, 'parentCompany': {'id': None, 'name': None, 'relation': {'id': None, 'typeName': None}}, 'tagOptions': None}\n",
            "{'id': 233, 'name': 'STAR Movies', 'slug': 'star-movies', 'nameTranslations': ['eng'], 'overviewTranslations': [], 'aliases': [], 'country': 'hkg', 'primaryCompanyType': 1, 'activeDate': None, 'inactiveDate': None, 'companyType': {'companyTypeId': 1, 'companyTypeName': 'Network'}, 'parentCompany': {'id': None, 'name': None, 'relation': {'id': None, 'typeName': None}}, 'tagOptions': None}\n",
            "{'id': 234, 'name': 'STAR News', 'slug': 'star-news', 'nameTranslations': ['eng'], 'overviewTranslations': [], 'aliases': [], 'country': 'ind', 'primaryCompanyType': 1, 'activeDate': None, 'inactiveDate': None, 'companyType': {'companyTypeId': 1, 'companyTypeName': 'Network'}, 'parentCompany': {'id': None, 'name': None, 'relation': {'id': None, 'typeName': None}}, 'tagOptions': None}\n",
            "{'id': 235, 'name': 'STAR Plus', 'slug': 'star-plus', 'nameTranslations': ['eng'], 'overviewTranslations': [], 'aliases': [], 'country': 'ind', 'primaryCompanyType': 1, 'activeDate': None, 'inactiveDate': None, 'companyType': {'companyTypeId': 1, 'companyTypeName': 'Network'}, 'parentCompany': {'id': None, 'name': None, 'relation': {'id': None, 'typeName': None}}, 'tagOptions': None}\n",
            "{'id': 236, 'name': 'STAR Sports Asia', 'slug': 'star-sports-asia', 'nameTranslations': ['eng'], 'overviewTranslations': [], 'aliases': [], 'country': 'hkg', 'primaryCompanyType': 1, 'activeDate': None, 'inactiveDate': None, 'companyType': {'companyTypeId': 1, 'companyTypeName': 'Network'}, 'parentCompany': {'id': None, 'name': None, 'relation': {'id': None, 'typeName': None}}, 'tagOptions': None}\n",
            "{'id': 237, 'name': 'STAR Sports Hong Kong', 'slug': 'star-sports-hong-kong', 'nameTranslations': ['eng'], 'overviewTranslations': [], 'aliases': [], 'country': 'hkg', 'primaryCompanyType': 1, 'activeDate': None, 'inactiveDate': None, 'companyType': {'companyTypeId': 1, 'companyTypeName': 'Network'}, 'parentCompany': {'id': None, 'name': None, 'relation': {'id': None, 'typeName': None}}, 'tagOptions': None}\n",
            "{'id': 238, 'name': 'STAR Sports India', 'slug': 'star-sports-india', 'nameTranslations': ['eng'], 'overviewTranslations': [], 'aliases': [], 'country': 'ind', 'primaryCompanyType': 1, 'activeDate': None, 'inactiveDate': None, 'companyType': {'companyTypeId': 1, 'companyTypeName': 'Network'}, 'parentCompany': {'id': None, 'name': None, 'relation': {'id': None, 'typeName': None}}, 'tagOptions': None}\n",
            "{'id': 239, 'name': 'STAR Sports Southeast Asia', 'slug': 'star-sports-southeast-asia', 'nameTranslations': ['eng'], 'overviewTranslations': [], 'aliases': [], 'country': 'hkg', 'primaryCompanyType': 1, 'activeDate': None, 'inactiveDate': None, 'companyType': {'companyTypeId': 1, 'companyTypeName': 'Network'}, 'parentCompany': {'id': None, 'name': None, 'relation': {'id': None, 'typeName': None}}, 'tagOptions': None}\n",
            "{'id': 240, 'name': 'STAR Sports Malaysia', 'slug': 'star-sports-malaysia', 'nameTranslations': ['eng'], 'overviewTranslations': [], 'aliases': [], 'country': 'mys', 'primaryCompanyType': 1, 'activeDate': None, 'inactiveDate': None, 'companyType': {'companyTypeId': 1, 'companyTypeName': 'Network'}, 'parentCompany': {'id': None, 'name': None, 'relation': {'id': None, 'typeName': None}}, 'tagOptions': None}\n",
            "{'id': 241, 'name': 'STAR Sports Taiwan', 'slug': 'star-sports-taiwan', 'nameTranslations': ['eng'], 'overviewTranslations': [], 'aliases': [], 'country': 'twn', 'primaryCompanyType': 1, 'activeDate': None, 'inactiveDate': None, 'companyType': {'companyTypeId': 1, 'companyTypeName': 'Network'}, 'parentCompany': {'id': None, 'name': None, 'relation': {'id': None, 'typeName': None}}, 'tagOptions': None}\n",
            "{'id': 242, 'name': 'STAR Vijay', 'slug': 'star-vijay', 'nameTranslations': ['eng'], 'overviewTranslations': [], 'aliases': [], 'country': 'ind', 'primaryCompanyType': 1, 'activeDate': None, 'inactiveDate': None, 'companyType': {'companyTypeId': 1, 'companyTypeName': 'Network'}, 'parentCompany': {'id': None, 'name': None, 'relation': {'id': None, 'typeName': None}}, 'tagOptions': None}\n",
            "{'id': 243, 'name': 'Star World', 'slug': 'star-world', 'nameTranslations': ['eng'], 'overviewTranslations': [], 'aliases': [], 'country': 'hkg', 'primaryCompanyType': 1, 'activeDate': None, 'inactiveDate': None, 'companyType': {'companyTypeId': 1, 'companyTypeName': 'Network'}, 'parentCompany': {'id': None, 'name': None, 'relation': {'id': None, 'typeName': None}}, 'tagOptions': None}\n",
            "{'id': 244, 'name': 'Studio 23', 'slug': 'studio-23', 'nameTranslations': ['eng'], 'overviewTranslations': [], 'aliases': [], 'country': 'phl', 'primaryCompanyType': 1, 'activeDate': None, 'inactiveDate': None, 'companyType': {'companyTypeId': 1, 'companyTypeName': 'Network'}, 'parentCompany': {'id': None, 'name': None, 'relation': {'id': None, 'typeName': None}}, 'tagOptions': None}\n",
            "{'id': 245, 'name': 'STV (UK)', 'slug': 'stv-uk', 'nameTranslations': ['eng'], 'overviewTranslations': [], 'aliases': [], 'country': 'gbr', 'primaryCompanyType': 1, 'activeDate': None, 'inactiveDate': None, 'companyType': {'companyTypeId': 1, 'companyTypeName': 'Network'}, 'parentCompany': {'id': None, 'name': None, 'relation': {'id': None, 'typeName': None}}, 'tagOptions': None}\n",
            "{'id': 246, 'name': 'Style', 'slug': 'style', 'nameTranslations': ['eng'], 'overviewTranslations': [], 'aliases': [], 'country': 'usa', 'primaryCompanyType': 1, 'activeDate': None, 'inactiveDate': None, 'companyType': {'companyTypeId': 1, 'companyTypeName': 'Network'}, 'parentCompany': {'id': None, 'name': None, 'relation': {'id': None, 'typeName': None}}, 'tagOptions': None}\n",
            "{'id': 247, 'name': 'SUN music', 'slug': 'sun-music', 'nameTranslations': ['eng'], 'overviewTranslations': [], 'aliases': [], 'country': 'ind', 'primaryCompanyType': 1, 'activeDate': None, 'inactiveDate': None, 'companyType': {'companyTypeId': 1, 'companyTypeName': 'Network'}, 'parentCompany': {'id': None, 'name': None, 'relation': {'id': None, 'typeName': None}}, 'tagOptions': None}\n",
            "{'id': 248, 'name': 'SUN news', 'slug': 'sun-news', 'nameTranslations': ['eng'], 'overviewTranslations': [], 'aliases': [], 'country': 'ind', 'primaryCompanyType': 1, 'activeDate': None, 'inactiveDate': None, 'companyType': {'companyTypeId': 1, 'companyTypeName': 'Network'}, 'parentCompany': {'id': None, 'name': None, 'relation': {'id': None, 'typeName': None}}, 'tagOptions': None}\n",
            "{'id': 249, 'name': 'SUN TV', 'slug': 'sun-tv', 'nameTranslations': ['eng'], 'overviewTranslations': [], 'aliases': [], 'country': 'ind', 'primaryCompanyType': 1, 'activeDate': None, 'inactiveDate': None, 'companyType': {'companyTypeId': 1, 'companyTypeName': 'Network'}, 'parentCompany': {'id': None, 'name': None, 'relation': {'id': None, 'typeName': None}}, 'tagOptions': None}\n",
            "{'id': 250, 'name': 'Superstation WGN', 'slug': 'superstation-wgn', 'nameTranslations': ['eng'], 'overviewTranslations': [], 'aliases': [], 'country': 'usa', 'primaryCompanyType': 1, 'activeDate': None, 'inactiveDate': None, 'companyType': {'companyTypeId': 1, 'companyTypeName': 'Network'}, 'parentCompany': {'id': None, 'name': None, 'relation': {'id': None, 'typeName': None}}, 'tagOptions': None}\n",
            "{'id': 251, 'name': 'Swarnawahini', 'slug': 'swarnawahini', 'nameTranslations': ['eng'], 'overviewTranslations': [], 'aliases': [], 'country': 'lka', 'primaryCompanyType': 1, 'activeDate': None, 'inactiveDate': None, 'companyType': {'companyTypeId': 1, 'companyTypeName': 'Network'}, 'parentCompany': {'id': None, 'name': None, 'relation': {'id': None, 'typeName': None}}, 'tagOptions': None}\n",
            "{'id': 252, 'name': 'SWR', 'slug': 'swr', 'nameTranslations': ['eng'], 'overviewTranslations': [], 'aliases': [], 'country': 'deu', 'primaryCompanyType': 1, 'activeDate': None, 'inactiveDate': None, 'companyType': {'companyTypeId': 1, 'companyTypeName': 'Network'}, 'parentCompany': {'id': None, 'name': None, 'relation': {'id': None, 'typeName': None}}, 'tagOptions': None}\n",
            "{'id': 253, 'name': 'TBS (JP)', 'slug': 'tokyo-broadcasting-system', 'nameTranslations': ['eng'], 'overviewTranslations': ['eng'], 'aliases': [{'language': 'eng', 'name': 'Tokyo Broadcasting System'}], 'country': 'jpn', 'primaryCompanyType': 1, 'activeDate': None, 'inactiveDate': None, 'companyType': {'companyTypeId': 1, 'companyTypeName': 'Network'}, 'parentCompany': {'id': None, 'name': None, 'relation': {'id': None, 'typeName': None}}, 'tagOptions': None}\n",
            "{'id': 254, 'name': 'TBS', 'slug': 'tbs', 'nameTranslations': ['eng'], 'overviewTranslations': [], 'aliases': [{'language': 'eng', 'name': 'Turner Broadcasting System'}], 'country': 'usa', 'primaryCompanyType': 1, 'activeDate': None, 'inactiveDate': None, 'companyType': {'companyTypeId': 1, 'companyTypeName': 'Network'}, 'parentCompany': {'id': None, 'name': None, 'relation': {'id': None, 'typeName': None}}, 'tagOptions': None}\n",
            "{'id': 255, 'name': 'TCM', 'slug': 'tcm', 'nameTranslations': ['eng'], 'overviewTranslations': [], 'aliases': [], 'country': 'gbr', 'primaryCompanyType': 1, 'activeDate': None, 'inactiveDate': None, 'companyType': {'companyTypeId': 1, 'companyTypeName': 'Network'}, 'parentCompany': {'id': None, 'name': None, 'relation': {'id': None, 'typeName': None}}, 'tagOptions': None}\n",
            "{'id': 256, 'name': 'TeleG', 'slug': 'teleg', 'nameTranslations': ['eng'], 'overviewTranslations': [], 'aliases': [], 'country': 'gbr', 'primaryCompanyType': 1, 'activeDate': None, 'inactiveDate': None, 'companyType': {'companyTypeId': 1, 'companyTypeName': 'Network'}, 'parentCompany': {'id': None, 'name': None, 'relation': {'id': None, 'typeName': None}}, 'tagOptions': None}\n",
            "{'id': 257, 'name': 'Telemundo', 'slug': 'telemundo', 'nameTranslations': ['eng'], 'overviewTranslations': [], 'aliases': [], 'country': 'usa', 'primaryCompanyType': 1, 'activeDate': None, 'inactiveDate': None, 'companyType': {'companyTypeId': 1, 'companyTypeName': 'Network'}, 'parentCompany': {'id': 30319, 'name': 'NBCUniversal', 'relation': {'id': None, 'typeName': None}}, 'tagOptions': None}\n",
            "{'id': 258, 'name': 'Televisa', 'slug': 'televisa', 'nameTranslations': ['eng'], 'overviewTranslations': ['eng'], 'aliases': [{'language': 'eng', 'name': 'Grupo Televisa'}], 'country': 'mex', 'primaryCompanyType': 1, 'activeDate': None, 'inactiveDate': None, 'companyType': {'companyTypeId': 1, 'companyTypeName': 'Network'}, 'parentCompany': {'id': None, 'name': None, 'relation': {'id': None, 'typeName': None}}, 'tagOptions': None}\n",
            "{'id': 259, 'name': 'TEN Sports', 'slug': 'ten-sports', 'nameTranslations': ['eng'], 'overviewTranslations': [], 'aliases': [], 'country': 'ind', 'primaryCompanyType': 1, 'activeDate': None, 'inactiveDate': None, 'companyType': {'companyTypeId': 1, 'companyTypeName': 'Network'}, 'parentCompany': {'id': None, 'name': None, 'relation': {'id': None, 'typeName': None}}, 'tagOptions': None}\n",
            "{'id': 260, 'name': 'TF1', 'slug': 'tf1', 'nameTranslations': ['eng', 'fra'], 'overviewTranslations': [], 'aliases': [], 'country': 'fra', 'primaryCompanyType': 1, 'activeDate': '1975-01-06', 'inactiveDate': None, 'companyType': {'companyTypeId': 1, 'companyTypeName': 'Network'}, 'parentCompany': {'id': None, 'name': None, 'relation': {'id': None, 'typeName': None}}, 'tagOptions': None}\n",
            "{'id': 261, 'name': 'The Amp', 'slug': 'the-amp', 'nameTranslations': ['eng'], 'overviewTranslations': [], 'aliases': [], 'country': 'gbr', 'primaryCompanyType': 1, 'activeDate': None, 'inactiveDate': None, 'companyType': {'companyTypeId': 1, 'companyTypeName': 'Network'}, 'parentCompany': {'id': None, 'name': None, 'relation': {'id': None, 'typeName': None}}, 'tagOptions': None}\n",
            "{'id': 262, 'name': 'The Box', 'slug': 'the-box', 'nameTranslations': ['eng'], 'overviewTranslations': [], 'aliases': [], 'country': 'gbr', 'primaryCompanyType': 1, 'activeDate': None, 'inactiveDate': None, 'companyType': {'companyTypeId': 1, 'companyTypeName': 'Network'}, 'parentCompany': {'id': None, 'name': None, 'relation': {'id': None, 'typeName': None}}, 'tagOptions': None}\n",
            "{'id': 263, 'name': 'The CW', 'slug': 'the-cw', 'nameTranslations': ['eng', 'spa'], 'overviewTranslations': ['spa'], 'aliases': [{'language': 'spa', 'name': 'The CW Television Network'}, {'language': 'eng', 'name': 'The CW Television Network'}, {'language': 'eng', 'name': 'CW'}], 'country': 'usa', 'primaryCompanyType': 1, 'activeDate': '2006-09-18', 'inactiveDate': None, 'companyType': {'companyTypeId': 1, 'companyTypeName': 'Network'}, 'parentCompany': {'id': 47784, 'name': 'Paramount Global', 'relation': {'id': None, 'typeName': None}}, 'tagOptions': None}\n",
            "{'id': 264, 'name': 'The Den', 'slug': 'the-den', 'nameTranslations': ['eng'], 'overviewTranslations': [], 'aliases': [], 'country': 'irl', 'primaryCompanyType': 1, 'activeDate': None, 'inactiveDate': None, 'companyType': {'companyTypeId': 1, 'companyTypeName': 'Network'}, 'parentCompany': {'id': None, 'name': None, 'relation': {'id': None, 'typeName': None}}, 'tagOptions': None}\n",
            "{'id': 265, 'name': 'The WB', 'slug': 'the-wb', 'nameTranslations': ['eng'], 'overviewTranslations': [], 'aliases': [], 'country': 'usa', 'primaryCompanyType': 1, 'activeDate': '1995-01-11', 'inactiveDate': '2006-09-17', 'companyType': {'companyTypeId': 1, 'companyTypeName': 'Network'}, 'parentCompany': {'id': 2178, 'name': 'Warner Bros.', 'relation': {'id': None, 'typeName': None}}, 'tagOptions': None}\n",
            "{'id': 266, 'name': 'The Weather Channel', 'slug': 'the-weather-channel', 'nameTranslations': ['eng'], 'overviewTranslations': [], 'aliases': [], 'country': 'usa', 'primaryCompanyType': 1, 'activeDate': None, 'inactiveDate': None, 'companyType': {'companyTypeId': 1, 'companyTypeName': 'Network'}, 'parentCompany': {'id': None, 'name': None, 'relation': {'id': None, 'typeName': None}}, 'tagOptions': None}\n",
            "{'id': 267, 'name': 'TMC', 'slug': 'tmc', 'nameTranslations': ['eng'], 'overviewTranslations': [], 'aliases': [{'language': 'eng', 'name': 'Télé Monte-Carlo'}], 'country': 'mco', 'primaryCompanyType': 1, 'activeDate': None, 'inactiveDate': None, 'companyType': {'companyTypeId': 1, 'companyTypeName': 'Network'}, 'parentCompany': {'id': None, 'name': None, 'relation': {'id': None, 'typeName': None}}, 'tagOptions': None}\n",
            "{'id': 268, 'name': 'TMF', 'slug': 'tmf', 'nameTranslations': ['eng'], 'overviewTranslations': [], 'aliases': [], 'country': 'nld', 'primaryCompanyType': 1, 'activeDate': None, 'inactiveDate': None, 'companyType': {'companyTypeId': 1, 'companyTypeName': 'Network'}, 'parentCompany': {'id': None, 'name': None, 'relation': {'id': None, 'typeName': None}}, 'tagOptions': None}\n",
            "{'id': 269, 'name': 'TNT (US)', 'slug': 'tnt-us', 'nameTranslations': ['eng'], 'overviewTranslations': [], 'aliases': [], 'country': 'usa', 'primaryCompanyType': 1, 'activeDate': None, 'inactiveDate': None, 'companyType': {'companyTypeId': 1, 'companyTypeName': 'Network'}, 'parentCompany': {'id': None, 'name': None, 'relation': {'id': None, 'typeName': None}}, 'tagOptions': None}\n",
            "{'id': 270, 'name': 'Toon Disney', 'slug': 'toon-disney', 'nameTranslations': ['eng'], 'overviewTranslations': [], 'aliases': [], 'country': 'usa', 'primaryCompanyType': 1, 'activeDate': None, 'inactiveDate': None, 'companyType': {'companyTypeId': 1, 'companyTypeName': 'Network'}, 'parentCompany': {'id': None, 'name': None, 'relation': {'id': None, 'typeName': None}}, 'tagOptions': None}\n",
            "{'id': 271, 'name': 'TQS', 'slug': 'tqs', 'nameTranslations': ['eng'], 'overviewTranslations': [], 'aliases': [], 'country': 'can', 'primaryCompanyType': 1, 'activeDate': None, 'inactiveDate': None, 'companyType': {'companyTypeId': 1, 'companyTypeName': 'Network'}, 'parentCompany': {'id': None, 'name': None, 'relation': {'id': None, 'typeName': None}}, 'tagOptions': None}\n",
            "{'id': 272, 'name': 'Travel Channel (UK)', 'slug': 'travel-channel-uk', 'nameTranslations': ['eng'], 'overviewTranslations': [], 'aliases': [], 'country': 'gbr', 'primaryCompanyType': 1, 'activeDate': None, 'inactiveDate': None, 'companyType': {'companyTypeId': 1, 'companyTypeName': 'Network'}, 'parentCompany': {'id': None, 'name': None, 'relation': {'id': None, 'typeName': None}}, 'tagOptions': None}\n",
            "{'id': 273, 'name': 'Treehouse TV', 'slug': 'treehouse-tv', 'nameTranslations': ['eng'], 'overviewTranslations': [], 'aliases': [{'language': 'eng', 'name': 'The Treehouse'}], 'country': 'can', 'primaryCompanyType': 1, 'activeDate': '1997-11-01', 'inactiveDate': None, 'companyType': {'companyTypeId': 1, 'companyTypeName': 'Network'}, 'parentCompany': {'id': 11926, 'name': 'Corus Entertainment', 'relation': {'id': None, 'typeName': None}}, 'tagOptions': None}\n",
            "{'id': 274, 'name': 'Turner South', 'slug': 'turner-south', 'nameTranslations': ['eng'], 'overviewTranslations': [], 'aliases': [], 'country': 'usa', 'primaryCompanyType': 1, 'activeDate': None, 'inactiveDate': None, 'companyType': {'companyTypeId': 1, 'companyTypeName': 'Network'}, 'parentCompany': {'id': None, 'name': None, 'relation': {'id': None, 'typeName': None}}, 'tagOptions': None}\n",
            "{'id': 275, 'name': 'TV Asahi', 'slug': 'tv-asahi', 'nameTranslations': ['eng', 'jpn'], 'overviewTranslations': [], 'aliases': [{'language': 'eng', 'name': 'TV Asahi Corporation'}, {'language': 'jpn', 'name': '株式会社テレビ朝日'}], 'country': 'jpn', 'primaryCompanyType': 1, 'activeDate': None, 'inactiveDate': None, 'companyType': {'companyTypeId': 1, 'companyTypeName': 'Network'}, 'parentCompany': {'id': None, 'name': None, 'relation': {'id': None, 'typeName': None}}, 'tagOptions': None}\n",
            "{'id': 276, 'name': 'TV Chile', 'slug': 'tv-chile', 'nameTranslations': ['eng'], 'overviewTranslations': [], 'aliases': [], 'country': 'chl', 'primaryCompanyType': 1, 'activeDate': None, 'inactiveDate': None, 'companyType': {'companyTypeId': 1, 'companyTypeName': 'Network'}, 'parentCompany': {'id': None, 'name': None, 'relation': {'id': None, 'typeName': None}}, 'tagOptions': None}\n",
            "{'id': 277, 'name': 'TVGN', 'slug': 'tv-guide-channel', 'nameTranslations': ['eng'], 'overviewTranslations': [], 'aliases': [{'language': 'eng', 'name': 'TV Guide Channel'}, {'language': 'eng', 'name': 'TV Guide Network'}], 'country': 'usa', 'primaryCompanyType': 1, 'activeDate': None, 'inactiveDate': None, 'companyType': {'companyTypeId': 1, 'companyTypeName': 'Network'}, 'parentCompany': {'id': 822, 'name': 'Pop TV', 'relation': {'id': 2, 'typeName': 'Rebranded As'}}, 'tagOptions': None}\n",
            "{'id': 278, 'name': 'TV Land', 'slug': 'tv-land', 'nameTranslations': ['eng'], 'overviewTranslations': [], 'aliases': [], 'country': 'usa', 'primaryCompanyType': 1, 'activeDate': '1996-04-29', 'inactiveDate': None, 'companyType': {'companyTypeId': 1, 'companyTypeName': 'Network'}, 'parentCompany': {'id': 47784, 'name': 'Paramount Global', 'relation': {'id': None, 'typeName': None}}, 'tagOptions': None}\n",
            "{'id': 279, 'name': 'TVOne Global', 'slug': 'tvone-global', 'nameTranslations': ['eng'], 'overviewTranslations': [], 'aliases': [], 'country': 'pak', 'primaryCompanyType': 1, 'activeDate': None, 'inactiveDate': None, 'companyType': {'companyTypeId': 1, 'companyTypeName': 'Network'}, 'parentCompany': {'id': None, 'name': None, 'relation': {'id': None, 'typeName': None}}, 'tagOptions': None}\n",
            "{'id': 280, 'name': 'TV Tokyo', 'slug': 'tv-tokyo', 'nameTranslations': ['eng'], 'overviewTranslations': [], 'aliases': [], 'country': 'jpn', 'primaryCompanyType': 1, 'activeDate': '1968-07-01', 'inactiveDate': None, 'companyType': {'companyTypeId': 1, 'companyTypeName': 'Network'}, 'parentCompany': {'id': None, 'name': None, 'relation': {'id': None, 'typeName': None}}, 'tagOptions': None}\n",
            "{'id': 281, 'name': 'TV5 Monde', 'slug': 'tv5-monde', 'nameTranslations': ['eng'], 'overviewTranslations': [], 'aliases': [], 'country': 'fra', 'primaryCompanyType': 1, 'activeDate': None, 'inactiveDate': None, 'companyType': {'companyTypeId': 1, 'companyTypeName': 'Network'}, 'parentCompany': {'id': None, 'name': None, 'relation': {'id': None, 'typeName': None}}, 'tagOptions': None}\n",
            "{'id': 282, 'name': 'TVB Jade', 'slug': 'tvb', 'nameTranslations': ['eng', 'yue', 'zho', 'zhtw'], 'overviewTranslations': ['zho'], 'aliases': [{'language': 'yue', 'name': '無綫電視翡翠台'}, {'language': 'eng', 'name': 'Jade'}, {'language': 'eng', 'name': 'TVB'}, {'language': 'zho', 'name': 'TVB'}], 'country': 'hkg', 'primaryCompanyType': 1, 'activeDate': None, 'inactiveDate': None, 'companyType': {'companyTypeId': 1, 'companyTypeName': 'Network'}, 'parentCompany': {'id': None, 'name': None, 'relation': {'id': None, 'typeName': None}}, 'tagOptions': None}\n",
            "{'id': 283, 'name': 'TVBS', 'slug': 'tvbs', 'nameTranslations': ['eng'], 'overviewTranslations': [], 'aliases': [], 'country': 'chn', 'primaryCompanyType': 1, 'activeDate': None, 'inactiveDate': None, 'companyType': {'companyTypeId': 1, 'companyTypeName': 'Network'}, 'parentCompany': {'id': None, 'name': None, 'relation': {'id': None, 'typeName': None}}, 'tagOptions': None}\n",
            "{'id': 284, 'name': 'TVE', 'slug': 'tve', 'nameTranslations': ['eng', 'spa'], 'overviewTranslations': ['spa'], 'aliases': [{'language': 'spa', 'name': 'Televisión Española'}], 'country': 'esp', 'primaryCompanyType': 1, 'activeDate': None, 'inactiveDate': None, 'companyType': {'companyTypeId': 1, 'companyTypeName': 'Network'}, 'parentCompany': {'id': None, 'name': None, 'relation': {'id': None, 'typeName': None}}, 'tagOptions': None}\n",
            "{'id': 285, 'name': 'TVG Network', 'slug': 'tvg-network', 'nameTranslations': ['eng'], 'overviewTranslations': [], 'aliases': [], 'country': 'usa', 'primaryCompanyType': 1, 'activeDate': None, 'inactiveDate': None, 'companyType': {'companyTypeId': 1, 'companyTypeName': 'Network'}, 'parentCompany': {'id': None, 'name': None, 'relation': {'id': None, 'typeName': None}}, 'tagOptions': None}\n",
            "{'id': 286, 'name': 'TVI', 'slug': 'tvi', 'nameTranslations': ['eng', 'por'], 'overviewTranslations': [], 'aliases': [], 'country': 'prt', 'primaryCompanyType': 1, 'activeDate': None, 'inactiveDate': None, 'companyType': {'companyTypeId': 1, 'companyTypeName': 'Network'}, 'parentCompany': {'id': None, 'name': None, 'relation': {'id': None, 'typeName': None}}, 'tagOptions': None}\n",
            "{'id': 287, 'name': 'TVM', 'slug': 'tvm', 'nameTranslations': ['eng'], 'overviewTranslations': [], 'aliases': [], 'country': 'mlt', 'primaryCompanyType': 1, 'activeDate': None, 'inactiveDate': None, 'companyType': {'companyTypeId': 1, 'companyTypeName': 'Network'}, 'parentCompany': {'id': None, 'name': None, 'relation': {'id': None, 'typeName': None}}, 'tagOptions': None}\n",
            "{'id': 288, 'name': 'TVRI', 'slug': 'tvri', 'nameTranslations': ['eng'], 'overviewTranslations': [], 'aliases': [], 'country': 'idn', 'primaryCompanyType': 1, 'activeDate': None, 'inactiveDate': None, 'companyType': {'companyTypeId': 1, 'companyTypeName': 'Network'}, 'parentCompany': {'id': None, 'name': None, 'relation': {'id': None, 'typeName': None}}, 'tagOptions': None}\n",
            "{'id': 289, 'name': 'TVS Sydney', 'slug': 'tvs-sydney', 'nameTranslations': ['eng'], 'overviewTranslations': [], 'aliases': [], 'country': 'aus', 'primaryCompanyType': 1, 'activeDate': None, 'inactiveDate': None, 'companyType': {'companyTypeId': 1, 'companyTypeName': 'Network'}, 'parentCompany': {'id': None, 'name': None, 'relation': {'id': None, 'typeName': None}}, 'tagOptions': None}\n",
            "{'id': 290, 'name': 'UK Entertainment Channel', 'slug': 'uk-entertainment-channel', 'nameTranslations': ['eng'], 'overviewTranslations': [], 'aliases': [], 'country': 'gbr', 'primaryCompanyType': 1, 'activeDate': None, 'inactiveDate': None, 'companyType': {'companyTypeId': 1, 'companyTypeName': 'Network'}, 'parentCompany': {'id': None, 'name': None, 'relation': {'id': None, 'typeName': None}}, 'tagOptions': None}\n",
            "{'id': 291, 'name': 'Eden', 'slug': 'eden', 'nameTranslations': ['eng'], 'overviewTranslations': [], 'aliases': [], 'country': 'gbr', 'primaryCompanyType': 1, 'activeDate': None, 'inactiveDate': None, 'companyType': {'companyTypeId': 1, 'companyTypeName': 'Network'}, 'parentCompany': {'id': None, 'name': None, 'relation': {'id': None, 'typeName': None}}, 'tagOptions': None}\n",
            "{'id': 292, 'name': 'U&Drama', 'slug': 'uktv-drama', 'nameTranslations': ['eng'], 'overviewTranslations': [], 'aliases': [{'language': 'eng', 'name': 'UKTV Drama'}], 'country': 'gbr', 'primaryCompanyType': 1, 'activeDate': None, 'inactiveDate': None, 'companyType': {'companyTypeId': 1, 'companyTypeName': 'Network'}, 'parentCompany': {'id': None, 'name': None, 'relation': {'id': None, 'typeName': None}}, 'tagOptions': None}\n",
            "{'id': 293, 'name': 'UKTV Food', 'slug': 'uktv-food', 'nameTranslations': ['eng'], 'overviewTranslations': [], 'aliases': [], 'country': 'gbr', 'primaryCompanyType': 1, 'activeDate': None, 'inactiveDate': None, 'companyType': {'companyTypeId': 1, 'companyTypeName': 'Network'}, 'parentCompany': {'id': None, 'name': None, 'relation': {'id': None, 'typeName': None}}, 'tagOptions': None}\n",
            "{'id': 294, 'name': 'U&Dave', 'slug': 'dave', 'nameTranslations': ['eng'], 'overviewTranslations': [], 'aliases': [{'language': 'eng', 'name': 'Dave'}], 'country': 'gbr', 'primaryCompanyType': 1, 'activeDate': None, 'inactiveDate': None, 'companyType': {'companyTypeId': 1, 'companyTypeName': 'Network'}, 'parentCompany': {'id': None, 'name': None, 'relation': {'id': None, 'typeName': None}}, 'tagOptions': None}\n",
            "{'id': 295, 'name': 'Gold', 'slug': 'uktv-gold', 'nameTranslations': ['eng'], 'overviewTranslations': [], 'aliases': [{'language': 'eng', 'name': 'UKTV Gold'}], 'country': 'gbr', 'primaryCompanyType': 1, 'activeDate': None, 'inactiveDate': None, 'companyType': {'companyTypeId': 1, 'companyTypeName': 'Network'}, 'parentCompany': {'id': None, 'name': None, 'relation': {'id': None, 'typeName': None}}, 'tagOptions': None}\n",
            "{'id': 296, 'name': 'UKTV History', 'slug': 'uktv-history', 'nameTranslations': ['eng'], 'overviewTranslations': ['eng'], 'aliases': [{'language': 'eng', 'name': 'UK History'}], 'country': 'gbr', 'primaryCompanyType': 1, 'activeDate': None, 'inactiveDate': None, 'companyType': {'companyTypeId': 1, 'companyTypeName': 'Network'}, 'parentCompany': {'id': 880, 'name': 'U&Yesterday', 'relation': {'id': 2, 'typeName': 'Rebranded As'}}, 'tagOptions': None}\n",
            "{'id': 297, 'name': 'UKTV Style', 'slug': 'uktv-style', 'nameTranslations': ['eng'], 'overviewTranslations': [], 'aliases': [], 'country': 'gbr', 'primaryCompanyType': 1, 'activeDate': '2004-03-08', 'inactiveDate': '2009-04-30', 'companyType': {'companyTypeId': 1, 'companyTypeName': 'Network'}, 'parentCompany': {'id': 48047, 'name': 'HGTV (UK)', 'relation': {'id': 2, 'typeName': 'Rebranded As'}}, 'tagOptions': None}\n",
            "{'id': 298, 'name': 'Univision', 'slug': 'univision', 'nameTranslations': ['eng'], 'overviewTranslations': [], 'aliases': [], 'country': 'usa', 'primaryCompanyType': 1, 'activeDate': None, 'inactiveDate': None, 'companyType': {'companyTypeId': 1, 'companyTypeName': 'Network'}, 'parentCompany': {'id': None, 'name': None, 'relation': {'id': None, 'typeName': None}}, 'tagOptions': None}\n",
            "{'id': 299, 'name': 'UNTV 37', 'slug': 'untv-37', 'nameTranslations': ['eng'], 'overviewTranslations': [], 'aliases': [], 'country': 'phl', 'primaryCompanyType': 1, 'activeDate': None, 'inactiveDate': None, 'companyType': {'companyTypeId': 1, 'companyTypeName': 'Network'}, 'parentCompany': {'id': None, 'name': None, 'relation': {'id': None, 'typeName': None}}, 'tagOptions': None}\n",
            "{'id': 300, 'name': 'UPN', 'slug': 'upn', 'nameTranslations': ['eng'], 'overviewTranslations': [], 'aliases': [{'language': 'eng', 'name': 'United Paramount Network'}], 'country': 'usa', 'primaryCompanyType': 1, 'activeDate': '1995-01-16', 'inactiveDate': '2006-09-15', 'companyType': {'companyTypeId': 1, 'companyTypeName': 'Network'}, 'parentCompany': {'id': None, 'name': None, 'relation': {'id': None, 'typeName': None}}, 'tagOptions': None}\n",
            "{'id': 301, 'name': 'USA Network', 'slug': 'usa-network', 'nameTranslations': ['eng'], 'overviewTranslations': [], 'aliases': [], 'country': 'usa', 'primaryCompanyType': 1, 'activeDate': '1982-04-09', 'inactiveDate': None, 'companyType': {'companyTypeId': 1, 'companyTypeName': 'Network'}, 'parentCompany': {'id': 30319, 'name': 'NBCUniversal', 'relation': {'id': None, 'typeName': None}}, 'tagOptions': None}\n",
            "{'id': 302, 'name': 'UTV', 'slug': 'utv', 'nameTranslations': ['eng'], 'overviewTranslations': [], 'aliases': [], 'country': 'irl', 'primaryCompanyType': 1, 'activeDate': None, 'inactiveDate': None, 'companyType': {'companyTypeId': 1, 'companyTypeName': 'Network'}, 'parentCompany': {'id': None, 'name': None, 'relation': {'id': None, 'typeName': None}}, 'tagOptions': None}\n",
            "{'id': 303, 'name': 'Varsity TV', 'slug': 'varsity-tv', 'nameTranslations': ['eng'], 'overviewTranslations': [], 'aliases': [], 'country': 'usa', 'primaryCompanyType': 1, 'activeDate': None, 'inactiveDate': None, 'companyType': {'companyTypeId': 1, 'companyTypeName': 'Network'}, 'parentCompany': {'id': None, 'name': None, 'relation': {'id': None, 'typeName': None}}, 'tagOptions': None}\n",
            "{'id': 304, 'name': 'VH1', 'slug': 'vh1', 'nameTranslations': ['eng'], 'overviewTranslations': [], 'aliases': [], 'country': 'usa', 'primaryCompanyType': 1, 'activeDate': None, 'inactiveDate': None, 'companyType': {'companyTypeId': 1, 'companyTypeName': 'Network'}, 'parentCompany': {'id': None, 'name': None, 'relation': {'id': None, 'typeName': None}}, 'tagOptions': None}\n",
            "{'id': 305, 'name': 'VijfTV', 'slug': 'vijftv', 'nameTranslations': ['eng'], 'overviewTranslations': [], 'aliases': [], 'country': 'bel', 'primaryCompanyType': 1, 'activeDate': None, 'inactiveDate': None, 'companyType': {'companyTypeId': 1, 'companyTypeName': 'Network'}, 'parentCompany': {'id': None, 'name': None, 'relation': {'id': None, 'typeName': None}}, 'tagOptions': None}\n",
            "{'id': 306, 'name': 'Volksmusik TV', 'slug': 'volksmusik-tv', 'nameTranslations': ['eng'], 'overviewTranslations': [], 'aliases': [], 'country': 'deu', 'primaryCompanyType': 1, 'activeDate': None, 'inactiveDate': None, 'companyType': {'companyTypeId': 1, 'companyTypeName': 'Network'}, 'parentCompany': {'id': None, 'name': None, 'relation': {'id': None, 'typeName': None}}, 'tagOptions': None}\n",
            "{'id': 307, 'name': 'VT4', 'slug': 'vt4', 'nameTranslations': ['eng'], 'overviewTranslations': [], 'aliases': [], 'country': 'bel', 'primaryCompanyType': 1, 'activeDate': None, 'inactiveDate': None, 'companyType': {'companyTypeId': 1, 'companyTypeName': 'Network'}, 'parentCompany': {'id': None, 'name': None, 'relation': {'id': None, 'typeName': None}}, 'tagOptions': None}\n",
            "{'id': 308, 'name': 'VTM', 'slug': 'vtm', 'nameTranslations': ['eng'], 'overviewTranslations': [], 'aliases': [], 'country': 'bel', 'primaryCompanyType': 1, 'activeDate': None, 'inactiveDate': None, 'companyType': {'companyTypeId': 1, 'companyTypeName': 'Network'}, 'parentCompany': {'id': None, 'name': None, 'relation': {'id': None, 'typeName': None}}, 'tagOptions': None}\n",
            "{'id': 309, 'name': 'Warner Channel', 'slug': 'warner-channel', 'nameTranslations': ['eng'], 'overviewTranslations': [], 'aliases': [], 'country': 'usa', 'primaryCompanyType': 1, 'activeDate': None, 'inactiveDate': None, 'companyType': {'companyTypeId': 1, 'companyTypeName': 'Network'}, 'parentCompany': {'id': None, 'name': None, 'relation': {'id': None, 'typeName': None}}, 'tagOptions': None}\n",
            "{'id': 310, 'name': 'Westdeutscher Rundfunk (WDR)', 'slug': 'wdr', 'nameTranslations': ['deu', 'eng'], 'overviewTranslations': ['deu'], 'aliases': [{'language': 'deu', 'name': 'WDR'}, {'language': 'deu', 'name': 'West3'}, {'language': 'deu', 'name': 'NWDR'}], 'country': 'deu', 'primaryCompanyType': 1, 'activeDate': None, 'inactiveDate': None, 'companyType': {'companyTypeId': 1, 'companyTypeName': 'Network'}, 'parentCompany': {'id': None, 'name': None, 'relation': {'id': None, 'typeName': None}}, 'tagOptions': None}\n",
            "{'id': 311, 'name': 'WE tv', 'slug': 'we-tv', 'nameTranslations': ['eng'], 'overviewTranslations': [], 'aliases': [{'language': 'eng', 'name': 'WE: Women’s Entertainment'}], 'country': 'usa', 'primaryCompanyType': 1, 'activeDate': '2001-01-01', 'inactiveDate': None, 'companyType': {'companyTypeId': 1, 'companyTypeName': 'Network'}, 'parentCompany': {'id': None, 'name': None, 'relation': {'id': None, 'typeName': None}}, 'tagOptions': None}\n",
            "{'id': 312, 'name': 'XY TV', 'slug': 'xy-tv', 'nameTranslations': ['eng'], 'overviewTranslations': [], 'aliases': [], 'country': 'usa', 'primaryCompanyType': 1, 'activeDate': None, 'inactiveDate': None, 'companyType': {'companyTypeId': 1, 'companyTypeName': 'Network'}, 'parentCompany': {'id': None, 'name': None, 'relation': {'id': None, 'typeName': None}}, 'tagOptions': None}\n",
            "{'id': 313, 'name': 'YLE', 'slug': 'yle', 'nameTranslations': ['eng'], 'overviewTranslations': [], 'aliases': [], 'country': 'fin', 'primaryCompanyType': 1, 'activeDate': None, 'inactiveDate': None, 'companyType': {'companyTypeId': 1, 'companyTypeName': 'Network'}, 'parentCompany': {'id': None, 'name': None, 'relation': {'id': None, 'typeName': None}}, 'tagOptions': None}\n",
            "{'id': 314, 'name': 'YTV', 'slug': 'ytv-ca', 'nameTranslations': ['eng'], 'overviewTranslations': [], 'aliases': [], 'country': 'can', 'primaryCompanyType': 1, 'activeDate': '1988-09-01', 'inactiveDate': None, 'companyType': {'companyTypeId': 1, 'companyTypeName': 'Network'}, 'parentCompany': {'id': 11926, 'name': 'Corus Entertainment', 'relation': {'id': None, 'typeName': None}}, 'tagOptions': None}\n",
            "{'id': 315, 'name': 'ZDF', 'slug': 'zdf', 'nameTranslations': ['deu', 'eng'], 'overviewTranslations': ['deu', 'eng'], 'aliases': [{'language': 'deu', 'name': 'Zweites Deutsches Fernsehen'}, {'language': 'deu', 'name': '2DF'}], 'country': 'deu', 'primaryCompanyType': 1, 'activeDate': None, 'inactiveDate': None, 'companyType': {'companyTypeId': 1, 'companyTypeName': 'Network'}, 'parentCompany': {'id': None, 'name': None, 'relation': {'id': None, 'typeName': None}}, 'tagOptions': None}\n",
            "{'id': 316, 'name': 'Zee Gujarati', 'slug': 'zee-gujarati', 'nameTranslations': ['eng'], 'overviewTranslations': [], 'aliases': [], 'country': 'ind', 'primaryCompanyType': 1, 'activeDate': None, 'inactiveDate': None, 'companyType': {'companyTypeId': 1, 'companyTypeName': 'Network'}, 'parentCompany': {'id': None, 'name': None, 'relation': {'id': None, 'typeName': None}}, 'tagOptions': None}\n",
            "{'id': 317, 'name': 'Zee Cinema', 'slug': 'zee-cinema', 'nameTranslations': ['eng'], 'overviewTranslations': [], 'aliases': [], 'country': 'ind', 'primaryCompanyType': 1, 'activeDate': None, 'inactiveDate': None, 'companyType': {'companyTypeId': 1, 'companyTypeName': 'Network'}, 'parentCompany': {'id': None, 'name': None, 'relation': {'id': None, 'typeName': None}}, 'tagOptions': None}\n",
            "{'id': 318, 'name': 'Disney Channel (IN)', 'slug': 'zee-muzic', 'nameTranslations': ['eng'], 'overviewTranslations': [], 'aliases': [{'language': 'eng', 'name': 'Disney Channel India'}], 'country': 'ind', 'primaryCompanyType': 1, 'activeDate': None, 'inactiveDate': None, 'companyType': {'companyTypeId': 1, 'companyTypeName': 'Network'}, 'parentCompany': {'id': None, 'name': None, 'relation': {'id': None, 'typeName': None}}, 'tagOptions': None}\n",
            "{'id': 319, 'name': 'Zee TV', 'slug': 'zee-tv', 'nameTranslations': ['eng'], 'overviewTranslations': [], 'aliases': [], 'country': 'ind', 'primaryCompanyType': 1, 'activeDate': None, 'inactiveDate': None, 'companyType': {'companyTypeId': 1, 'companyTypeName': 'Network'}, 'parentCompany': {'id': None, 'name': None, 'relation': {'id': None, 'typeName': None}}, 'tagOptions': None}\n",
            "{'id': 320, 'name': 'ZOOM', 'slug': 'zoom', 'nameTranslations': ['eng'], 'overviewTranslations': [], 'aliases': [], 'country': 'ind', 'primaryCompanyType': 1, 'activeDate': None, 'inactiveDate': None, 'companyType': {'companyTypeId': 1, 'companyTypeName': 'Network'}, 'parentCompany': {'id': None, 'name': None, 'relation': {'id': None, 'typeName': None}}, 'tagOptions': None}\n",
            "{'id': 321, 'name': 'ITV1', 'slug': 'itv', 'nameTranslations': ['eng'], 'overviewTranslations': [], 'aliases': [{'language': 'eng', 'name': 'ITV'}], 'country': 'gbr', 'primaryCompanyType': 1, 'activeDate': None, 'inactiveDate': None, 'companyType': {'companyTypeId': 1, 'companyTypeName': 'Network'}, 'parentCompany': {'id': 22712, 'name': 'ITV Studios', 'relation': {'id': None, 'typeName': None}}, 'tagOptions': None}\n",
            "{'id': 322, 'name': 'BBC HD', 'slug': 'bbc-hd', 'nameTranslations': ['eng'], 'overviewTranslations': [], 'aliases': [], 'country': 'gbr', 'primaryCompanyType': 1, 'activeDate': None, 'inactiveDate': None, 'companyType': {'companyTypeId': 1, 'companyTypeName': 'Network'}, 'parentCompany': {'id': 956, 'name': 'BBC', 'relation': {'id': None, 'typeName': None}}, 'tagOptions': None}\n",
            "{'id': 324, 'name': 'ITV2', 'slug': 'itv2', 'nameTranslations': ['eng'], 'overviewTranslations': [], 'aliases': [], 'country': 'gbr', 'primaryCompanyType': 1, 'activeDate': None, 'inactiveDate': None, 'companyType': {'companyTypeId': 1, 'companyTypeName': 'Network'}, 'parentCompany': {'id': 22712, 'name': 'ITV Studios', 'relation': {'id': None, 'typeName': None}}, 'tagOptions': None}\n",
            "{'id': 325, 'name': 'ITV3', 'slug': 'itv3', 'nameTranslations': ['eng'], 'overviewTranslations': [], 'aliases': [], 'country': 'gbr', 'primaryCompanyType': 1, 'activeDate': None, 'inactiveDate': None, 'companyType': {'companyTypeId': 1, 'companyTypeName': 'Network'}, 'parentCompany': {'id': 22712, 'name': 'ITV Studios', 'relation': {'id': None, 'typeName': None}}, 'tagOptions': None}\n",
            "{'id': 326, 'name': 'ITV4', 'slug': 'itv4', 'nameTranslations': ['eng'], 'overviewTranslations': [], 'aliases': [], 'country': 'gbr', 'primaryCompanyType': 1, 'activeDate': None, 'inactiveDate': None, 'companyType': {'companyTypeId': 1, 'companyTypeName': 'Network'}, 'parentCompany': {'id': 22712, 'name': 'ITV Studios', 'relation': {'id': None, 'typeName': None}}, 'tagOptions': None}\n",
            "{'id': 327, 'name': 'CTV Sci-Fi', 'slug': 'ctv-sci-fi', 'nameTranslations': ['eng'], 'overviewTranslations': ['eng'], 'aliases': [], 'country': 'can', 'primaryCompanyType': 1, 'activeDate': '2019-09-12', 'inactiveDate': None, 'companyType': {'companyTypeId': 1, 'companyTypeName': 'Network'}, 'parentCompany': {'id': 75, 'name': 'CTV', 'relation': {'id': None, 'typeName': None}}, 'tagOptions': None}\n",
            "{'id': 328, 'name': 'HBO', 'slug': 'hbo', 'nameTranslations': ['eng', 'pt', 'spa'], 'overviewTranslations': ['pt', 'spa'], 'aliases': [{'language': 'eng', 'name': 'Home Box Office'}], 'country': 'usa', 'primaryCompanyType': 1, 'activeDate': '1972-11-08', 'inactiveDate': None, 'companyType': {'companyTypeId': 1, 'companyTypeName': 'Network'}, 'parentCompany': {'id': None, 'name': None, 'relation': {'id': None, 'typeName': None}}, 'tagOptions': None}\n",
            "{'id': 329, 'name': 'Showcase', 'slug': 'showcase-ca', 'nameTranslations': ['eng'], 'overviewTranslations': [], 'aliases': [], 'country': 'can', 'primaryCompanyType': 1, 'activeDate': '1995-01-01', 'inactiveDate': None, 'companyType': {'companyTypeId': 1, 'companyTypeName': 'Network'}, 'parentCompany': {'id': None, 'name': None, 'relation': {'id': None, 'typeName': None}}, 'tagOptions': None}\n",
            "{'id': 330, 'name': 'Teletoon', 'slug': 'teletoon', 'nameTranslations': ['eng', 'fra'], 'overviewTranslations': [], 'aliases': [], 'country': 'can', 'primaryCompanyType': 1, 'activeDate': '1997-10-23', 'inactiveDate': None, 'companyType': {'companyTypeId': 1, 'companyTypeName': 'Network'}, 'parentCompany': {'id': None, 'name': None, 'relation': {'id': None, 'typeName': None}}, 'tagOptions': None}\n",
            "{'id': 331, 'name': 'Télétoon', 'slug': 'teletoon-fr', 'nameTranslations': ['eng'], 'overviewTranslations': [], 'aliases': [], 'country': 'fra', 'primaryCompanyType': 1, 'activeDate': None, 'inactiveDate': None, 'companyType': {'companyTypeId': 1, 'companyTypeName': 'Network'}, 'parentCompany': {'id': None, 'name': None, 'relation': {'id': None, 'typeName': None}}, 'tagOptions': None}\n",
            "{'id': 332, 'name': 'TVNZ', 'slug': 'tvnz', 'nameTranslations': ['eng'], 'overviewTranslations': [], 'aliases': [], 'country': 'nzl', 'primaryCompanyType': 1, 'activeDate': None, 'inactiveDate': None, 'companyType': {'companyTypeId': 1, 'companyTypeName': 'Network'}, 'parentCompany': {'id': None, 'name': None, 'relation': {'id': None, 'typeName': None}}, 'tagOptions': None}\n",
            "{'id': 333, 'name': 'TLC', 'slug': 'tlc', 'nameTranslations': ['eng'], 'overviewTranslations': [], 'aliases': [{'language': 'eng', 'name': 'The Learning Channel'}], 'country': 'usa', 'primaryCompanyType': 1, 'activeDate': None, 'inactiveDate': None, 'companyType': {'companyTypeId': 1, 'companyTypeName': 'Network'}, 'parentCompany': {'id': None, 'name': None, 'relation': {'id': None, 'typeName': None}}, 'tagOptions': None}\n",
            "{'id': 334, 'name': 'Food Network', 'slug': 'food-network', 'nameTranslations': ['eng'], 'overviewTranslations': ['eng'], 'aliases': [], 'country': 'usa', 'primaryCompanyType': 1, 'activeDate': None, 'inactiveDate': None, 'companyType': {'companyTypeId': 1, 'companyTypeName': 'Network'}, 'parentCompany': {'id': None, 'name': None, 'relation': {'id': None, 'typeName': None}}, 'tagOptions': None}\n",
            "{'id': 335, 'name': 'Global', 'slug': 'global', 'nameTranslations': ['eng'], 'overviewTranslations': [], 'aliases': [{'language': 'eng', 'name': 'Global Television Network'}, {'language': 'eng', 'name': 'Global TV'}], 'country': 'can', 'primaryCompanyType': 1, 'activeDate': '1974-01-06', 'inactiveDate': None, 'companyType': {'companyTypeId': 1, 'companyTypeName': 'Network'}, 'parentCompany': {'id': 11926, 'name': 'Corus Entertainment', 'relation': {'id': None, 'typeName': None}}, 'tagOptions': None}\n",
            "{'id': 336, 'name': 'DuMont Television Network', 'slug': 'dumont-television-network', 'nameTranslations': ['eng'], 'overviewTranslations': [], 'aliases': [], 'country': 'usa', 'primaryCompanyType': 1, 'activeDate': None, 'inactiveDate': None, 'companyType': {'companyTypeId': 1, 'companyTypeName': 'Network'}, 'parentCompany': {'id': None, 'name': None, 'relation': {'id': None, 'typeName': None}}, 'tagOptions': None}\n",
            "{'id': 337, 'name': 'History', 'slug': 'history', 'nameTranslations': ['eng'], 'overviewTranslations': [], 'aliases': [], 'country': 'usa', 'primaryCompanyType': 1, 'activeDate': None, 'inactiveDate': None, 'companyType': {'companyTypeId': 1, 'companyTypeName': 'Network'}, 'parentCompany': {'id': None, 'name': None, 'relation': {'id': None, 'typeName': None}}, 'tagOptions': None}\n",
            "{'id': 338, 'name': 'Encore', 'slug': 'encore', 'nameTranslations': ['eng'], 'overviewTranslations': [], 'aliases': [], 'country': 'usa', 'primaryCompanyType': 1, 'activeDate': None, 'inactiveDate': None, 'companyType': {'companyTypeId': 1, 'companyTypeName': 'Network'}, 'parentCompany': {'id': None, 'name': None, 'relation': {'id': None, 'typeName': None}}, 'tagOptions': None}\n",
            "{'id': 339, 'name': 'Versus', 'slug': 'versus', 'nameTranslations': ['eng'], 'overviewTranslations': [], 'aliases': [], 'country': 'usa', 'primaryCompanyType': 1, 'activeDate': None, 'inactiveDate': None, 'companyType': {'companyTypeId': 1, 'companyTypeName': 'Network'}, 'parentCompany': {'id': None, 'name': None, 'relation': {'id': None, 'typeName': None}}, 'tagOptions': None}\n",
            "{'id': 340, 'name': 'VRT 1', 'slug': 'een', 'nameTranslations': ['eng'], 'overviewTranslations': [], 'aliases': [{'language': 'eng', 'name': 'BRT'}, {'language': 'eng', 'name': 'BRT1'}, {'language': 'eng', 'name': 'TV1'}, {'language': 'eng', 'name': 'één'}, {'language': 'eng', 'name': 'NIR TV'}, {'language': 'eng', 'name': 'VRT TV1'}, {'language': 'eng', 'name': 'BRTN TV1'}], 'country': 'bel', 'primaryCompanyType': 1, 'activeDate': None, 'inactiveDate': None, 'companyType': {'companyTypeId': 1, 'companyTypeName': 'Network'}, 'parentCompany': {'id': None, 'name': None, 'relation': {'id': None, 'typeName': None}}, 'tagOptions': None}\n",
            "{'id': 341, 'name': 'G4', 'slug': 'g4', 'nameTranslations': ['eng'], 'overviewTranslations': [], 'aliases': [], 'country': 'usa', 'primaryCompanyType': 1, 'activeDate': None, 'inactiveDate': None, 'companyType': {'companyTypeId': 1, 'companyTypeName': 'Network'}, 'parentCompany': {'id': None, 'name': None, 'relation': {'id': None, 'typeName': None}}, 'tagOptions': None}\n",
            "{'id': 342, 'name': 'Revision3', 'slug': 'revision3', 'nameTranslations': ['eng'], 'overviewTranslations': [], 'aliases': [], 'country': 'usa', 'primaryCompanyType': 1, 'activeDate': None, 'inactiveDate': None, 'companyType': {'companyTypeId': 1, 'companyTypeName': 'Network'}, 'parentCompany': {'id': None, 'name': None, 'relation': {'id': None, 'typeName': None}}, 'tagOptions': None}\n",
            "{'id': 343, 'name': 'Network 10', 'slug': 'network-ten', 'nameTranslations': ['eng'], 'overviewTranslations': [], 'aliases': [{'language': 'eng', 'name': 'Network Ten'}], 'country': 'aus', 'primaryCompanyType': 1, 'activeDate': None, 'inactiveDate': None, 'companyType': {'companyTypeId': 1, 'companyTypeName': 'Network'}, 'parentCompany': {'id': None, 'name': None, 'relation': {'id': None, 'typeName': None}}, 'tagOptions': None}\n",
            "{'id': 344, 'name': 'Cinemax', 'slug': 'cinemax', 'nameTranslations': ['eng'], 'overviewTranslations': [], 'aliases': [], 'country': 'usa', 'primaryCompanyType': 1, 'activeDate': None, 'inactiveDate': None, 'companyType': {'companyTypeId': 1, 'companyTypeName': 'Network'}, 'parentCompany': {'id': None, 'name': None, 'relation': {'id': None, 'typeName': None}}, 'tagOptions': None}\n",
            "{'id': 345, 'name': 'Canale 5', 'slug': 'canale-5', 'nameTranslations': ['eng'], 'overviewTranslations': [], 'aliases': [], 'country': 'ita', 'primaryCompanyType': 1, 'activeDate': None, 'inactiveDate': None, 'companyType': {'companyTypeId': 1, 'companyTypeName': 'Network'}, 'parentCompany': {'id': None, 'name': None, 'relation': {'id': None, 'typeName': None}}, 'tagOptions': None}\n",
            "{'id': 346, 'name': 'Oxygen', 'slug': 'oxygen', 'nameTranslations': ['eng'], 'overviewTranslations': [], 'aliases': [], 'country': 'usa', 'primaryCompanyType': 1, 'activeDate': None, 'inactiveDate': None, 'companyType': {'companyTypeId': 1, 'companyTypeName': 'Network'}, 'parentCompany': {'id': 30319, 'name': 'NBCUniversal', 'relation': {'id': None, 'typeName': None}}, 'tagOptions': None}\n",
            "{'id': 347, 'name': 'Court TV', 'slug': 'court-tv', 'nameTranslations': ['eng'], 'overviewTranslations': [], 'aliases': [], 'country': 'usa', 'primaryCompanyType': 1, 'activeDate': '1990-12-14', 'inactiveDate': None, 'companyType': {'companyTypeId': 1, 'companyTypeName': 'Network'}, 'parentCompany': {'id': None, 'name': None, 'relation': {'id': None, 'typeName': None}}, 'tagOptions': None}\n",
            "{'id': 348, 'name': 'WOWOW', 'slug': 'wowow', 'nameTranslations': ['eng'], 'overviewTranslations': [], 'aliases': [], 'country': 'jpn', 'primaryCompanyType': 1, 'activeDate': None, 'inactiveDate': None, 'companyType': {'companyTypeId': 1, 'companyTypeName': 'Network'}, 'parentCompany': {'id': None, 'name': None, 'relation': {'id': None, 'typeName': None}}, 'tagOptions': None}\n",
            "{'id': 349, 'name': 'CTC (JA)', 'slug': 'ctc-ja', 'nameTranslations': ['eng', 'jpn'], 'overviewTranslations': [], 'aliases': [{'language': 'eng', 'name': 'Chiba Television Broadcasting Corporation'}, {'language': 'eng', 'name': 'Chiba TV'}, {'language': 'jpn', 'name': '千葉テレビジョン放送株式会社'}, {'language': 'jpn', 'name': 'Chiba Terebijon Hōsō Kabushiki-gaisha'}], 'country': 'jpn', 'primaryCompanyType': 1, 'activeDate': None, 'inactiveDate': None, 'companyType': {'companyTypeId': 1, 'companyTypeName': 'Network'}, 'parentCompany': {'id': None, 'name': None, 'relation': {'id': None, 'typeName': None}}, 'tagOptions': None}\n",
            "{'id': 350, 'name': 'HGTV', 'slug': 'hgtv', 'nameTranslations': ['eng'], 'overviewTranslations': [], 'aliases': [{'language': 'eng', 'name': 'Home & Garden Television'}], 'country': 'usa', 'primaryCompanyType': 1, 'activeDate': '1994-12-30', 'inactiveDate': None, 'companyType': {'companyTypeId': 1, 'companyTypeName': 'Network'}, 'parentCompany': {'id': None, 'name': None, 'relation': {'id': None, 'typeName': None}}, 'tagOptions': None}\n",
            "{'id': 351, 'name': 'NRK1', 'slug': 'nrk1', 'nameTranslations': ['eng'], 'overviewTranslations': [], 'aliases': [], 'country': 'nor', 'primaryCompanyType': 1, 'activeDate': None, 'inactiveDate': None, 'companyType': {'companyTypeId': 1, 'companyTypeName': 'Network'}, 'parentCompany': {'id': None, 'name': None, 'relation': {'id': None, 'typeName': None}}, 'tagOptions': None}\n",
            "{'id': 352, 'name': 'NRK2', 'slug': 'nrk2', 'nameTranslations': ['eng'], 'overviewTranslations': [], 'aliases': [], 'country': 'nor', 'primaryCompanyType': 1, 'activeDate': None, 'inactiveDate': None, 'companyType': {'companyTypeId': 1, 'companyTypeName': 'Network'}, 'parentCompany': {'id': None, 'name': None, 'relation': {'id': None, 'typeName': None}}, 'tagOptions': None}\n",
            "{'id': 353, 'name': 'NRK3', 'slug': 'nrk3', 'nameTranslations': ['eng'], 'overviewTranslations': [], 'aliases': [], 'country': 'nor', 'primaryCompanyType': 1, 'activeDate': None, 'inactiveDate': None, 'companyType': {'companyTypeId': 1, 'companyTypeName': 'Network'}, 'parentCompany': {'id': None, 'name': None, 'relation': {'id': None, 'typeName': None}}, 'tagOptions': None}\n",
            "{'id': 354, 'name': 'NRK Super', 'slug': 'nrk-super', 'nameTranslations': ['eng'], 'overviewTranslations': [], 'aliases': [], 'country': 'nor', 'primaryCompanyType': 1, 'activeDate': None, 'inactiveDate': None, 'companyType': {'companyTypeId': 1, 'companyTypeName': 'Network'}, 'parentCompany': {'id': None, 'name': None, 'relation': {'id': None, 'typeName': None}}, 'tagOptions': None}\n",
            "{'id': 355, 'name': 'TV 2 (NO)', 'slug': 'tv2', 'nameTranslations': ['eng'], 'overviewTranslations': [], 'aliases': [], 'country': 'nor', 'primaryCompanyType': 1, 'activeDate': None, 'inactiveDate': None, 'companyType': {'companyTypeId': 1, 'companyTypeName': 'Network'}, 'parentCompany': {'id': None, 'name': None, 'relation': {'id': None, 'typeName': None}}, 'tagOptions': None}\n",
            "{'id': 356, 'name': 'TV 2 Zebra', 'slug': 'tv-2-zebra', 'nameTranslations': ['eng'], 'overviewTranslations': [], 'aliases': [], 'country': 'nor', 'primaryCompanyType': 1, 'activeDate': None, 'inactiveDate': None, 'companyType': {'companyTypeId': 1, 'companyTypeName': 'Network'}, 'parentCompany': {'id': None, 'name': None, 'relation': {'id': None, 'typeName': None}}, 'tagOptions': None}\n",
            "{'id': 357, 'name': 'TV 2 Sport', 'slug': 'tv-2-sport', 'nameTranslations': ['eng'], 'overviewTranslations': [], 'aliases': [], 'country': 'nor', 'primaryCompanyType': 1, 'activeDate': None, 'inactiveDate': None, 'companyType': {'companyTypeId': 1, 'companyTypeName': 'Network'}, 'parentCompany': {'id': None, 'name': None, 'relation': {'id': None, 'typeName': None}}, 'tagOptions': None}\n",
            "{'id': 358, 'name': 'TVNorge', 'slug': 'tvnorge', 'nameTranslations': ['eng'], 'overviewTranslations': [], 'aliases': [], 'country': 'nor', 'primaryCompanyType': 1, 'activeDate': None, 'inactiveDate': None, 'companyType': {'companyTypeId': 1, 'companyTypeName': 'Network'}, 'parentCompany': {'id': None, 'name': None, 'relation': {'id': None, 'typeName': None}}, 'tagOptions': None}\n",
            "{'id': 359, 'name': 'Viasat 4', 'slug': 'viasat-4', 'nameTranslations': ['eng'], 'overviewTranslations': [], 'aliases': [], 'country': 'nor', 'primaryCompanyType': 1, 'activeDate': None, 'inactiveDate': None, 'companyType': {'companyTypeId': 1, 'companyTypeName': 'Network'}, 'parentCompany': {'id': None, 'name': None, 'relation': {'id': None, 'typeName': None}}, 'tagOptions': None}\n",
            "{'id': 360, 'name': 'FEM', 'slug': 'fem', 'nameTranslations': ['eng'], 'overviewTranslations': [], 'aliases': [], 'country': 'gbr', 'primaryCompanyType': 1, 'activeDate': None, 'inactiveDate': None, 'companyType': {'companyTypeId': 1, 'companyTypeName': 'Network'}, 'parentCompany': {'id': None, 'name': None, 'relation': {'id': None, 'typeName': None}}, 'tagOptions': None}\n",
            "{'id': 361, 'name': 'SYFY', 'slug': 'syfy', 'nameTranslations': ['eng', 'pol'], 'overviewTranslations': [], 'aliases': [{'language': 'pol', 'name': 'Sci-Fi'}, {'language': 'pol', 'name': 'Sci-Fi Channel'}, {'language': 'pol', 'name': 'SciFi Universal'}], 'country': 'usa', 'primaryCompanyType': 1, 'activeDate': '1992-09-24', 'inactiveDate': None, 'companyType': {'companyTypeId': 1, 'companyTypeName': 'Network'}, 'parentCompany': {'id': 30319, 'name': 'NBCUniversal', 'relation': {'id': None, 'typeName': None}}, 'tagOptions': None}\n",
            "{'id': 362, 'name': 'IFC', 'slug': 'ifc', 'nameTranslations': ['eng'], 'overviewTranslations': [], 'aliases': [], 'country': 'usa', 'primaryCompanyType': 1, 'activeDate': None, 'inactiveDate': None, 'companyType': {'companyTypeId': 1, 'companyTypeName': 'Network'}, 'parentCompany': {'id': None, 'name': None, 'relation': {'id': None, 'typeName': None}}, 'tagOptions': None}\n",
            "{'id': 363, 'name': 'SundanceTV', 'slug': 'sundancetv', 'nameTranslations': ['eng'], 'overviewTranslations': ['eng'], 'aliases': [], 'country': 'usa', 'primaryCompanyType': 1, 'activeDate': '1996-02-01', 'inactiveDate': None, 'companyType': {'companyTypeId': 1, 'companyTypeName': 'Network'}, 'parentCompany': {'id': None, 'name': None, 'relation': {'id': None, 'typeName': None}}, 'tagOptions': None}\n",
            "{'id': 364, 'name': 'TV3 (DK)', 'slug': 'tv-3', 'nameTranslations': ['eng'], 'overviewTranslations': [], 'aliases': [{'language': 'eng', 'name': 'TV3 Denmark'}, {'language': 'eng', 'name': 'TV3 Danmark'}], 'country': 'dnk', 'primaryCompanyType': 1, 'activeDate': None, 'inactiveDate': None, 'companyType': {'companyTypeId': 1, 'companyTypeName': 'Network'}, 'parentCompany': {'id': None, 'name': None, 'relation': {'id': None, 'typeName': None}}, 'tagOptions': None}\n",
            "{'id': 365, 'name': 'Speed', 'slug': 'speed', 'nameTranslations': ['eng'], 'overviewTranslations': [], 'aliases': [], 'country': 'usa', 'primaryCompanyType': 1, 'activeDate': None, 'inactiveDate': None, 'companyType': {'companyTypeId': 1, 'companyTypeName': 'Network'}, 'parentCompany': {'id': None, 'name': None, 'relation': {'id': None, 'typeName': None}}, 'tagOptions': None}\n",
            "{'id': 366, 'name': 'TV 4', 'slug': 'tv-4', 'nameTranslations': ['eng'], 'overviewTranslations': [], 'aliases': [], 'country': 'pol', 'primaryCompanyType': 1, 'activeDate': None, 'inactiveDate': None, 'companyType': {'companyTypeId': 1, 'companyTypeName': 'Network'}, 'parentCompany': {'id': None, 'name': None, 'relation': {'id': None, 'typeName': None}}, 'tagOptions': None}\n",
            "{'id': 367, 'name': 'TVN', 'slug': 'tvn', 'nameTranslations': ['eng'], 'overviewTranslations': [], 'aliases': [], 'country': 'pol', 'primaryCompanyType': 1, 'activeDate': None, 'inactiveDate': None, 'companyType': {'companyTypeId': 1, 'companyTypeName': 'Network'}, 'parentCompany': {'id': None, 'name': None, 'relation': {'id': None, 'typeName': None}}, 'tagOptions': None}\n",
            "{'id': 368, 'name': 'TVN Turbo', 'slug': 'tvn-turbo', 'nameTranslations': ['eng'], 'overviewTranslations': [], 'aliases': [], 'country': 'pol', 'primaryCompanyType': 1, 'activeDate': None, 'inactiveDate': None, 'companyType': {'companyTypeId': 1, 'companyTypeName': 'Network'}, 'parentCompany': {'id': None, 'name': None, 'relation': {'id': None, 'typeName': None}}, 'tagOptions': None}\n",
            "{'id': 369, 'name': 'Telewizja Polska S.A.', 'slug': 'tvp-sa', 'nameTranslations': ['eng', 'pol'], 'overviewTranslations': ['eng', 'pol'], 'aliases': [{'language': 'pol', 'name': 'TVP'}, {'language': 'pol', 'name': 'TVP SA'}, {'language': 'eng', 'name': 'Polish Television S.A.'}, {'language': 'eng', 'name': 'TVP'}, {'language': 'eng', 'name': 'TVP SA'}], 'country': 'pol', 'primaryCompanyType': 1, 'activeDate': None, 'inactiveDate': None, 'companyType': {'companyTypeId': 1, 'companyTypeName': 'Network'}, 'parentCompany': {'id': None, 'name': None, 'relation': {'id': None, 'typeName': None}}, 'tagOptions': None}\n",
            "{'id': 370, 'name': 'TVP1', 'slug': 'tvp1', 'nameTranslations': ['eng', 'pol'], 'overviewTranslations': ['pol'], 'aliases': [{'language': 'pol', 'name': 'TVP 1'}, {'language': 'pol', 'name': 'Jedynka'}, {'language': 'pol', 'name': 'Jedynka TVP'}, {'language': 'pol', 'name': 'Program pierwszy'}, {'language': 'pol', 'name': 'Program Pierwszy TVP'}, {'language': 'pol', 'name': 'Program Pierwszy Telewizji Polskiej'}, {'language': 'pol', 'name': 'TVP1 HD'}], 'country': 'pol', 'primaryCompanyType': 1, 'activeDate': None, 'inactiveDate': None, 'companyType': {'companyTypeId': 1, 'companyTypeName': 'Network'}, 'parentCompany': {'id': None, 'name': None, 'relation': {'id': None, 'typeName': None}}, 'tagOptions': None}\n",
            "{'id': 371, 'name': 'TVP2', 'slug': 'tvp2', 'nameTranslations': ['eng'], 'overviewTranslations': [], 'aliases': [], 'country': 'pol', 'primaryCompanyType': 1, 'activeDate': None, 'inactiveDate': None, 'companyType': {'companyTypeId': 1, 'companyTypeName': 'Network'}, 'parentCompany': {'id': None, 'name': None, 'relation': {'id': None, 'typeName': None}}, 'tagOptions': None}\n",
            "{'id': 372, 'name': 'Tokyo MX', 'slug': 'tokyo-mx', 'nameTranslations': ['eng'], 'overviewTranslations': [], 'aliases': [], 'country': 'jpn', 'primaryCompanyType': 1, 'activeDate': None, 'inactiveDate': None, 'companyType': {'companyTypeId': 1, 'companyTypeName': 'Network'}, 'parentCompany': {'id': None, 'name': None, 'relation': {'id': None, 'typeName': None}}, 'tagOptions': None}\n",
            "{'id': 373, 'name': 'SAT.1', 'slug': 'sat1', 'nameTranslations': ['deu', 'eng'], 'overviewTranslations': ['deu'], 'aliases': [{'language': 'deu', 'name': 'Sat eins'}, {'language': 'deu', 'name': 'PKS'}, {'language': 'deu', 'name': 'Sat.1'}], 'country': 'deu', 'primaryCompanyType': 1, 'activeDate': None, 'inactiveDate': None, 'companyType': {'companyTypeId': 1, 'companyTypeName': 'Network'}, 'parentCompany': {'id': None, 'name': None, 'relation': {'id': None, 'typeName': None}}, 'tagOptions': None}\n",
            "{'id': 374, 'name': 'ProSieben', 'slug': 'prosieben', 'nameTranslations': ['eng'], 'overviewTranslations': [], 'aliases': [], 'country': 'deu', 'primaryCompanyType': 1, 'activeDate': None, 'inactiveDate': None, 'companyType': {'companyTypeId': 1, 'companyTypeName': 'Network'}, 'parentCompany': {'id': None, 'name': None, 'relation': {'id': None, 'typeName': None}}, 'tagOptions': None}\n",
            "{'id': 375, 'name': 'TV4', 'slug': 'tv4-se', 'nameTranslations': ['eng'], 'overviewTranslations': [], 'aliases': [], 'country': 'swe', 'primaryCompanyType': 1, 'activeDate': None, 'inactiveDate': None, 'companyType': {'companyTypeId': 1, 'companyTypeName': 'Network'}, 'parentCompany': {'id': None, 'name': None, 'relation': {'id': None, 'typeName': None}}, 'tagOptions': None}\n",
            "{'id': 376, 'name': 'History Canada', 'slug': 'history-ca', 'nameTranslations': ['eng'], 'overviewTranslations': [], 'aliases': [{'language': 'eng', 'name': 'History Television'}], 'country': 'can', 'primaryCompanyType': 1, 'activeDate': '1997-10-17', 'inactiveDate': None, 'companyType': {'companyTypeId': 1, 'companyTypeName': 'Network'}, 'parentCompany': {'id': 11926, 'name': 'Corus Entertainment', 'relation': {'id': None, 'typeName': None}}, 'tagOptions': None}\n",
            "{'id': 377, 'name': 'BS11', 'slug': 'bs11', 'nameTranslations': ['eng'], 'overviewTranslations': [], 'aliases': [], 'country': 'jpn', 'primaryCompanyType': 1, 'activeDate': None, 'inactiveDate': None, 'companyType': {'companyTypeId': 1, 'companyTypeName': 'Network'}, 'parentCompany': {'id': None, 'name': None, 'relation': {'id': None, 'typeName': None}}, 'tagOptions': None}\n",
            "{'id': 378, 'name': 'Arte', 'slug': 'arte', 'nameTranslations': ['eng'], 'overviewTranslations': [], 'aliases': [], 'country': 'fra', 'primaryCompanyType': 1, 'activeDate': '1992-05-30', 'inactiveDate': None, 'companyType': {'companyTypeId': 1, 'companyTypeName': 'Network'}, 'parentCompany': {'id': None, 'name': None, 'relation': {'id': None, 'typeName': None}}, 'tagOptions': None}\n",
            "{'id': 379, 'name': 'НТВ', 'slug': 'нтв', 'nameTranslations': ['eng'], 'overviewTranslations': [], 'aliases': [{'language': 'eng', 'name': 'NTV'}], 'country': 'rus', 'primaryCompanyType': 1, 'activeDate': None, 'inactiveDate': None, 'companyType': {'companyTypeId': 1, 'companyTypeName': 'Network'}, 'parentCompany': {'id': None, 'name': None, 'relation': {'id': None, 'typeName': None}}, 'tagOptions': None}\n",
            "{'id': 380, 'name': 'Russia-1', 'slug': 'россия-1', 'nameTranslations': ['eng', 'rus'], 'overviewTranslations': [], 'aliases': [{'language': 'rus', 'name': 'Rossiya 1'}], 'country': 'rus', 'primaryCompanyType': 1, 'activeDate': None, 'inactiveDate': None, 'companyType': {'companyTypeId': 1, 'companyTypeName': 'Network'}, 'parentCompany': {'id': None, 'name': None, 'relation': {'id': None, 'typeName': None}}, 'tagOptions': None}\n",
            "{'id': 381, 'name': 'СТС', 'slug': 'стс', 'nameTranslations': ['eng', 'rus'], 'overviewTranslations': [], 'aliases': [], 'country': 'rus', 'primaryCompanyType': 1, 'activeDate': None, 'inactiveDate': None, 'companyType': {'companyTypeId': 1, 'companyTypeName': 'Network'}, 'parentCompany': {'id': None, 'name': None, 'relation': {'id': None, 'typeName': None}}, 'tagOptions': None}\n",
            "{'id': 382, 'name': 'Pervyy kanal', 'slug': 'первый-канал', 'nameTranslations': ['eng', 'rus'], 'overviewTranslations': [], 'aliases': [{'language': 'rus', 'name': 'Pervyy kanal'}, {'language': 'eng', 'name': 'Channel One'}], 'country': 'rus', 'primaryCompanyType': 1, 'activeDate': None, 'inactiveDate': None, 'companyType': {'companyTypeId': 1, 'companyTypeName': 'Network'}, 'parentCompany': {'id': None, 'name': None, 'relation': {'id': None, 'typeName': None}}, 'tagOptions': None}\n",
            "{'id': 383, 'name': 'THT', 'slug': 'тнт', 'nameTranslations': ['eng', 'rus'], 'overviewTranslations': [], 'aliases': [{'language': 'rus', 'name': 'Телевидение нового тысячелетия'}, {'language': 'rus', 'name': 'Televideniye Novogo Tisyachelyetiya'}, {'language': 'rus', 'name': 'Твоё Новое Телевидение'}, {'language': 'rus', 'name': 'Tvoyo Novoye Televideniye'}, {'language': 'eng', 'name': 'Televideniye Novogo Tisyachelyetiya'}, {'language': 'eng', 'name': 'Tvoyo Novoye Televideniye'}, {'language': 'eng', 'name': 'TNT  (Russia)'}], 'country': 'rus', 'primaryCompanyType': 1, 'activeDate': None, 'inactiveDate': None, 'companyType': {'companyTypeId': 1, 'companyTypeName': 'Network'}, 'parentCompany': {'id': None, 'name': None, 'relation': {'id': None, 'typeName': None}}, 'tagOptions': None}\n",
            "{'id': 384, 'name': 'Planet Green', 'slug': 'planet-green', 'nameTranslations': ['eng'], 'overviewTranslations': [], 'aliases': [], 'country': 'usa', 'primaryCompanyType': 1, 'activeDate': None, 'inactiveDate': None, 'companyType': {'companyTypeId': 1, 'companyTypeName': 'Network'}, 'parentCompany': {'id': None, 'name': None, 'relation': {'id': None, 'typeName': None}}, 'tagOptions': None}\n",
            "{'id': 385, 'name': 'SF 1', 'slug': 'schweizer-fernsehen', 'nameTranslations': ['eng'], 'overviewTranslations': [], 'aliases': [{'language': 'eng', 'name': 'Schweizer Fernsehen'}], 'country': 'che', 'primaryCompanyType': 1, 'activeDate': None, 'inactiveDate': None, 'companyType': {'companyTypeId': 1, 'companyTypeName': 'Network'}, 'parentCompany': {'id': None, 'name': None, 'relation': {'id': None, 'typeName': None}}, 'tagOptions': None}\n",
            "{'id': 386, 'name': 'Chubu-Nippon Broadcasting', 'slug': 'chubu-nippon-broadcasting', 'nameTranslations': ['eng', 'jpn'], 'overviewTranslations': [], 'aliases': [{'language': 'eng', 'name': 'CBC (JP)'}, {'language': 'jpn', 'name': 'Chūbu Nippon Hōsō kabushiki gaisha'}], 'country': 'jpn', 'primaryCompanyType': 1, 'activeDate': None, 'inactiveDate': None, 'companyType': {'companyTypeId': 1, 'companyTypeName': 'Network'}, 'parentCompany': {'id': None, 'name': None, 'relation': {'id': None, 'typeName': None}}, 'tagOptions': None}\n",
            "{'id': 387, 'name': 'HBO Canada', 'slug': 'hbo-canada', 'nameTranslations': ['eng'], 'overviewTranslations': [], 'aliases': [], 'country': 'can', 'primaryCompanyType': 1, 'activeDate': None, 'inactiveDate': None, 'companyType': {'companyTypeId': 1, 'companyTypeName': 'Network'}, 'parentCompany': {'id': None, 'name': None, 'relation': {'id': None, 'typeName': None}}, 'tagOptions': None}\n",
            "{'id': 388, 'name': 'Travel Channel', 'slug': 'travel-channel', 'nameTranslations': ['eng'], 'overviewTranslations': [], 'aliases': [], 'country': 'usa', 'primaryCompanyType': 1, 'activeDate': None, 'inactiveDate': None, 'companyType': {'companyTypeId': 1, 'companyTypeName': 'Network'}, 'parentCompany': {'id': None, 'name': None, 'relation': {'id': None, 'typeName': None}}, 'tagOptions': None}\n",
            "{'id': 389, 'name': 'AMC', 'slug': 'amc', 'nameTranslations': ['eng'], 'overviewTranslations': [], 'aliases': [], 'country': 'usa', 'primaryCompanyType': 1, 'activeDate': None, 'inactiveDate': None, 'companyType': {'companyTypeId': 1, 'companyTypeName': 'Network'}, 'parentCompany': {'id': None, 'name': None, 'relation': {'id': None, 'typeName': None}}, 'tagOptions': None}\n",
            "{'id': 390, 'name': 'ORF 1', 'slug': 'orf-1', 'nameTranslations': ['eng', 'spa'], 'overviewTranslations': [], 'aliases': [], 'country': 'aut', 'primaryCompanyType': 1, 'activeDate': None, 'inactiveDate': None, 'companyType': {'companyTypeId': 1, 'companyTypeName': 'Network'}, 'parentCompany': {'id': None, 'name': None, 'relation': {'id': None, 'typeName': None}}, 'tagOptions': None}\n",
            "{'id': 391, 'name': 'ORF 2', 'slug': 'orf-2', 'nameTranslations': ['eng'], 'overviewTranslations': [], 'aliases': [], 'country': 'aut', 'primaryCompanyType': 1, 'activeDate': None, 'inactiveDate': None, 'companyType': {'companyTypeId': 1, 'companyTypeName': 'Network'}, 'parentCompany': {'id': None, 'name': None, 'relation': {'id': None, 'typeName': None}}, 'tagOptions': None}\n",
            "{'id': 392, 'name': 'Animax', 'slug': 'animax', 'nameTranslations': ['eng'], 'overviewTranslations': [], 'aliases': [], 'country': 'jpn', 'primaryCompanyType': 1, 'activeDate': None, 'inactiveDate': None, 'companyType': {'companyTypeId': 1, 'companyTypeName': 'Network'}, 'parentCompany': {'id': None, 'name': None, 'relation': {'id': None, 'typeName': None}}, 'tagOptions': None}\n",
            "{'id': 393, 'name': 'Telecinco', 'slug': 'telecinco', 'nameTranslations': ['eng', 'spa'], 'overviewTranslations': ['spa'], 'aliases': [{'language': 'spa', 'name': 'Tele 5'}], 'country': 'esp', 'primaryCompanyType': 1, 'activeDate': None, 'inactiveDate': None, 'companyType': {'companyTypeId': 1, 'companyTypeName': 'Network'}, 'parentCompany': {'id': None, 'name': None, 'relation': {'id': None, 'typeName': None}}, 'tagOptions': None}\n",
            "{'id': 394, 'name': 'La Siete', 'slug': 'la-siete', 'nameTranslations': ['eng'], 'overviewTranslations': [], 'aliases': [], 'country': 'esp', 'primaryCompanyType': 1, 'activeDate': None, 'inactiveDate': None, 'companyType': {'companyTypeId': 1, 'companyTypeName': 'Network'}, 'parentCompany': {'id': None, 'name': None, 'relation': {'id': None, 'typeName': None}}, 'tagOptions': None}\n",
            "{'id': 395, 'name': 'TVA (JP)', 'slug': 'tva-jp', 'nameTranslations': ['eng'], 'overviewTranslations': [], 'aliases': [], 'country': 'jpn', 'primaryCompanyType': 1, 'activeDate': None, 'inactiveDate': None, 'companyType': {'companyTypeId': 1, 'companyTypeName': 'Network'}, 'parentCompany': {'id': None, 'name': None, 'relation': {'id': None, 'typeName': None}}, 'tagOptions': None}\n",
            "{'id': 396, 'name': 'Investigation Discovery', 'slug': 'investigation-discovery', 'nameTranslations': ['eng'], 'overviewTranslations': [], 'aliases': [], 'country': 'usa', 'primaryCompanyType': 1, 'activeDate': None, 'inactiveDate': None, 'companyType': {'companyTypeId': 1, 'companyTypeName': 'Network'}, 'parentCompany': {'id': None, 'name': None, 'relation': {'id': None, 'typeName': None}}, 'tagOptions': None}\n",
            "{'id': 397, 'name': 'TV Azteca', 'slug': 'tv-azteca', 'nameTranslations': ['eng'], 'overviewTranslations': [], 'aliases': [], 'country': 'mex', 'primaryCompanyType': 1, 'activeDate': None, 'inactiveDate': None, 'companyType': {'companyTypeId': 1, 'companyTypeName': 'Network'}, 'parentCompany': {'id': None, 'name': None, 'relation': {'id': None, 'typeName': None}}, 'tagOptions': None}\n",
            "{'id': 398, 'name': 'РЕН', 'slug': 'рен', 'nameTranslations': ['eng'], 'overviewTranslations': [], 'aliases': [], 'country': 'rus', 'primaryCompanyType': 1, 'activeDate': None, 'inactiveDate': None, 'companyType': {'companyTypeId': 1, 'companyTypeName': 'Network'}, 'parentCompany': {'id': None, 'name': None, 'relation': {'id': None, 'typeName': None}}, 'tagOptions': None}\n",
            "{'id': 399, 'name': 'Séries Plus', 'slug': 'series-', 'nameTranslations': ['eng'], 'overviewTranslations': [], 'aliases': [{'language': 'eng', 'name': 'Séries+'}], 'country': 'can', 'primaryCompanyType': 1, 'activeDate': None, 'inactiveDate': None, 'companyType': {'companyTypeId': 1, 'companyTypeName': 'Network'}, 'parentCompany': {'id': None, 'name': None, 'relation': {'id': None, 'typeName': None}}, 'tagOptions': None}\n",
            "{'id': 400, 'name': 'V', 'slug': 'v', 'nameTranslations': ['eng'], 'overviewTranslations': [], 'aliases': [], 'country': 'can', 'primaryCompanyType': 1, 'activeDate': None, 'inactiveDate': None, 'companyType': {'companyTypeId': 1, 'companyTypeName': 'Network'}, 'parentCompany': {'id': None, 'name': None, 'relation': {'id': None, 'typeName': None}}, 'tagOptions': None}\n",
            "{'id': 401, 'name': 'Television Osaka', 'slug': 'television-osaka', 'nameTranslations': ['eng'], 'overviewTranslations': [], 'aliases': [], 'country': 'jpn', 'primaryCompanyType': 1, 'activeDate': None, 'inactiveDate': None, 'companyType': {'companyTypeId': 1, 'companyTypeName': 'Network'}, 'parentCompany': {'id': None, 'name': None, 'relation': {'id': None, 'typeName': None}}, 'tagOptions': None}\n",
            "{'id': 402, 'name': 'SVT', 'slug': 'svt', 'nameTranslations': ['eng'], 'overviewTranslations': [], 'aliases': [{'language': 'eng', 'name': 'Sveriges Television'}], 'country': 'swe', 'primaryCompanyType': 1, 'activeDate': None, 'inactiveDate': None, 'companyType': {'companyTypeId': 1, 'companyTypeName': 'Network'}, 'parentCompany': {'id': None, 'name': None, 'relation': {'id': None, 'typeName': None}}, 'tagOptions': None}\n",
            "{'id': 403, 'name': 'Z', 'slug': 'ztele', 'nameTranslations': ['eng'], 'overviewTranslations': [], 'aliases': [{'language': 'eng', 'name': 'Ztélé'}, {'language': 'eng', 'name': 'Canal Z'}], 'country': 'can', 'primaryCompanyType': 1, 'activeDate': '2000-01-31', 'inactiveDate': None, 'companyType': {'companyTypeId': 1, 'companyTypeName': 'Network'}, 'parentCompany': {'id': None, 'name': None, 'relation': {'id': None, 'typeName': None}}, 'tagOptions': None}\n",
            "{'id': 404, 'name': 'Vrak.TV', 'slug': 'vraktv', 'nameTranslations': ['eng'], 'overviewTranslations': [], 'aliases': [{'language': 'eng', 'name': 'Vrak'}], 'country': 'can', 'primaryCompanyType': 1, 'activeDate': None, 'inactiveDate': None, 'companyType': {'companyTypeId': 1, 'companyTypeName': 'Network'}, 'parentCompany': {'id': None, 'name': None, 'relation': {'id': None, 'typeName': None}}, 'tagOptions': None}\n",
            "{'id': 405, 'name': 'Casa', 'slug': 'casa', 'nameTranslations': ['eng'], 'overviewTranslations': [], 'aliases': [], 'country': 'can', 'primaryCompanyType': 1, 'activeDate': None, 'inactiveDate': None, 'companyType': {'companyTypeId': 1, 'companyTypeName': 'Network'}, 'parentCompany': {'id': None, 'name': None, 'relation': {'id': None, 'typeName': None}}, 'tagOptions': None}\n",
            "{'id': 406, 'name': 'Disney XD', 'slug': 'disney-xd', 'nameTranslations': ['eng'], 'overviewTranslations': [], 'aliases': [], 'country': 'usa', 'primaryCompanyType': 1, 'activeDate': None, 'inactiveDate': None, 'companyType': {'companyTypeId': 1, 'companyTypeName': 'Network'}, 'parentCompany': {'id': 2075, 'name': 'Walt Disney Studios', 'relation': {'id': None, 'typeName': None}}, 'tagOptions': None}\n",
            "{'id': 407, 'name': 'Prime (NZ)', 'slug': 'prime-nz', 'nameTranslations': ['eng'], 'overviewTranslations': [], 'aliases': [], 'country': 'nzl', 'primaryCompanyType': 1, 'activeDate': None, 'inactiveDate': None, 'companyType': {'companyTypeId': 1, 'companyTypeName': 'Network'}, 'parentCompany': {'id': None, 'name': None, 'relation': {'id': None, 'typeName': None}}, 'tagOptions': None}\n",
            "{'id': 408, 'name': 'TV-3 (Russia)', 'slug': 'тв3', 'nameTranslations': ['eng', 'rus'], 'overviewTranslations': [], 'aliases': [{'language': 'rus', 'name': 'ТВ-3'}], 'country': 'rus', 'primaryCompanyType': 1, 'activeDate': None, 'inactiveDate': None, 'companyType': {'companyTypeId': 1, 'companyTypeName': 'Network'}, 'parentCompany': {'id': None, 'name': None, 'relation': {'id': None, 'typeName': None}}, 'tagOptions': None}\n",
            "{'id': 409, 'name': 'ТВ Центр', 'slug': 'тв-центр', 'nameTranslations': ['eng'], 'overviewTranslations': [], 'aliases': [], 'country': 'rus', 'primaryCompanyType': 1, 'activeDate': None, 'inactiveDate': None, 'companyType': {'companyTypeId': 1, 'companyTypeName': 'Network'}, 'parentCompany': {'id': None, 'name': None, 'relation': {'id': None, 'typeName': None}}, 'tagOptions': None}\n",
            "{'id': 410, 'name': 'Пятый канал', 'slug': 'пятый-канал', 'nameTranslations': ['eng'], 'overviewTranslations': [], 'aliases': [], 'country': 'rus', 'primaryCompanyType': 1, 'activeDate': None, 'inactiveDate': None, 'companyType': {'companyTypeId': 1, 'companyTypeName': 'Network'}, 'parentCompany': {'id': None, 'name': None, 'relation': {'id': None, 'typeName': None}}, 'tagOptions': None}\n",
            "{'id': 411, 'name': '2×2', 'slug': '2×2', 'nameTranslations': ['eng'], 'overviewTranslations': [], 'aliases': [], 'country': 'rus', 'primaryCompanyType': 1, 'activeDate': None, 'inactiveDate': None, 'companyType': {'companyTypeId': 1, 'companyTypeName': 'Network'}, 'parentCompany': {'id': None, 'name': None, 'relation': {'id': None, 'typeName': None}}, 'tagOptions': None}\n",
            "{'id': 412, 'name': 'Домашний', 'slug': 'домашний', 'nameTranslations': ['eng'], 'overviewTranslations': [], 'aliases': [], 'country': 'rus', 'primaryCompanyType': 1, 'activeDate': None, 'inactiveDate': None, 'companyType': {'companyTypeId': 1, 'companyTypeName': 'Network'}, 'parentCompany': {'id': None, 'name': None, 'relation': {'id': None, 'typeName': None}}, 'tagOptions': None}\n",
            "{'id': 413, 'name': 'TV Nova', 'slug': 'tv-nova', 'nameTranslations': ['eng'], 'overviewTranslations': [], 'aliases': [], 'country': 'cze', 'primaryCompanyType': 1, 'activeDate': None, 'inactiveDate': None, 'companyType': {'companyTypeId': 1, 'companyTypeName': 'Network'}, 'parentCompany': {'id': None, 'name': None, 'relation': {'id': None, 'typeName': None}}, 'tagOptions': None}\n",
            "{'id': 414, 'name': 'Česká televize', 'slug': 'ceska-televize', 'nameTranslations': ['eng'], 'overviewTranslations': [], 'aliases': [], 'country': 'cze', 'primaryCompanyType': 1, 'activeDate': None, 'inactiveDate': None, 'companyType': {'companyTypeId': 1, 'companyTypeName': 'Network'}, 'parentCompany': {'id': None, 'name': None, 'relation': {'id': None, 'typeName': None}}, 'tagOptions': None}\n",
            "{'id': 415, 'name': 'FTV Prima', 'slug': 'prima-televize', 'nameTranslations': ['eng'], 'overviewTranslations': [], 'aliases': [], 'country': 'cze', 'primaryCompanyType': 1, 'activeDate': None, 'inactiveDate': None, 'companyType': {'companyTypeId': 1, 'companyTypeName': 'Network'}, 'parentCompany': {'id': None, 'name': None, 'relation': {'id': None, 'typeName': None}}, 'tagOptions': None}\n",
            "{'id': 416, 'name': 'Science Channel', 'slug': 'science-channel', 'nameTranslations': ['eng'], 'overviewTranslations': [], 'aliases': [], 'country': 'usa', 'primaryCompanyType': 1, 'activeDate': None, 'inactiveDate': None, 'companyType': {'companyTypeId': 1, 'companyTypeName': 'Network'}, 'parentCompany': {'id': None, 'name': None, 'relation': {'id': None, 'typeName': None}}, 'tagOptions': None}\n",
            "{'id': 417, 'name': 'DIY Network', 'slug': 'diy-network', 'nameTranslations': ['eng'], 'overviewTranslations': [], 'aliases': [], 'country': 'usa', 'primaryCompanyType': 1, 'activeDate': '1999-01-01', 'inactiveDate': None, 'companyType': {'companyTypeId': 1, 'companyTypeName': 'Network'}, 'parentCompany': {'id': 1535, 'name': 'Magnolia Network', 'relation': {'id': 2, 'typeName': 'Rebranded As'}}, 'tagOptions': None}\n",
            "{'id': 418, 'name': 'AVRO', 'slug': 'avro', 'nameTranslations': ['eng'], 'overviewTranslations': [], 'aliases': [], 'country': 'nld', 'primaryCompanyType': 1, 'activeDate': None, 'inactiveDate': None, 'companyType': {'companyTypeId': 1, 'companyTypeName': 'Network'}, 'parentCompany': {'id': None, 'name': None, 'relation': {'id': None, 'typeName': None}}, 'tagOptions': None}\n",
            "{'id': 419, 'name': 'NCRV', 'slug': 'ncrv', 'nameTranslations': ['eng'], 'overviewTranslations': [], 'aliases': [], 'country': 'nld', 'primaryCompanyType': 1, 'activeDate': None, 'inactiveDate': None, 'companyType': {'companyTypeId': 1, 'companyTypeName': 'Network'}, 'parentCompany': {'id': None, 'name': None, 'relation': {'id': None, 'typeName': None}}, 'tagOptions': None}\n",
            "{'id': 420, 'name': 'KRO', 'slug': 'kro', 'nameTranslations': ['eng'], 'overviewTranslations': [], 'aliases': [], 'country': 'nld', 'primaryCompanyType': 1, 'activeDate': None, 'inactiveDate': None, 'companyType': {'companyTypeId': 1, 'companyTypeName': 'Network'}, 'parentCompany': {'id': None, 'name': None, 'relation': {'id': None, 'typeName': None}}, 'tagOptions': None}\n",
            "{'id': 421, 'name': 'VPRO', 'slug': 'vpro', 'nameTranslations': ['eng'], 'overviewTranslations': [], 'aliases': [], 'country': 'nld', 'primaryCompanyType': 1, 'activeDate': None, 'inactiveDate': None, 'companyType': {'companyTypeId': 1, 'companyTypeName': 'Network'}, 'parentCompany': {'id': None, 'name': None, 'relation': {'id': None, 'typeName': None}}, 'tagOptions': None}\n",
            "{'id': 422, 'name': 'VARA', 'slug': 'vara', 'nameTranslations': ['eng'], 'overviewTranslations': [], 'aliases': [], 'country': 'nld', 'primaryCompanyType': 1, 'activeDate': None, 'inactiveDate': None, 'companyType': {'companyTypeId': 1, 'companyTypeName': 'Network'}, 'parentCompany': {'id': None, 'name': None, 'relation': {'id': None, 'typeName': None}}, 'tagOptions': None}\n",
            "{'id': 423, 'name': 'BNN (NL)', 'slug': 'bnn-nl', 'nameTranslations': ['eng'], 'overviewTranslations': [], 'aliases': [], 'country': 'nld', 'primaryCompanyType': 1, 'activeDate': None, 'inactiveDate': None, 'companyType': {'companyTypeId': 1, 'companyTypeName': 'Network'}, 'parentCompany': {'id': None, 'name': None, 'relation': {'id': None, 'typeName': None}}, 'tagOptions': None}\n",
            "{'id': 424, 'name': 'EO', 'slug': 'eo', 'nameTranslations': ['eng'], 'overviewTranslations': [], 'aliases': [], 'country': 'nld', 'primaryCompanyType': 1, 'activeDate': None, 'inactiveDate': None, 'companyType': {'companyTypeId': 1, 'companyTypeName': 'Network'}, 'parentCompany': {'id': None, 'name': None, 'relation': {'id': None, 'typeName': None}}, 'tagOptions': None}\n",
            "{'id': 425, 'name': 'TROS', 'slug': 'tros', 'nameTranslations': ['eng', 'nld'], 'overviewTranslations': [], 'aliases': [], 'country': 'nld', 'primaryCompanyType': 1, 'activeDate': None, 'inactiveDate': None, 'companyType': {'companyTypeId': 1, 'companyTypeName': 'Network'}, 'parentCompany': {'id': None, 'name': None, 'relation': {'id': None, 'typeName': None}}, 'tagOptions': None}\n",
            "{'id': 426, 'name': 'Veronica', 'slug': 'veronica', 'nameTranslations': ['eng', 'nld'], 'overviewTranslations': ['eng', 'nld'], 'aliases': [{'language': 'nld', 'name': 'Veronica Omroep Organisatie (VOO)'}, {'language': 'nld', 'name': 'The Young One'}, {'language': 'eng', 'name': 'Veronica Omroep Organisatie (VOO)'}, {'language': 'eng', 'name': 'The Young One'}], 'country': 'nld', 'primaryCompanyType': 1, 'activeDate': None, 'inactiveDate': None, 'companyType': {'companyTypeId': 1, 'companyTypeName': 'Network'}, 'parentCompany': {'id': None, 'name': None, 'relation': {'id': None, 'typeName': None}}, 'tagOptions': None}\n",
            "{'id': 427, 'name': 'SBS 6', 'slug': 'sbs-6', 'nameTranslations': ['eng'], 'overviewTranslations': [], 'aliases': [], 'country': 'nld', 'primaryCompanyType': 1, 'activeDate': None, 'inactiveDate': None, 'companyType': {'companyTypeId': 1, 'companyTypeName': 'Network'}, 'parentCompany': {'id': None, 'name': None, 'relation': {'id': None, 'typeName': None}}, 'tagOptions': None}\n",
            "{'id': 428, 'name': 'NET 5', 'slug': 'net-5', 'nameTranslations': ['eng'], 'overviewTranslations': [], 'aliases': [], 'country': 'nld', 'primaryCompanyType': 1, 'activeDate': None, 'inactiveDate': None, 'companyType': {'companyTypeId': 1, 'companyTypeName': 'Network'}, 'parentCompany': {'id': None, 'name': None, 'relation': {'id': None, 'typeName': None}}, 'tagOptions': None}\n",
            "{'id': 429, 'name': 'ДТВ', 'slug': 'дтв', 'nameTranslations': ['eng'], 'overviewTranslations': [], 'aliases': [], 'country': 'rus', 'primaryCompanyType': 1, 'activeDate': None, 'inactiveDate': None, 'companyType': {'companyTypeId': 1, 'companyTypeName': 'Network'}, 'parentCompany': {'id': None, 'name': None, 'relation': {'id': None, 'typeName': None}}, 'tagOptions': None}\n",
            "{'id': 430, 'name': 'BET', 'slug': 'bet', 'nameTranslations': ['eng'], 'overviewTranslations': ['eng'], 'aliases': [{'language': 'eng', 'name': 'Black Entertainment Television'}], 'country': 'usa', 'primaryCompanyType': 1, 'activeDate': '1983-07-01', 'inactiveDate': None, 'companyType': {'companyTypeId': 1, 'companyTypeName': 'Network'}, 'parentCompany': {'id': 47784, 'name': 'Paramount Global', 'relation': {'id': None, 'typeName': None}}, 'tagOptions': None}\n",
            "{'id': 431, 'name': 'ORTF', 'slug': 'ortf', 'nameTranslations': ['eng'], 'overviewTranslations': [], 'aliases': [], 'country': 'fra', 'primaryCompanyType': 1, 'activeDate': None, 'inactiveDate': None, 'companyType': {'companyTypeId': 1, 'companyTypeName': 'Network'}, 'parentCompany': {'id': None, 'name': None, 'relation': {'id': None, 'typeName': None}}, 'tagOptions': None}\n",
            "{'id': 432, 'name': 'Fox Business', 'slug': 'fox-business', 'nameTranslations': ['eng'], 'overviewTranslations': [], 'aliases': [], 'country': 'usa', 'primaryCompanyType': 1, 'activeDate': None, 'inactiveDate': None, 'companyType': {'companyTypeId': 1, 'companyTypeName': 'Network'}, 'parentCompany': {'id': None, 'name': None, 'relation': {'id': None, 'typeName': None}}, 'tagOptions': None}\n",
            "{'id': 433, 'name': 'AT-X', 'slug': 'at-x', 'nameTranslations': ['eng'], 'overviewTranslations': [], 'aliases': [], 'country': 'jpn', 'primaryCompanyType': 1, 'activeDate': '2000-06-26', 'inactiveDate': None, 'companyType': {'companyTypeId': 1, 'companyTypeName': 'Network'}, 'parentCompany': {'id': 280, 'name': 'TV Tokyo', 'relation': {'id': None, 'typeName': None}}, 'tagOptions': None}\n",
            "{'id': 434, 'name': 'CMT', 'slug': 'cmt', 'nameTranslations': ['eng'], 'overviewTranslations': [], 'aliases': [{'language': 'eng', 'name': 'Country Music Television'}], 'country': 'usa', 'primaryCompanyType': 1, 'activeDate': '1983-03-05', 'inactiveDate': None, 'companyType': {'companyTypeId': 1, 'companyTypeName': 'Network'}, 'parentCompany': {'id': 47784, 'name': 'Paramount Global', 'relation': {'id': None, 'typeName': None}}, 'tagOptions': None}\n",
            "{'id': 435, 'name': 'Cooking Channel', 'slug': 'cooking-channel', 'nameTranslations': ['eng'], 'overviewTranslations': ['eng'], 'aliases': [], 'country': 'usa', 'primaryCompanyType': 1, 'activeDate': None, 'inactiveDate': None, 'companyType': {'companyTypeId': 1, 'companyTypeName': 'Network'}, 'parentCompany': {'id': None, 'name': None, 'relation': {'id': None, 'typeName': None}}, 'tagOptions': None}\n",
            "{'id': 436, 'name': 'Keshet', 'slug': 'קשת', 'nameTranslations': ['eng', 'heb'], 'overviewTranslations': [], 'aliases': [], 'country': 'isr', 'primaryCompanyType': 1, 'activeDate': None, 'inactiveDate': None, 'companyType': {'companyTypeId': 1, 'companyTypeName': 'Network'}, 'parentCompany': {'id': None, 'name': None, 'relation': {'id': None, 'typeName': None}}, 'tagOptions': None}\n",
            "{'id': 437, 'name': 'Reshet', 'slug': 'reshet', 'nameTranslations': ['eng', 'heb'], 'overviewTranslations': [], 'aliases': [], 'country': 'isr', 'primaryCompanyType': 1, 'activeDate': '1993-11-04', 'inactiveDate': '2017-11-01', 'companyType': {'companyTypeId': 1, 'companyTypeName': 'Network'}, 'parentCompany': {'id': 1468, 'name': 'Channel 13', 'relation': {'id': 2, 'typeName': 'Rebranded As'}}, 'tagOptions': None}\n",
            "{'id': 438, 'name': 'ערוץ 10', 'slug': 'ערוץ-10', 'nameTranslations': ['eng'], 'overviewTranslations': [], 'aliases': [], 'country': 'isr', 'primaryCompanyType': 1, 'activeDate': None, 'inactiveDate': None, 'companyType': {'companyTypeId': 1, 'companyTypeName': 'Network'}, 'parentCompany': {'id': None, 'name': None, 'relation': {'id': None, 'typeName': None}}, 'tagOptions': None}\n",
            "{'id': 439, 'name': 'הערוץ הראשון', 'slug': 'הערוץ-הראשון', 'nameTranslations': ['eng'], 'overviewTranslations': [], 'aliases': [], 'country': 'isr', 'primaryCompanyType': 1, 'activeDate': None, 'inactiveDate': None, 'companyType': {'companyTypeId': 1, 'companyTypeName': 'Network'}, 'parentCompany': {'id': None, 'name': None, 'relation': {'id': None, 'typeName': None}}, 'tagOptions': None}\n",
            "{'id': 440, 'name': 'טלעד', 'slug': 'טלעד', 'nameTranslations': ['eng'], 'overviewTranslations': [], 'aliases': [], 'country': 'isr', 'primaryCompanyType': 1, 'activeDate': None, 'inactiveDate': None, 'companyType': {'companyTypeId': 1, 'companyTypeName': 'Network'}, 'parentCompany': {'id': None, 'name': None, 'relation': {'id': None, 'typeName': None}}, 'tagOptions': None}\n",
            "{'id': 441, 'name': 'HOT', 'slug': 'hot', 'nameTranslations': ['eng'], 'overviewTranslations': [], 'aliases': [], 'country': 'isr', 'primaryCompanyType': 1, 'activeDate': None, 'inactiveDate': None, 'companyType': {'companyTypeId': 1, 'companyTypeName': 'Network'}, 'parentCompany': {'id': None, 'name': None, 'relation': {'id': None, 'typeName': None}}, 'tagOptions': None}\n",
            "{'id': 442, 'name': 'yes', 'slug': 'yes', 'nameTranslations': ['eng'], 'overviewTranslations': [], 'aliases': [], 'country': 'isr', 'primaryCompanyType': 1, 'activeDate': None, 'inactiveDate': None, 'companyType': {'companyTypeId': 1, 'companyTypeName': 'Network'}, 'parentCompany': {'id': None, 'name': None, 'relation': {'id': None, 'typeName': None}}, 'tagOptions': None}\n",
            "{'id': 443, 'name': 'Current TV', 'slug': 'current-tv', 'nameTranslations': ['eng'], 'overviewTranslations': [], 'aliases': [], 'country': 'usa', 'primaryCompanyType': 1, 'activeDate': None, 'inactiveDate': None, 'companyType': {'companyTypeId': 1, 'companyTypeName': 'Network'}, 'parentCompany': {'id': None, 'name': None, 'relation': {'id': None, 'typeName': None}}, 'tagOptions': None}\n",
            "{'id': 444, 'name': 'The Hub', 'slug': 'the-hub', 'nameTranslations': ['eng'], 'overviewTranslations': [], 'aliases': [], 'country': 'usa', 'primaryCompanyType': 1, 'activeDate': None, 'inactiveDate': None, 'companyType': {'companyTypeId': 1, 'companyTypeName': 'Network'}, 'parentCompany': {'id': None, 'name': None, 'relation': {'id': None, 'typeName': None}}, 'tagOptions': None}\n",
            "{'id': 445, 'name': 'Інтер', 'slug': 'інтер', 'nameTranslations': ['eng'], 'overviewTranslations': [], 'aliases': [], 'country': 'ukr', 'primaryCompanyType': 1, 'activeDate': None, 'inactiveDate': None, 'companyType': {'companyTypeId': 1, 'companyTypeName': 'Network'}, 'parentCompany': {'id': None, 'name': None, 'relation': {'id': None, 'typeName': None}}, 'tagOptions': None}\n",
            "{'id': 446, 'name': '1+1', 'slug': '1-1', 'nameTranslations': ['eng'], 'overviewTranslations': [], 'aliases': [], 'country': 'ukr', 'primaryCompanyType': 1, 'activeDate': None, 'inactiveDate': None, 'companyType': {'companyTypeId': 1, 'companyTypeName': 'Network'}, 'parentCompany': {'id': None, 'name': None, 'relation': {'id': None, 'typeName': None}}, 'tagOptions': None}\n",
            "{'id': 447, 'name': 'ICTV', 'slug': 'ictv', 'nameTranslations': ['eng'], 'overviewTranslations': [], 'aliases': [], 'country': 'ukr', 'primaryCompanyType': 1, 'activeDate': None, 'inactiveDate': None, 'companyType': {'companyTypeId': 1, 'companyTypeName': 'Network'}, 'parentCompany': {'id': None, 'name': None, 'relation': {'id': None, 'typeName': None}}, 'tagOptions': None}\n",
            "{'id': 448, 'name': 'Military Channel', 'slug': 'military-channel', 'nameTranslations': ['eng'], 'overviewTranslations': [], 'aliases': [], 'country': 'usa', 'primaryCompanyType': 1, 'activeDate': None, 'inactiveDate': None, 'companyType': {'companyTypeId': 1, 'companyTypeName': 'Network'}, 'parentCompany': {'id': None, 'name': None, 'relation': {'id': None, 'typeName': None}}, 'tagOptions': None}\n",
            "{'id': 449, 'name': 'Звезда', 'slug': 'звезда', 'nameTranslations': ['eng'], 'overviewTranslations': [], 'aliases': [], 'country': 'rus', 'primaryCompanyType': 1, 'activeDate': None, 'inactiveDate': None, 'companyType': {'companyTypeId': 1, 'companyTypeName': 'Network'}, 'parentCompany': {'id': None, 'name': None, 'relation': {'id': None, 'typeName': None}}, 'tagOptions': None}\n",
            "{'id': 450, 'name': 'WealthTV', 'slug': 'wealthtv', 'nameTranslations': ['eng'], 'overviewTranslations': [], 'aliases': [], 'country': 'usa', 'primaryCompanyType': 1, 'activeDate': None, 'inactiveDate': None, 'companyType': {'companyTypeId': 1, 'companyTypeName': 'Network'}, 'parentCompany': {'id': None, 'name': None, 'relation': {'id': None, 'typeName': None}}, 'tagOptions': None}\n",
            "{'id': 451, 'name': 'MTV3', 'slug': 'mtv3', 'nameTranslations': ['eng'], 'overviewTranslations': [], 'aliases': [], 'country': 'fin', 'primaryCompanyType': 1, 'activeDate': None, 'inactiveDate': None, 'companyType': {'companyTypeId': 1, 'companyTypeName': 'Network'}, 'parentCompany': {'id': None, 'name': None, 'relation': {'id': None, 'typeName': None}}, 'tagOptions': None}\n",
            "{'id': 452, 'name': 'Nelonen', 'slug': 'nelonen', 'nameTranslations': ['eng', 'fin'], 'overviewTranslations': [], 'aliases': [], 'country': 'fin', 'primaryCompanyType': 1, 'activeDate': None, 'inactiveDate': None, 'companyType': {'companyTypeId': 1, 'companyTypeName': 'Network'}, 'parentCompany': {'id': None, 'name': None, 'relation': {'id': None, 'typeName': None}}, 'tagOptions': None}\n",
            "{'id': 453, 'name': 'TV3 (NZ) Three', 'slug': 'tv3-nz', 'nameTranslations': ['eng'], 'overviewTranslations': [], 'aliases': [], 'country': 'nzl', 'primaryCompanyType': 1, 'activeDate': '1989-11-26', 'inactiveDate': None, 'companyType': {'companyTypeId': 1, 'companyTypeName': 'Network'}, 'parentCompany': {'id': None, 'name': None, 'relation': {'id': None, 'typeName': None}}, 'tagOptions': None}\n",
            "{'id': 454, 'name': 'TV 2 Zulu', 'slug': 'tv-2-zulu', 'nameTranslations': ['eng'], 'overviewTranslations': [], 'aliases': [], 'country': 'dnk', 'primaryCompanyType': 1, 'activeDate': None, 'inactiveDate': '2023-03-27', 'companyType': {'companyTypeId': 1, 'companyTypeName': 'Network'}, 'parentCompany': {'id': 1349, 'name': 'TV 2 (DK)', 'relation': {'id': None, 'typeName': None}}, 'tagOptions': None}\n",
            "{'id': 455, 'name': 'TV 2 Charlie', 'slug': 'tv-2-charlie', 'nameTranslations': ['eng'], 'overviewTranslations': [], 'aliases': [], 'country': 'dnk', 'primaryCompanyType': 1, 'activeDate': None, 'inactiveDate': None, 'companyType': {'companyTypeId': 1, 'companyTypeName': 'Network'}, 'parentCompany': {'id': None, 'name': None, 'relation': {'id': None, 'typeName': None}}, 'tagOptions': None}\n",
            "{'id': 456, 'name': 'TV3+', 'slug': 'tv3-', 'nameTranslations': ['eng'], 'overviewTranslations': [], 'aliases': [], 'country': 'dnk', 'primaryCompanyType': 1, 'activeDate': None, 'inactiveDate': None, 'companyType': {'companyTypeId': 1, 'companyTypeName': 'Network'}, 'parentCompany': {'id': None, 'name': None, 'relation': {'id': None, 'typeName': None}}, 'tagOptions': None}\n",
            "{'id': 457, 'name': 'TV3 Puls', 'slug': 'tv3-puls', 'nameTranslations': ['eng'], 'overviewTranslations': [], 'aliases': [], 'country': 'dnk', 'primaryCompanyType': 1, 'activeDate': None, 'inactiveDate': None, 'companyType': {'companyTypeId': 1, 'companyTypeName': 'Network'}, 'parentCompany': {'id': None, 'name': None, 'relation': {'id': None, 'typeName': None}}, 'tagOptions': None}\n",
            "{'id': 458, 'name': 'DR2', 'slug': 'dr2', 'nameTranslations': ['eng'], 'overviewTranslations': [], 'aliases': [], 'country': 'dnk', 'primaryCompanyType': 1, 'activeDate': None, 'inactiveDate': None, 'companyType': {'companyTypeId': 1, 'companyTypeName': 'Network'}, 'parentCompany': {'id': None, 'name': None, 'relation': {'id': None, 'typeName': None}}, 'tagOptions': None}\n",
            "{'id': 459, 'name': 'DR K', 'slug': 'dr-k', 'nameTranslations': ['eng'], 'overviewTranslations': [], 'aliases': [], 'country': 'dnk', 'primaryCompanyType': 1, 'activeDate': None, 'inactiveDate': None, 'companyType': {'companyTypeId': 1, 'companyTypeName': 'Network'}, 'parentCompany': {'id': None, 'name': None, 'relation': {'id': None, 'typeName': None}}, 'tagOptions': None}\n",
            "{'id': 460, 'name': 'DR Ramasjang', 'slug': 'dr-ramasjang', 'nameTranslations': ['eng'], 'overviewTranslations': [], 'aliases': [], 'country': 'dnk', 'primaryCompanyType': 1, 'activeDate': None, 'inactiveDate': None, 'companyType': {'companyTypeId': 1, 'companyTypeName': 'Network'}, 'parentCompany': {'id': None, 'name': None, 'relation': {'id': None, 'typeName': None}}, 'tagOptions': None}\n",
            "{'id': 461, 'name': 'Kanal 4 (DK)', 'slug': 'kanal-4-dk', 'nameTranslations': ['eng'], 'overviewTranslations': [], 'aliases': [], 'country': 'dnk', 'primaryCompanyType': 1, 'activeDate': None, 'inactiveDate': None, 'companyType': {'companyTypeId': 1, 'companyTypeName': 'Network'}, 'parentCompany': {'id': None, 'name': None, 'relation': {'id': None, 'typeName': None}}, 'tagOptions': None}\n",
            "{'id': 462, 'name': 'Kanal 5 (DK)', 'slug': 'kanal-5-dk', 'nameTranslations': ['eng'], 'overviewTranslations': [], 'aliases': [], 'country': 'dnk', 'primaryCompanyType': 1, 'activeDate': None, 'inactiveDate': None, 'companyType': {'companyTypeId': 1, 'companyTypeName': 'Network'}, 'parentCompany': {'id': None, 'name': None, 'relation': {'id': None, 'typeName': None}}, 'tagOptions': None}\n",
            "{'id': 463, 'name': \"6'eren\", 'slug': '6eren', 'nameTranslations': ['eng'], 'overviewTranslations': [], 'aliases': [], 'country': 'dnk', 'primaryCompanyType': 1, 'activeDate': None, 'inactiveDate': None, 'companyType': {'companyTypeId': 1, 'companyTypeName': 'Network'}, 'parentCompany': {'id': None, 'name': None, 'relation': {'id': None, 'typeName': None}}, 'tagOptions': None}\n",
            "{'id': 464, 'name': 'dk4', 'slug': 'dk4', 'nameTranslations': ['eng'], 'overviewTranslations': [], 'aliases': [], 'country': 'dnk', 'primaryCompanyType': 1, 'activeDate': None, 'inactiveDate': None, 'companyType': {'companyTypeId': 1, 'companyTypeName': 'Network'}, 'parentCompany': {'id': None, 'name': None, 'relation': {'id': None, 'typeName': None}}, 'tagOptions': None}\n",
            "{'id': 465, 'name': 'Magyar Televízió', 'slug': 'magyar-televizio', 'nameTranslations': ['eng', 'hun'], 'overviewTranslations': ['hun'], 'aliases': [], 'country': 'hun', 'primaryCompanyType': 1, 'activeDate': None, 'inactiveDate': None, 'companyType': {'companyTypeId': 1, 'companyTypeName': 'Network'}, 'parentCompany': {'id': None, 'name': None, 'relation': {'id': None, 'typeName': None}}, 'tagOptions': None}\n",
            "{'id': 466, 'name': 'Outdoor Channel', 'slug': 'outdoor-channel', 'nameTranslations': ['eng'], 'overviewTranslations': [], 'aliases': [], 'country': 'usa', 'primaryCompanyType': 1, 'activeDate': None, 'inactiveDate': None, 'companyType': {'companyTypeId': 1, 'companyTypeName': 'Network'}, 'parentCompany': {'id': None, 'name': None, 'relation': {'id': None, 'typeName': None}}, 'tagOptions': None}\n",
            "{'id': 467, 'name': 'The Sportsman Channel', 'slug': 'the-sportsman-channel', 'nameTranslations': ['eng'], 'overviewTranslations': [], 'aliases': [], 'country': 'usa', 'primaryCompanyType': 1, 'activeDate': None, 'inactiveDate': None, 'companyType': {'companyTypeId': 1, 'companyTypeName': 'Network'}, 'parentCompany': {'id': None, 'name': None, 'relation': {'id': None, 'typeName': None}}, 'tagOptions': None}\n",
            "{'id': 468, 'name': 'ATV (AT)', 'slug': 'atv-at', 'nameTranslations': ['eng'], 'overviewTranslations': [], 'aliases': [], 'country': 'aut', 'primaryCompanyType': 1, 'activeDate': None, 'inactiveDate': None, 'companyType': {'companyTypeId': 1, 'companyTypeName': 'Network'}, 'parentCompany': {'id': None, 'name': None, 'relation': {'id': None, 'typeName': None}}, 'tagOptions': None}\n",
            "{'id': 469, 'name': 'Puls 4', 'slug': 'puls-4', 'nameTranslations': ['eng'], 'overviewTranslations': [], 'aliases': [], 'country': 'aut', 'primaryCompanyType': 1, 'activeDate': None, 'inactiveDate': None, 'companyType': {'companyTypeId': 1, 'companyTypeName': 'Network'}, 'parentCompany': {'id': None, 'name': None, 'relation': {'id': None, 'typeName': None}}, 'tagOptions': None}\n",
            "{'id': 470, 'name': 'Servus TV', 'slug': 'servus-tv', 'nameTranslations': ['eng'], 'overviewTranslations': [], 'aliases': [], 'country': 'aut', 'primaryCompanyType': 1, 'activeDate': None, 'inactiveDate': None, 'companyType': {'companyTypeId': 1, 'companyTypeName': 'Network'}, 'parentCompany': {'id': None, 'name': None, 'relation': {'id': None, 'typeName': None}}, 'tagOptions': None}\n",
            "{'id': 471, 'name': 'LifeStyle', 'slug': 'lifestyle', 'nameTranslations': ['eng'], 'overviewTranslations': [], 'aliases': [], 'country': 'aus', 'primaryCompanyType': 1, 'activeDate': None, 'inactiveDate': None, 'companyType': {'companyTypeId': 1, 'companyTypeName': 'Network'}, 'parentCompany': {'id': None, 'name': None, 'relation': {'id': None, 'typeName': None}}, 'tagOptions': None}\n",
            "{'id': 472, 'name': 'SVT1', 'slug': 'svt1', 'nameTranslations': ['eng'], 'overviewTranslations': [], 'aliases': [], 'country': 'swe', 'primaryCompanyType': 1, 'activeDate': None, 'inactiveDate': None, 'companyType': {'companyTypeId': 1, 'companyTypeName': 'Network'}, 'parentCompany': {'id': None, 'name': None, 'relation': {'id': None, 'typeName': None}}, 'tagOptions': None}\n",
            "{'id': 473, 'name': 'SVT2', 'slug': 'svt2', 'nameTranslations': ['eng'], 'overviewTranslations': [], 'aliases': [], 'country': 'swe', 'primaryCompanyType': 1, 'activeDate': None, 'inactiveDate': None, 'companyType': {'companyTypeId': 1, 'companyTypeName': 'Network'}, 'parentCompany': {'id': None, 'name': None, 'relation': {'id': None, 'typeName': None}}, 'tagOptions': None}\n",
            "{'id': 474, 'name': 'Kunskapskanalen', 'slug': 'kunskapskanalen', 'nameTranslations': ['eng'], 'overviewTranslations': [], 'aliases': [{'language': 'eng', 'name': 'SVTK'}], 'country': 'swe', 'primaryCompanyType': 1, 'activeDate': None, 'inactiveDate': None, 'companyType': {'companyTypeId': 1, 'companyTypeName': 'Network'}, 'parentCompany': {'id': None, 'name': None, 'relation': {'id': None, 'typeName': None}}, 'tagOptions': None}\n",
            "{'id': 475, 'name': 'SVT24', 'slug': 'svt24', 'nameTranslations': ['eng'], 'overviewTranslations': [], 'aliases': [], 'country': 'swe', 'primaryCompanyType': 1, 'activeDate': None, 'inactiveDate': None, 'companyType': {'companyTypeId': 1, 'companyTypeName': 'Network'}, 'parentCompany': {'id': None, 'name': None, 'relation': {'id': None, 'typeName': None}}, 'tagOptions': None}\n",
            "{'id': 476, 'name': 'SVT Barn', 'slug': 'svtb', 'nameTranslations': ['eng'], 'overviewTranslations': [], 'aliases': [], 'country': 'swe', 'primaryCompanyType': 1, 'activeDate': None, 'inactiveDate': None, 'companyType': {'companyTypeId': 1, 'companyTypeName': 'Network'}, 'parentCompany': {'id': None, 'name': None, 'relation': {'id': None, 'typeName': None}}, 'tagOptions': None}\n",
            "{'id': 477, 'name': 'TV11', 'slug': 'tv11', 'nameTranslations': ['eng'], 'overviewTranslations': [], 'aliases': [], 'country': 'swe', 'primaryCompanyType': 1, 'activeDate': None, 'inactiveDate': None, 'companyType': {'companyTypeId': 1, 'companyTypeName': 'Network'}, 'parentCompany': {'id': None, 'name': None, 'relation': {'id': None, 'typeName': None}}, 'tagOptions': None}\n",
            "{'id': 478, 'name': 'TV4 Plus', 'slug': 'tv4-plus', 'nameTranslations': ['eng'], 'overviewTranslations': [], 'aliases': [], 'country': 'swe', 'primaryCompanyType': 1, 'activeDate': None, 'inactiveDate': None, 'companyType': {'companyTypeId': 1, 'companyTypeName': 'Network'}, 'parentCompany': {'id': None, 'name': None, 'relation': {'id': None, 'typeName': None}}, 'tagOptions': None}\n",
            "{'id': 479, 'name': 'TV4 Guld', 'slug': 'tv4-guld', 'nameTranslations': ['eng'], 'overviewTranslations': [], 'aliases': [], 'country': 'swe', 'primaryCompanyType': 1, 'activeDate': None, 'inactiveDate': None, 'companyType': {'companyTypeId': 1, 'companyTypeName': 'Network'}, 'parentCompany': {'id': None, 'name': None, 'relation': {'id': None, 'typeName': None}}, 'tagOptions': None}\n",
            "{'id': 480, 'name': 'TV4 Fakta', 'slug': 'tv4-fakta', 'nameTranslations': ['eng'], 'overviewTranslations': [], 'aliases': [], 'country': 'swe', 'primaryCompanyType': 1, 'activeDate': None, 'inactiveDate': None, 'companyType': {'companyTypeId': 1, 'companyTypeName': 'Network'}, 'parentCompany': {'id': None, 'name': None, 'relation': {'id': None, 'typeName': None}}, 'tagOptions': None}\n",
            "{'id': 481, 'name': 'TV4 Komedi', 'slug': 'tv4-komedi', 'nameTranslations': ['eng'], 'overviewTranslations': [], 'aliases': [], 'country': 'swe', 'primaryCompanyType': 1, 'activeDate': None, 'inactiveDate': None, 'companyType': {'companyTypeId': 1, 'companyTypeName': 'Network'}, 'parentCompany': {'id': None, 'name': None, 'relation': {'id': None, 'typeName': None}}, 'tagOptions': None}\n",
            "{'id': 482, 'name': 'TV4 Science Fiction', 'slug': 'tv4-science-fiction', 'nameTranslations': ['eng'], 'overviewTranslations': [], 'aliases': [], 'country': 'swe', 'primaryCompanyType': 1, 'activeDate': None, 'inactiveDate': None, 'companyType': {'companyTypeId': 1, 'companyTypeName': 'Network'}, 'parentCompany': {'id': None, 'name': None, 'relation': {'id': None, 'typeName': None}}, 'tagOptions': None}\n",
            "{'id': 483, 'name': 'TV3 (SE)', 'slug': 'tv3-se', 'nameTranslations': ['eng'], 'overviewTranslations': [], 'aliases': [], 'country': 'swe', 'primaryCompanyType': 1, 'activeDate': None, 'inactiveDate': None, 'companyType': {'companyTypeId': 1, 'companyTypeName': 'Network'}, 'parentCompany': {'id': None, 'name': None, 'relation': {'id': None, 'typeName': None}}, 'tagOptions': None}\n",
            "{'id': 484, 'name': 'TV6', 'slug': 'tv6', 'nameTranslations': ['eng'], 'overviewTranslations': [], 'aliases': [], 'country': 'swe', 'primaryCompanyType': 1, 'activeDate': None, 'inactiveDate': None, 'companyType': {'companyTypeId': 1, 'companyTypeName': 'Network'}, 'parentCompany': {'id': None, 'name': None, 'relation': {'id': None, 'typeName': None}}, 'tagOptions': None}\n",
            "{'id': 485, 'name': 'Sjuan', 'slug': 'tv7-se', 'nameTranslations': ['eng'], 'overviewTranslations': [], 'aliases': [], 'country': 'swe', 'primaryCompanyType': 1, 'activeDate': None, 'inactiveDate': None, 'companyType': {'companyTypeId': 1, 'companyTypeName': 'Network'}, 'parentCompany': {'id': 375, 'name': 'TV4', 'relation': {'id': None, 'typeName': None}}, 'tagOptions': None}\n",
            "{'id': 486, 'name': 'TV8 (IT)', 'slug': 'tv8-it', 'nameTranslations': ['eng'], 'overviewTranslations': [], 'aliases': [], 'country': 'ita', 'primaryCompanyType': 1, 'activeDate': None, 'inactiveDate': None, 'companyType': {'companyTypeId': 1, 'companyTypeName': 'Network'}, 'parentCompany': {'id': None, 'name': None, 'relation': {'id': None, 'typeName': None}}, 'tagOptions': None}\n",
            "{'id': 487, 'name': 'TV8 (SE)', 'slug': 'tv8-se', 'nameTranslations': ['eng'], 'overviewTranslations': [], 'aliases': [], 'country': 'swe', 'primaryCompanyType': 1, 'activeDate': None, 'inactiveDate': None, 'companyType': {'companyTypeId': 1, 'companyTypeName': 'Network'}, 'parentCompany': {'id': None, 'name': None, 'relation': {'id': None, 'typeName': None}}, 'tagOptions': None}\n",
            "{'id': 488, 'name': 'HDNet', 'slug': 'hdnet', 'nameTranslations': ['eng'], 'overviewTranslations': [], 'aliases': [], 'country': 'usa', 'primaryCompanyType': 1, 'activeDate': None, 'inactiveDate': None, 'companyType': {'companyTypeId': 1, 'companyTypeName': 'Network'}, 'parentCompany': {'id': None, 'name': None, 'relation': {'id': None, 'typeName': None}}, 'tagOptions': None}\n",
            "{'id': 489, 'name': 'JIM', 'slug': 'jim', 'nameTranslations': ['eng'], 'overviewTranslations': [], 'aliases': [], 'country': 'fin', 'primaryCompanyType': 1, 'activeDate': None, 'inactiveDate': None, 'companyType': {'companyTypeId': 1, 'companyTypeName': 'Network'}, 'parentCompany': {'id': None, 'name': None, 'relation': {'id': None, 'typeName': None}}, 'tagOptions': None}\n",
            "{'id': 490, 'name': 'SuoimiTV', 'slug': 'suoimitv', 'nameTranslations': ['eng'], 'overviewTranslations': [], 'aliases': [], 'country': 'fin', 'primaryCompanyType': 1, 'activeDate': None, 'inactiveDate': None, 'companyType': {'companyTypeId': 1, 'companyTypeName': 'Network'}, 'parentCompany': {'id': None, 'name': None, 'relation': {'id': None, 'typeName': None}}, 'tagOptions': None}\n",
            "{'id': 491, 'name': 'Sub', 'slug': 'sub', 'nameTranslations': ['eng'], 'overviewTranslations': [], 'aliases': [], 'country': 'fin', 'primaryCompanyType': 1, 'activeDate': None, 'inactiveDate': None, 'companyType': {'companyTypeId': 1, 'companyTypeName': 'Network'}, 'parentCompany': {'id': None, 'name': None, 'relation': {'id': None, 'typeName': None}}, 'tagOptions': None}\n",
            "{'id': 492, 'name': 'MoonTV', 'slug': 'moontv', 'nameTranslations': ['eng'], 'overviewTranslations': [], 'aliases': [], 'country': 'fin', 'primaryCompanyType': 1, 'activeDate': None, 'inactiveDate': None, 'companyType': {'companyTypeId': 1, 'companyTypeName': 'Network'}, 'parentCompany': {'id': None, 'name': None, 'relation': {'id': None, 'typeName': None}}, 'tagOptions': None}\n",
            "{'id': 493, 'name': 'ReelzChannel', 'slug': 'reelzchannel', 'nameTranslations': ['eng'], 'overviewTranslations': [], 'aliases': [], 'country': 'usa', 'primaryCompanyType': 1, 'activeDate': None, 'inactiveDate': None, 'companyType': {'companyTypeId': 1, 'companyTypeName': 'Network'}, 'parentCompany': {'id': None, 'name': None, 'relation': {'id': None, 'typeName': None}}, 'tagOptions': None}\n",
            "{'id': 494, 'name': 'BYUtv', 'slug': 'byu-television', 'nameTranslations': ['eng'], 'overviewTranslations': [], 'aliases': [{'language': 'eng', 'name': 'BYU Television'}], 'country': 'usa', 'primaryCompanyType': 1, 'activeDate': None, 'inactiveDate': None, 'companyType': {'companyTypeId': 1, 'companyTypeName': 'Network'}, 'parentCompany': {'id': None, 'name': None, 'relation': {'id': None, 'typeName': None}}, 'tagOptions': None}\n",
            "{'id': 495, 'name': 'DMAX (DE)', 'slug': 'dmax-de', 'nameTranslations': ['eng'], 'overviewTranslations': [], 'aliases': [], 'country': 'deu', 'primaryCompanyType': 1, 'activeDate': None, 'inactiveDate': None, 'companyType': {'companyTypeId': 1, 'companyTypeName': 'Network'}, 'parentCompany': {'id': None, 'name': None, 'relation': {'id': None, 'typeName': None}}, 'tagOptions': None}\n",
            "{'id': 496, 'name': 'OLN', 'slug': 'oln', 'nameTranslations': ['eng'], 'overviewTranslations': [], 'aliases': [{'language': 'eng', 'name': 'Outdoor Life Network'}], 'country': 'can', 'primaryCompanyType': 1, 'activeDate': '1993-10-17', 'inactiveDate': None, 'companyType': {'companyTypeId': 1, 'companyTypeName': 'Network'}, 'parentCompany': {'id': 36604, 'name': 'Rogers Media', 'relation': {'id': None, 'typeName': None}}, 'tagOptions': None}\n",
            "{'id': 497, 'name': 'Action', 'slug': 'action', 'nameTranslations': ['eng'], 'overviewTranslations': [], 'aliases': [], 'country': 'can', 'primaryCompanyType': 1, 'activeDate': None, 'inactiveDate': None, 'companyType': {'companyTypeId': 1, 'companyTypeName': 'Network'}, 'parentCompany': {'id': None, 'name': None, 'relation': {'id': None, 'typeName': None}}, 'tagOptions': None}\n",
            "{'id': 498, 'name': 'Rai 1', 'slug': 'rai-1', 'nameTranslations': ['eng', 'ita'], 'overviewTranslations': [], 'aliases': [{'language': 'ita', 'name': 'Rai 1 HD'}], 'country': 'ita', 'primaryCompanyType': 1, 'activeDate': None, 'inactiveDate': None, 'companyType': {'companyTypeId': 1, 'companyTypeName': 'Network'}, 'parentCompany': {'id': None, 'name': None, 'relation': {'id': None, 'typeName': None}}, 'tagOptions': None}\n",
            "{'id': 499, 'name': 'Rai 2', 'slug': 'rai-2', 'nameTranslations': ['eng', 'ita'], 'overviewTranslations': [], 'aliases': [{'language': 'ita', 'name': 'Rai 2 HD'}], 'country': 'ita', 'primaryCompanyType': 1, 'activeDate': None, 'inactiveDate': None, 'companyType': {'companyTypeId': 1, 'companyTypeName': 'Network'}, 'parentCompany': {'id': None, 'name': None, 'relation': {'id': None, 'typeName': None}}, 'tagOptions': None}\n",
            "{'id': 500, 'name': 'Rai 3', 'slug': 'rai-3', 'nameTranslations': ['eng', 'ita'], 'overviewTranslations': [], 'aliases': [{'language': 'ita', 'name': 'Rai 3 HD'}], 'country': 'ita', 'primaryCompanyType': 1, 'activeDate': None, 'inactiveDate': None, 'companyType': {'companyTypeId': 1, 'companyTypeName': 'Network'}, 'parentCompany': {'id': None, 'name': None, 'relation': {'id': None, 'typeName': None}}, 'tagOptions': None}\n",
            "{'id': 501, 'name': 'Rete 4', 'slug': 'rete-4', 'nameTranslations': ['eng'], 'overviewTranslations': [], 'aliases': [], 'country': 'ita', 'primaryCompanyType': 1, 'activeDate': None, 'inactiveDate': None, 'companyType': {'companyTypeId': 1, 'companyTypeName': 'Network'}, 'parentCompany': {'id': None, 'name': None, 'relation': {'id': None, 'typeName': None}}, 'tagOptions': None}\n",
            "{'id': 502, 'name': 'Italia 1', 'slug': 'italia-1', 'nameTranslations': ['eng'], 'overviewTranslations': [], 'aliases': [], 'country': 'ita', 'primaryCompanyType': 1, 'activeDate': None, 'inactiveDate': None, 'companyType': {'companyTypeId': 1, 'companyTypeName': 'Network'}, 'parentCompany': {'id': None, 'name': None, 'relation': {'id': None, 'typeName': None}}, 'tagOptions': None}\n",
            "{'id': 503, 'name': 'Joi', 'slug': 'joi', 'nameTranslations': ['eng'], 'overviewTranslations': [], 'aliases': [], 'country': 'ita', 'primaryCompanyType': 1, 'activeDate': None, 'inactiveDate': None, 'companyType': {'companyTypeId': 1, 'companyTypeName': 'Network'}, 'parentCompany': {'id': None, 'name': None, 'relation': {'id': None, 'typeName': None}}, 'tagOptions': None}\n",
            "{'id': 504, 'name': 'Mya', 'slug': 'mya', 'nameTranslations': ['eng'], 'overviewTranslations': [], 'aliases': [], 'country': 'ita', 'primaryCompanyType': 1, 'activeDate': None, 'inactiveDate': None, 'companyType': {'companyTypeId': 1, 'companyTypeName': 'Network'}, 'parentCompany': {'id': None, 'name': None, 'relation': {'id': None, 'typeName': None}}, 'tagOptions': None}\n",
            "{'id': 505, 'name': 'Steel', 'slug': 'steel', 'nameTranslations': ['eng'], 'overviewTranslations': [], 'aliases': [], 'country': 'ita', 'primaryCompanyType': 1, 'activeDate': None, 'inactiveDate': None, 'companyType': {'companyTypeId': 1, 'companyTypeName': 'Network'}, 'parentCompany': {'id': None, 'name': None, 'relation': {'id': None, 'typeName': None}}, 'tagOptions': None}\n"
          ]
        }
      ]
    },
    {
      "cell_type": "markdown",
      "source": [
        "# Задание 5."
      ],
      "metadata": {
        "id": "u3LTqn3TYrzn"
      }
    },
    {
      "cell_type": "markdown",
      "source": [
        "**Работа с API geopy**\n",
        "\n",
        "Используя геокодер для OpenStreetMap Nominatim, задать адрес любого здания в вашем городе. Далее:\n",
        "1. Вывести полную информацию о введённом адресе полученную из API;\n",
        "2. На новой строке вывести ширину и долготу для заданного адреса;\n",
        "3. На новой строке отобразить необработанные данные, полученные из API."
      ],
      "metadata": {
        "id": "DbkhBYpNYt97"
      }
    },
    {
      "cell_type": "code",
      "source": [
        "!pip install geopy"
      ],
      "metadata": {
        "colab": {
          "base_uri": "https://localhost:8080/"
        },
        "id": "pJzzqq1omuDh",
        "outputId": "2e4541f1-67c4-4ad8-80e8-52f30fcf5cd5"
      },
      "execution_count": null,
      "outputs": [
        {
          "output_type": "stream",
          "name": "stdout",
          "text": [
            "Requirement already satisfied: geopy in /usr/local/lib/python3.10/dist-packages (2.3.0)\n",
            "Requirement already satisfied: geographiclib<3,>=1.52 in /usr/local/lib/python3.10/dist-packages (from geopy) (2.0)\n"
          ]
        }
      ]
    },
    {
      "cell_type": "code",
      "source": [
        "from geopy.geocoders import Nominatim as nomi\n",
        "geolocator = nomi(user_agent=\"test\")\n",
        "location = geolocator.geocode(\"ярославль фрунзе\")\n",
        "print(location.address)\n",
        "\n",
        "print((location.latitude, location.longitude))\n",
        "print(location.raw)"
      ],
      "metadata": {
        "colab": {
          "base_uri": "https://localhost:8080/"
        },
        "id": "dUIQqsJbmvdF",
        "outputId": "a5e5a5ca-1965-43c3-9c72-bb1e2a67d839"
      },
      "execution_count": null,
      "outputs": [
        {
          "output_type": "stream",
          "name": "stdout",
          "text": [
            "проспект Фрунзе, Мирный, Фрунзенский район, Ярославль, городской округ Ярославль, Ярославская область, Центральный федеральный округ, 150000, Россия\n",
            "(57.5844302, 39.9076434)\n",
            "{'place_id': 207350180, 'licence': 'Data © OpenStreetMap contributors, ODbL 1.0. http://osm.org/copyright', 'osm_type': 'way', 'osm_id': 60117744, 'lat': '57.5844302', 'lon': '39.9076434', 'class': 'highway', 'type': 'secondary', 'place_rank': 26, 'importance': 0.10000999999999993, 'addresstype': 'road', 'name': 'проспект Фрунзе', 'display_name': 'проспект Фрунзе, Мирный, Фрунзенский район, Ярославль, городской округ Ярославль, Ярославская область, Центральный федеральный округ, 150000, Россия', 'boundingbox': ['57.5839838', '57.5861860', '39.9055492', '39.9081735']}\n"
          ]
        }
      ]
    },
    {
      "cell_type": "code",
      "source": [
        "# взято целиком с https://geopy.readthedocs.io/en/stable/index.html"
      ],
      "metadata": {
        "id": "BZIgLjsSryBT"
      },
      "execution_count": null,
      "outputs": []
    },
    {
      "cell_type": "markdown",
      "source": [
        "![image.png](data:image/png;base64,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)"
      ],
      "metadata": {
        "id": "0oglDSITrvLK"
      }
    }
  ]
}