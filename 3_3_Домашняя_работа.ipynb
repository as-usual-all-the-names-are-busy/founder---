{
  "nbformat": 4,
  "nbformat_minor": 0,
  "metadata": {
    "colab": {
      "provenance": []
    },
    "kernelspec": {
      "name": "python3",
      "display_name": "Python 3"
    },
    "language_info": {
      "name": "python"
    }
  },
  "cells": [
    {
      "cell_type": "markdown",
      "source": [
        "## Задача 1. Собачий возраст."
      ],
      "metadata": {
        "id": "3ZTqsA3QAdNT"
      }
    },
    {
      "cell_type": "markdown",
      "source": [
        "**Условие.** Считается, что один год, прожитый собакой, эквивалентен семи человеческим годам. При этом зачастую не учитывается, что собаки становятся\n",
        "абсолютно взрослыми уже к двум годам. Таким образом, многие предпочитают каждый из первых двух лет жизни собаки приравнивать к 10,5 года человеческой жизни, а все последующие – к четырем.\n",
        "Напишите программу, которая будет переводить человеческий возраст в  собачий с  учетом указанной выше логики. Убедитесь, что программа\n",
        "корректно работает при пересчете возраста собаки меньше и больше двух лет.\n"
      ],
      "metadata": {
        "id": "h0qekVbbAdNU"
      }
    },
    {
      "cell_type": "code",
      "source": [
        "# свое решение\n",
        "\n",
        "n = int(input(\"Введите человеческий возраст(целое число лет): \"))\n",
        "\n",
        "# первые 2 собачьих года считаем как 10,5 человеческих\n",
        "# последующие как 4 человеческих\n",
        "\n",
        "def convert(n):\n",
        "    if n <= 21:\n",
        "        print(int(n / 10.5), \"- возраст собаки\")\n",
        "    else:\n",
        "        print(int(2 + ((n - 21) / 4)), \"- возраст собаки\")\n",
        "\n",
        "convert(n)\n",
        "\n",
        "# на выход целое число лет, т.к. в условие нет примера или формата выходных данных"
      ],
      "metadata": {
        "id": "4U_MTic1AdNU",
        "colab": {
          "base_uri": "https://localhost:8080/"
        },
        "outputId": "e7e608c1-b99a-416c-99fd-fc1cf04c8f0a"
      },
      "execution_count": null,
      "outputs": [
        {
          "output_type": "stream",
          "name": "stdout",
          "text": [
            "Введите человеческий возраст(целое число лет): 31\n",
            "4 - возраст собаки\n"
          ]
        }
      ]
    },
    {
      "cell_type": "markdown",
      "source": [
        "## Задача 2. Какого цвета клетка?"
      ],
      "metadata": {
        "id": "WOelnSN-AdVJ"
      }
    },
    {
      "cell_type": "markdown",
      "source": [
        "**Условие.** Клетки на шахматной доске идентифицируются буквой и цифрой. Буква определяет положение клетки по горизонтали, а цифра – по вертикали, как показано на рисунке.\n",
        "\n",
        "![image.png](data:image/png;base64,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)\n",
        "\n",
        "Ваша программа должна запрашивать у пользователя координаты клетки. Используйте условное выражение для определения того, с какой клетки – белой или черной – начинается столбец. Затем при помощи обычной арифметики необходимо определить цвет конкретной клетки. Например, если пользователь ввел a1, программа должна определить, что клетка\n",
        "с этими координатами черная. Если d5 – белая."
      ],
      "metadata": {
        "id": "3eGjbOxrAdVK"
      }
    },
    {
      "cell_type": "code",
      "source": [
        "# свое решение\n",
        "coord = input('Введите координаты, интересуемой клетки: ')\n",
        "\n",
        "start_black = ['a', 'c', 'e', 'g']\n",
        "start_white = ['b', 'd', 'f', 'h']\n",
        "\n",
        "def black_and_white(coord):\n",
        "    coord_list = list(coord)\n",
        "\n",
        "    if coord_list[0] in start_black:\n",
        "        print(f'{coord} - черная клетка' if int(coord_list[1]) % 2 != 0 else f'{coord} - белая клетка')\n",
        "    elif coord_list[0] in start_white:\n",
        "        print(f'{coord} - черная клетка' if int(coord_list[1]) % 2 == 0 else f'{coord} - белая клетка')\n",
        "\n",
        "black_and_white(coord)\n"
      ],
      "metadata": {
        "id": "dJYXdZOmAdVK",
        "colab": {
          "base_uri": "https://localhost:8080/"
        },
        "outputId": "60804090-6173-472d-eb54-ef967c0b4096"
      },
      "execution_count": null,
      "outputs": [
        {
          "output_type": "stream",
          "name": "stdout",
          "text": [
            "Введите координаты, интересуемой клетки: g4\n",
            "g4 - белая клетка\n"
          ]
        }
      ]
    },
    {
      "cell_type": "markdown",
      "source": [
        "## Задача 3. Игра Fizz-Buzz."
      ],
      "metadata": {
        "id": "XOyY1qnfAc8A"
      }
    },
    {
      "cell_type": "markdown",
      "source": [
        "**Условие.** Fizz-Buzz  – это известная игра, помогающая детям освоить в  игровой форме правила деления. Участники садятся в круг, чтобы игра теоретически могла продолжаться бесконечно. Первый игрок говорит «Один» и передает ход тому, кто слева. Каждый следующий игрок должен мысленно прибавить к предыдущему числу единицу и произнести либо его, либо одно из ключевых слов: Fizz, если число без остатка делится на три, или Buzz, если на пять. Если соблюдаются оба этих условия, он произносит Fizz-Buzz. Игрок, не сумевший сказать правильное слово, выбывает из игры. Последний оставшийся игрок признается победителем.\n",
        "Разработайте программу, реализующую алгоритм игры Fizz-Buzz применительно к  первым 100 числам. Каждый следующий ответ должен отображаться на новой строке."
      ],
      "metadata": {
        "id": "KxclOyAZAc8B"
      }
    },
    {
      "cell_type": "code",
      "source": [
        "# свое решение\n",
        "counter = 1\n",
        "\n",
        "def game_Fizz_Buzz(counter):\n",
        "    while counter != 101:\n",
        "        if counter % 3 == 0 and counter % 5 == 0:\n",
        "            print('Fizz-Buzz')\n",
        "        elif counter % 3 == 0 and counter % 5 != 0:\n",
        "            print('Fizz')\n",
        "        elif counter % 3 != 0 and counter % 5 == 0:\n",
        "            print('Buzz')\n",
        "        else:\n",
        "          print(counter)\n",
        "        counter = counter + 1\n",
        "\n",
        "game_Fizz_Buzz(counter)"
      ],
      "metadata": {
        "id": "Ju8EWcQ7Ac8C",
        "colab": {
          "base_uri": "https://localhost:8080/"
        },
        "outputId": "6c539f69-cc13-46d8-83b2-993aca87611f"
      },
      "execution_count": null,
      "outputs": [
        {
          "output_type": "stream",
          "name": "stdout",
          "text": [
            "1\n",
            "2\n",
            "Fizz\n",
            "4\n",
            "Buzz\n",
            "Fizz\n",
            "7\n",
            "8\n",
            "Fizz\n",
            "Buzz\n",
            "11\n",
            "Fizz\n",
            "13\n",
            "14\n",
            "Fizz-Buzz\n",
            "16\n",
            "17\n",
            "Fizz\n",
            "19\n",
            "Buzz\n",
            "Fizz\n",
            "22\n",
            "23\n",
            "Fizz\n",
            "Buzz\n",
            "26\n",
            "Fizz\n",
            "28\n",
            "29\n",
            "Fizz-Buzz\n",
            "31\n",
            "32\n",
            "Fizz\n",
            "34\n",
            "Buzz\n",
            "Fizz\n",
            "37\n",
            "38\n",
            "Fizz\n",
            "Buzz\n",
            "41\n",
            "Fizz\n",
            "43\n",
            "44\n",
            "Fizz-Buzz\n",
            "46\n",
            "47\n",
            "Fizz\n",
            "49\n",
            "Buzz\n",
            "Fizz\n",
            "52\n",
            "53\n",
            "Fizz\n",
            "Buzz\n",
            "56\n",
            "Fizz\n",
            "58\n",
            "59\n",
            "Fizz-Buzz\n",
            "61\n",
            "62\n",
            "Fizz\n",
            "64\n",
            "Buzz\n",
            "Fizz\n",
            "67\n",
            "68\n",
            "Fizz\n",
            "Buzz\n",
            "71\n",
            "Fizz\n",
            "73\n",
            "74\n",
            "Fizz-Buzz\n",
            "76\n",
            "77\n",
            "Fizz\n",
            "79\n",
            "Buzz\n",
            "Fizz\n",
            "82\n",
            "83\n",
            "Fizz\n",
            "Buzz\n",
            "86\n",
            "Fizz\n",
            "88\n",
            "89\n",
            "Fizz-Buzz\n",
            "91\n",
            "92\n",
            "Fizz\n",
            "94\n",
            "Buzz\n",
            "Fizz\n",
            "97\n",
            "98\n",
            "Fizz\n",
            "Buzz\n"
          ]
        }
      ]
    },
    {
      "cell_type": "markdown",
      "source": [
        "## Задача 4. Избавляемся от дубликатов."
      ],
      "metadata": {
        "id": "wgQ1jjSFAcx4"
      }
    },
    {
      "cell_type": "markdown",
      "source": [
        "**Условие.** В данном упражнении вам предстоит разработать программу, в которой у  пользователя будет запрошен список слов, пока он не оставит строку ввода пустой. После этого на экране должны быть показаны слова, введенные пользователем, но без повторов, – каждое по одному разу. При этом\n",
        "слова должны быть отображены в том же порядке, в  каком их вводили с клавиатуры. Например, если пользователь на запрос программы введет следующий список слов:\n",
        "```\n",
        "first\n",
        "second\n",
        "first\n",
        "third\n",
        "second\n",
        "```\n",
        "программа должна вывести:\n",
        "```\n",
        "first\n",
        "second\n",
        "third\n",
        "```"
      ],
      "metadata": {
        "id": "92iWI-qmAcx4"
      }
    },
    {
      "cell_type": "code",
      "source": [
        "# свое решение\n",
        "s = input('Введи слово(оставь пустым чтобы закончить): ')\n",
        "ls = []\n",
        "\n",
        "while s != '':\n",
        "    if s not in ls:\n",
        "        ls.append(s)\n",
        "        s = input('Введи слово(оставь пустым чтобы закончить): ')\n",
        "    elif s in ls:\n",
        "        s = input('Введи слово(оставь пустым чтобы закончить): ')\n",
        "\n",
        "for i in ls:\n",
        "    print(i)\n"
      ],
      "metadata": {
        "id": "5AwCxxTHAcx5",
        "colab": {
          "base_uri": "https://localhost:8080/"
        },
        "outputId": "90df883d-2fab-4e3d-9ee3-1a81d47e5efa"
      },
      "execution_count": null,
      "outputs": [
        {
          "output_type": "stream",
          "name": "stdout",
          "text": [
            "Введи слово(оставь пустым чтобы закончить): qwer\n",
            "Введи слово(оставь пустым чтобы закончить): qwe\n",
            "Введи слово(оставь пустым чтобы закончить): qwer\n",
            "Введи слово(оставь пустым чтобы закончить): qw\n",
            "Введи слово(оставь пустым чтобы закончить): q\n",
            "Введи слово(оставь пустым чтобы закончить): w\n",
            "Введи слово(оставь пустым чтобы закончить): w\n",
            "Введи слово(оставь пустым чтобы закончить): e\n",
            "Введи слово(оставь пустым чтобы закончить): wertyu\n",
            "Введи слово(оставь пустым чтобы закончить): \n",
            "qwer\n",
            "qwe\n",
            "qw\n",
            "q\n",
            "w\n",
            "e\n",
            "wertyu\n"
          ]
        }
      ]
    },
    {
      "cell_type": "markdown",
      "source": [
        "## Задача 5. Ниже и выше среднего."
      ],
      "metadata": {
        "id": "AbSoL3XYQacd"
      }
    },
    {
      "cell_type": "markdown",
      "source": [
        "**Условие.** Напишите программу, которая будет запрашивать у  пользователя числа, пока не будет введена пустая строка. Сначала на экран должно быть выведено среднее значение введенного ряда чисел, после этого друг за другом необходимо вывести список чисел ниже среднего, равных ему (если такие\n",
        "найдутся) и выше среднего. Каждый список должен предваряться соответствующим заголовком.\n"
      ],
      "metadata": {
        "id": "IG1nr4e1Qaco"
      }
    },
    {
      "cell_type": "code",
      "source": [
        "# свое решение\n",
        "n = input('Введи целое число(оставь пустым чтобы закончить): ')\n",
        "ls = []\n",
        "\n",
        "while n != '':\n",
        "    ls.append(int(n))\n",
        "    n = input('Введи целое число(оставь пустым чтобы закончить): ')\n",
        "\n",
        "sr_arf = sum(ls) / len(ls)\n",
        "ls_arf = []\n",
        "\n",
        "while sr_arf in ls:\n",
        "    ls_arf.append(ls.pop(ls.index(sr_arf)))\n",
        "ls.append(sr_arf)\n",
        "ls = sorted(ls)\n",
        "ind = ls.index(sr_arf)\n",
        "\n",
        "print(\"средне-арифметическое значение массива чисел: \", sr_arf)\n",
        "print('числа ниже среднего: ', *ls[:ind])\n",
        "if ls_arf != []:\n",
        "    print('числа равные среднему: ', *ls_arf)\n",
        "print('числа выше среднего: ', *ls[ind+1:])\n"
      ],
      "metadata": {
        "id": "7vaJPZhTQaco",
        "colab": {
          "base_uri": "https://localhost:8080/"
        },
        "outputId": "d3decb2b-ed1a-4ce8-b511-6f176fd83bb6"
      },
      "execution_count": null,
      "outputs": [
        {
          "output_type": "stream",
          "name": "stdout",
          "text": [
            "Введи целое число(оставь пустым чтобы закончить): 15\n",
            "Введи целое число(оставь пустым чтобы закончить): 15\n",
            "Введи целое число(оставь пустым чтобы закончить): 10\n",
            "Введи целое число(оставь пустым чтобы закончить): 10\n",
            "Введи целое число(оставь пустым чтобы закончить): 5\n",
            "Введи целое число(оставь пустым чтобы закончить): 5\n",
            "Введи целое число(оставь пустым чтобы закончить): \n",
            "средне-арифметическое значение массива чисел:  10.0\n",
            "числа ниже среднего:  5 5\n",
            "числа равные среднему:  10 10\n",
            "числа выше среднего:  15 15\n"
          ]
        }
      ]
    },
    {
      "cell_type": "markdown",
      "source": [
        "## Задача 6. Решето Эратосфена."
      ],
      "metadata": {
        "id": "cvUlq936Qbub"
      }
    },
    {
      "cell_type": "markdown",
      "source": [
        "**Условие.** Решето Эратосфена – алгоритм, изобретенный более 2000 лет назад и служащий для нахождения всех простых чисел от 2 до некоторого целого числа n. Ваше решение должно начинаться с предложения пользователю ввести число, до которого необходимо вывести простые числа. Описание этого алгоритма приведено ниже.\n",
        "```\n",
        "Выписываем все целые числа от 0 до заданной границы\n",
        "Вычеркиваем 0 и 1 как непростые числа\n",
        "Устанавливаем значение переменной p, равное 2\n",
        "Пока p меньше указанного числа, делать\n",
        " Вычеркиваем все числа, кратные p, но не его само\n",
        " Устанавливаем значение p, равное следующему невычеркнутому числу\n",
        "Выводим все числа, оставшиеся незачеркнутыми\n",
        "```\n",
        "\n",
        "Ценность данного алгоритма заключается в том, что на бумаге очень легко вычеркнуть все числа, кратные определенному. Для компьютера это также не самая сложная задача – с этим может прекрасно справиться инструкция for с третьим параметром, переданным функции range. Мы знаем, что вычеркнутые числа на листочке не являются простыми, но физически они никуда с листа не деваются и должны участвовать в дальнейшем алгоритме. Так что и в компьютерной симуляции не стоит «вычеркивать» элемент путем его удаления из списка – вместо этого лучше\n",
        "будет присвоить ему значение 0. После завершения алгоритма все ненулевые числа в списке и будут простыми.\n",
        "Напишите программу на Python, реализующую указанный выше алгоритм для отображения простых чисел в интервале от двух до значения, введенного пользователем. Если алгоритм будет реализован правильно, ваша программа справится с выводом всех простых чисел от двух до миллиона всего за пару секунд."
      ],
      "metadata": {
        "id": "eONtOCDwQbub"
      }
    },
    {
      "cell_type": "markdown",
      "source": [
        "> **Примечание.** Приведенный в данном упражнении алгоритм поиска простых чисел, названный в честь Эратосфена, был далеко не единственным вкладом греческого математика в науку. Ему также приписывают вычисление длины окружности Земли\n",
        "и градус наклона ее оси. Кроме того, с 235 г. до н. э. он служил хранителем знаменитой Александрийской библиотеки."
      ],
      "metadata": {
        "id": "BUNWREIfWfIW"
      }
    },
    {
      "cell_type": "code",
      "source": [
        "# свое решение\n",
        "\n",
        "n = int(input(\"Введи число, которое послужет границей нахождения всех простых чисел: \"))\n",
        "\n",
        "n_list = [i for i in range(2, n)]\n",
        "\n",
        "for i in range(0, len(n_list) // 2 + 1):\n",
        "    for j in range(0, len(n_list)):\n",
        "        if n_list[j] != 0 and n_list[i] != 0 and n_list[j] != n_list[i] and n_list[j] % n_list[i] == 0:\n",
        "            n_list[j] = 0\n",
        "\n",
        "n_list = sorted(list(set(n_list)))\n",
        "del n_list[0]\n",
        "print(*n_list)\n",
        "\n"
      ],
      "metadata": {
        "id": "qKeEh9AyQbuc",
        "colab": {
          "base_uri": "https://localhost:8080/"
        },
        "outputId": "e9dadb5c-af3e-4e97-9fc9-2d6d78b7d099"
      },
      "execution_count": null,
      "outputs": [
        {
          "output_type": "stream",
          "name": "stdout",
          "text": [
            "Введи число, которое послужет границей нахождения всех простых чисел: 100\n",
            "2 3 5 7 11 13 17 19 23 29 31 37 41 43 47 53 59 61 67 71 73 79 83 89 97\n"
          ]
        }
      ]
    },
    {
      "cell_type": "markdown",
      "source": [
        "## Задача 7. Эрудит."
      ],
      "metadata": {
        "id": "mIKDYrmOQcKR"
      }
    },
    {
      "cell_type": "markdown",
      "source": [
        "**Условие.** В известной игре Эрудит (Scrabble) каждой букве соответствует определенное количество очков. Общая сумма очков, которую получает игрок,\n",
        "составивший это слово, складывается из очков за каждую букву, входящую\n",
        "в его состав. Чем более употребимой является буква в языке, тем меньше\n",
        "очков начисляется за ее использование. Напишите программу, рассчитывающую и отображающую количество очков за собранное слово. Создайте словарь для хранения соответствий между буквами и очками и используйте его в своем решении.\n",
        "Система очков в игре Эрудит:\n",
        "  * 1  - A, E, I, L, N, O, R, S, T и U\n",
        "  * 2  - D и G\n",
        "  * 3  - B, C, M и P\n",
        "  * 4  - F, H, V, W и Y\n",
        "  * 5  - K\n",
        "  * 8  - J и X\n",
        "  * 10 - Q и Z"
      ],
      "metadata": {
        "id": "kCho9pK5YqNx"
      }
    },
    {
      "cell_type": "code",
      "source": [
        "# свое решение\n",
        "s = input('введи слово(англ. язык): ').upper()\n",
        "\n",
        "first = [1, 2, 3, 4, 5, 8, 10]\n",
        "second = [['A', 'E', 'I', 'L', 'N', 'O', 'R', 'S', 'T', 'U'], ['D', 'G'], ['B', 'C', 'M', 'P'], ['F', 'H', 'V', 'W', 'Y'], ['K'], ['J', 'X'], ['Q', 'Z']]\n",
        "\n",
        "new_dict = dict(zip(first, second))\n",
        "counter = 0\n",
        "for i in s:\n",
        "    for j in new_dict:\n",
        "        if i in new_dict[j]:\n",
        "            counter += j\n",
        "            break\n",
        "print(counter, '- получаешь очков за слово')\n",
        "\n"
      ],
      "metadata": {
        "id": "-Fa30-d5Z0Fo",
        "colab": {
          "base_uri": "https://localhost:8080/"
        },
        "outputId": "7ba597a3-0916-4f43-bd86-bf655453a3a7"
      },
      "execution_count": null,
      "outputs": [
        {
          "output_type": "stream",
          "name": "stdout",
          "text": [
            "введи слово(англ. язык): fallen\n",
            "9 - получаешь очков за слово\n"
          ]
        }
      ]
    }
  ]
}